{
 "cells": [
  {
   "cell_type": "code",
   "execution_count": 1,
   "id": "extensive-syntax",
   "metadata": {},
   "outputs": [],
   "source": [
    "from pymatgen.core import Structure\n",
    "from pymatgen.transformations.standard_transformations import OrderDisorderedStructureTransformation\n",
    "from pymatgen.transformations.standard_transformations import OxidationStateDecorationTransformation\n",
    "from pymatgen.transformations.standard_transformations import SubstitutionTransformation, AutoOxiStateDecorationTransformation\n",
    "from pymatgen.transformations.standard_transformations import OrderDisorderedStructureTransformation\n",
    "from pymatgen.transformations.standard_transformations import SubstitutionTransformation, AutoOxiStateDecorationTransformation\n",
    "import os\n",
    "os.chdir('./')"
   ]
  },
  {
   "cell_type": "code",
   "execution_count": 2,
   "id": "compressed-clinic",
   "metadata": {},
   "outputs": [],
   "source": [
    "structure = Structure.from_file('NaNiF3.cif')"
   ]
  },
  {
   "cell_type": "code",
   "execution_count": 3,
   "id": "corporate-controversy",
   "metadata": {},
   "outputs": [
    {
     "name": "stdout",
     "output_type": "stream",
     "text": [
      "Full Formula (Na4 Ni4 F12)\n",
      "Reduced Formula: NaNiF3\n",
      "abc   :   5.529000   7.695000   5.369000\n",
      "angles:  90.000000  90.000000  90.000000\n",
      "pbc   :       True       True       True\n",
      "Sites (20)\n",
      "  #  SP         a       b       c\n",
      "---  ----  ------  ------  ------\n",
      "  0  Na+   0.5525  0.25    0.5163\n",
      "  1  Na+   0.0525  0.25    0.9837\n",
      "  2  Na+   0.4475  0.75    0.4837\n",
      "  3  Na+   0.9475  0.75    0.0163\n",
      "  4  Ni2+  0       0.5     0.5\n",
      "  5  Ni2+  0.5     0       0\n",
      "  6  Ni2+  0       0       0.5\n",
      "  7  Ni2+  0.5     0.5     0\n",
      "  8  F-    0.9706  0.25    0.4003\n",
      "  9  F-    0.4706  0.25    0.0997\n",
      " 10  F-    0.0294  0.75    0.5997\n",
      " 11  F-    0.5294  0.75    0.9003\n",
      " 12  F-    0.7019  0.5484  0.3069\n",
      " 13  F-    0.2019  0.9516  0.1931\n",
      " 14  F-    0.2981  0.0484  0.6931\n",
      " 15  F-    0.7981  0.4516  0.8069\n",
      " 16  F-    0.2981  0.4516  0.6931\n",
      " 17  F-    0.7981  0.0484  0.8069\n",
      " 18  F-    0.7019  0.9516  0.3069\n",
      " 19  F-    0.2019  0.5484  0.1931\n"
     ]
    }
   ],
   "source": [
    "s1 = structure.copy()\n",
    "\n",
    "print(s1)"
   ]
  },
  {
   "cell_type": "code",
   "execution_count": 4,
   "id": "115e4162",
   "metadata": {},
   "outputs": [
    {
     "name": "stdout",
     "output_type": "stream",
     "text": [
      "Full Formula (Na4 Ni4 F12)\n",
      "Reduced Formula: NaNiF3\n",
      "abc   :   5.529000   7.695000   5.369000\n",
      "angles:  90.000000  90.000000  90.000000\n",
      "pbc   :       True       True       True\n",
      "Sites (20)\n",
      "  #  SP            a       b       c\n",
      "---  -------  ------  ------  ------\n",
      "  0  Na+      0.5525  0.25    0.5163\n",
      "  1  Na+      0.0525  0.25    0.9837\n",
      "  2  Na+      0.4475  0.75    0.4837\n",
      "  3  Na+      0.9475  0.75    0.0163\n",
      "  4  Ni2.25+  0       0.5     0.5\n",
      "  5  Ni2.25+  0.5     0       0\n",
      "  6  Ni2.25+  0       0       0.5\n",
      "  7  Ni2.25+  0.5     0.5     0\n",
      "  8  F-       0.9706  0.25    0.4003\n",
      "  9  F-       0.4706  0.25    0.0997\n",
      " 10  F-       0.0294  0.75    0.5997\n",
      " 11  F-       0.5294  0.75    0.9003\n",
      " 12  F-       0.7019  0.5484  0.3069\n",
      " 13  F-       0.2019  0.9516  0.1931\n",
      " 14  F-       0.2981  0.0484  0.6931\n",
      " 15  F-       0.7981  0.4516  0.8069\n",
      " 16  F-       0.2981  0.4516  0.6931\n",
      " 17  F-       0.7981  0.0484  0.8069\n",
      " 18  F-       0.7019  0.9516  0.3069\n",
      " 19  F-       0.2019  0.5484  0.1931\n"
     ]
    }
   ],
   "source": [
    "s1.replace_species({('Ni2+'):('Ni2.25+')})\n",
    "\n",
    "s2 = s1.copy()\n",
    "print(s2)"
   ]
  },
  {
   "cell_type": "code",
   "execution_count": 5,
   "id": "54b44219",
   "metadata": {},
   "outputs": [
    {
     "name": "stdout",
     "output_type": "stream",
     "text": [
      "Full Formula (Na3 Ni4 F12)\n",
      "Reduced Formula: Na3Ni4F12\n",
      "abc   :   5.529000   7.695000   5.369000\n",
      "angles:  90.000000  90.000000  90.000000\n",
      "pbc   :       True       True       True\n",
      "Sites (20)\n",
      "  #  SP              a       b       c\n",
      "---  ---------  ------  ------  ------\n",
      "  0  Na+:0.750  0.5525  0.25    0.5163\n",
      "  1  Na+:0.750  0.0525  0.25    0.9837\n",
      "  2  Na+:0.750  0.4475  0.75    0.4837\n",
      "  3  Na+:0.750  0.9475  0.75    0.0163\n",
      "  4  Ni2.25+    0       0.5     0.5\n",
      "  5  Ni2.25+    0.5     0       0\n",
      "  6  Ni2.25+    0       0       0.5\n",
      "  7  Ni2.25+    0.5     0.5     0\n",
      "  8  F-         0.9706  0.25    0.4003\n",
      "  9  F-         0.4706  0.25    0.0997\n",
      " 10  F-         0.0294  0.75    0.5997\n",
      " 11  F-         0.5294  0.75    0.9003\n",
      " 12  F-         0.7019  0.5484  0.3069\n",
      " 13  F-         0.2019  0.9516  0.1931\n",
      " 14  F-         0.2981  0.0484  0.6931\n",
      " 15  F-         0.7981  0.4516  0.8069\n",
      " 16  F-         0.2981  0.4516  0.6931\n",
      " 17  F-         0.7981  0.0484  0.8069\n",
      " 18  F-         0.7019  0.9516  0.3069\n",
      " 19  F-         0.2019  0.5484  0.1931\n"
     ]
    }
   ],
   "source": [
    "trans0 = SubstitutionTransformation({'Na+':{'Na+':0.75}})\n",
    "s3 = trans0.apply_transformation(s2)\n",
    "s4 = s3.copy()\n",
    "print(s4)"
   ]
  },
  {
   "cell_type": "code",
   "execution_count": 6,
   "id": "ef3efd0a",
   "metadata": {},
   "outputs": [
    {
     "name": "stderr",
     "output_type": "stream",
     "text": [
      "/home/dereje/anaconda3/lib/python3.10/site-packages/pymatgen/core/periodic_table.py:1052: UserWarning: Use of properties is now deprecated. Set the spin by setting the spin arg instead.\n",
      "  warnings.warn(\"Use of properties is now deprecated. Set the spin by setting the spin arg instead.\")\n"
     ]
    }
   ],
   "source": [
    "from pymatgen.alchemy.transmuters import StandardTransmuter\n",
    "trans = OrderDisorderedStructureTransformation()\n",
    "transmuter = StandardTransmuter.from_structures([s4],transformations=[trans], extend_collection=10000)"
   ]
  },
  {
   "cell_type": "code",
   "execution_count": 7,
   "id": "0a153cdd",
   "metadata": {},
   "outputs": [
    {
     "name": "stdout",
     "output_type": "stream",
     "text": [
      "4\n"
     ]
    }
   ],
   "source": [
    "print(len(transmuter))"
   ]
  },
  {
   "cell_type": "code",
   "execution_count": 8,
   "id": "c9afb9ea",
   "metadata": {},
   "outputs": [],
   "source": [
    "from pymatgen.alchemy.filters import RemoveDuplicatesFilter\n",
    "fil = RemoveDuplicatesFilter(symprec=1e-5)\n",
    "transmuter.apply_filter(fil)"
   ]
  },
  {
   "cell_type": "code",
   "execution_count": 9,
   "id": "6ea0c7e9",
   "metadata": {},
   "outputs": [
    {
     "name": "stdout",
     "output_type": "stream",
     "text": [
      "1\n"
     ]
    }
   ],
   "source": [
    "print(len(transmuter))"
   ]
  },
  {
   "cell_type": "code",
   "execution_count": 10,
   "id": "ddb74274",
   "metadata": {},
   "outputs": [
    {
     "name": "stdout",
     "output_type": "stream",
     "text": [
      "Current structures\n",
      "------------\n",
      "Full Formula (Na3 Ni4 F12)\n",
      "Reduced Formula: Na3Ni4F12\n",
      "abc   :   5.529000   7.695000   5.369000\n",
      "angles:  90.000000  90.000000  90.000000\n",
      "pbc   :       True       True       True\n",
      "Sites (19)\n",
      "  #  SP            a       b       c\n",
      "---  -------  ------  ------  ------\n",
      "  0  Na+      0.5525  0.25    0.5163\n",
      "  1  Na+      0.4475  0.75    0.4837\n",
      "  2  Na+      0.9475  0.75    0.0163\n",
      "  3  Ni2.25+  0       0.5     0.5\n",
      "  4  Ni2.25+  0.5     0       0\n",
      "  5  Ni2.25+  0       0       0.5\n",
      "  6  Ni2.25+  0.5     0.5     0\n",
      "  7  F-       0.9706  0.25    0.4003\n",
      "  8  F-       0.4706  0.25    0.0997\n",
      "  9  F-       0.0294  0.75    0.5997\n",
      " 10  F-       0.5294  0.75    0.9003\n",
      " 11  F-       0.7019  0.5484  0.3069\n",
      " 12  F-       0.2019  0.9516  0.1931\n",
      " 13  F-       0.2981  0.0484  0.6931\n",
      " 14  F-       0.7981  0.4516  0.8069\n",
      " 15  F-       0.2981  0.4516  0.6931\n",
      " 16  F-       0.7981  0.0484  0.8069\n",
      " 17  F-       0.7019  0.9516  0.3069\n",
      " 18  F-       0.2019  0.5484  0.1931\n"
     ]
    }
   ],
   "source": [
    "print(transmuter)"
   ]
  },
  {
   "cell_type": "code",
   "execution_count": 11,
   "id": "38e31f6d",
   "metadata": {},
   "outputs": [],
   "source": [
    "for i in range(0,len(transmuter)):\n",
    "    s = transmuter.transformed_structures[i]\n",
    "    s.to(fmt='poscar', filename=\"POSCAR.\"+str(i))"
   ]
  },
  {
   "cell_type": "code",
   "execution_count": null,
   "id": "25e03b7e",
   "metadata": {},
   "outputs": [],
   "source": []
  }
 ],
 "metadata": {
  "kernelspec": {
   "display_name": "Python 3 (ipykernel)",
   "language": "python",
   "name": "python3"
  },
  "language_info": {
   "codemirror_mode": {
    "name": "ipython",
    "version": 3
   },
   "file_extension": ".py",
   "mimetype": "text/x-python",
   "name": "python",
   "nbconvert_exporter": "python",
   "pygments_lexer": "ipython3",
   "version": "3.10.9"
  }
 },
 "nbformat": 4,
 "nbformat_minor": 5
}
