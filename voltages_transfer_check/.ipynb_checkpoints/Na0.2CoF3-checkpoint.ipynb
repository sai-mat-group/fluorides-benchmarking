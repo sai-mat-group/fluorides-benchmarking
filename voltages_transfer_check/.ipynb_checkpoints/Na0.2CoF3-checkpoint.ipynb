{
 "cells": [
  {
   "cell_type": "code",
   "execution_count": 1,
   "id": "extensive-syntax",
   "metadata": {},
   "outputs": [],
   "source": [
    "from pymatgen.core import Structure\n",
    "from pymatgen.transformations.standard_transformations import OrderDisorderedStructureTransformation\n",
    "from pymatgen.transformations.standard_transformations import OxidationStateDecorationTransformation\n",
    "from pymatgen.transformations.standard_transformations import SubstitutionTransformation, AutoOxiStateDecorationTransformation\n",
    "from pymatgen.transformations.standard_transformations import OrderDisorderedStructureTransformation\n",
    "from pymatgen.transformations.standard_transformations import SubstitutionTransformation, AutoOxiStateDecorationTransformation\n",
    "import os\n",
    "os.chdir('./')"
   ]
  },
  {
   "cell_type": "code",
   "execution_count": 2,
   "id": "compressed-clinic",
   "metadata": {},
   "outputs": [],
   "source": [
    "structure = Structure.from_file('NaCoF3.cif')"
   ]
  },
  {
   "cell_type": "code",
   "execution_count": 3,
   "id": "corporate-controversy",
   "metadata": {},
   "outputs": [
    {
     "name": "stdout",
     "output_type": "stream",
     "text": [
      "Full Formula (Na4 Co4 F12)\n",
      "Reduced Formula: NaCoF3\n",
      "abc   :   5.607000   7.790000   5.428000\n",
      "angles:  90.000000  90.000000  90.000000\n",
      "pbc   :       True       True       True\n",
      "Sites (20)\n",
      "  #  SP         a       b       c\n",
      "---  ----  ------  ------  ------\n",
      "  0  Na+   0.5481  0.25    0.5169\n",
      "  1  Na+   0.0481  0.25    0.9831\n",
      "  2  Na+   0.4519  0.75    0.4831\n",
      "  3  Na+   0.9519  0.75    0.0169\n",
      "  4  Co2+  0       0.5     0.5\n",
      "  5  Co2+  0.5     0       0\n",
      "  6  Co2+  0       0       0.5\n",
      "  7  Co2+  0.5     0.5     0\n",
      "  8  F-    0.9552  0.25    0.4026\n",
      "  9  F-    0.4552  0.25    0.0974\n",
      " 10  F-    0.0448  0.75    0.5974\n",
      " 11  F-    0.5448  0.75    0.9026\n",
      " 12  F-    0.6994  0.5584  0.3066\n",
      " 13  F-    0.1994  0.9416  0.1934\n",
      " 14  F-    0.3006  0.0584  0.6934\n",
      " 15  F-    0.8006  0.4416  0.8066\n",
      " 16  F-    0.3006  0.4416  0.6934\n",
      " 17  F-    0.8006  0.0584  0.8066\n",
      " 18  F-    0.6994  0.9416  0.3066\n",
      " 19  F-    0.1994  0.5584  0.1934\n"
     ]
    }
   ],
   "source": [
    "s1 = structure.copy()\n",
    "\n",
    "print(s1)"
   ]
  },
  {
   "cell_type": "code",
   "execution_count": 4,
   "id": "divided-parallel",
   "metadata": {},
   "outputs": [
    {
     "name": "stdout",
     "output_type": "stream",
     "text": [
      "Full Formula (Na4 Co4 F12)\n",
      "Reduced Formula: NaCoF3\n",
      "abc   :   5.607000   7.790000   5.428000\n",
      "angles:  90.000000  90.000000  90.000000\n",
      "pbc   :       True       True       True\n",
      "Sites (20)\n",
      "  #  SP           a       b       c\n",
      "---  ------  ------  ------  ------\n",
      "  0  Na+     0.5481  0.25    0.5169\n",
      "  1  Na+     0.0481  0.25    0.9831\n",
      "  2  Na+     0.4519  0.75    0.4831\n",
      "  3  Na+     0.9519  0.75    0.0169\n",
      "  4  Co2.8+  0       0.5     0.5\n",
      "  5  Co2.8+  0.5     0       0\n",
      "  6  Co2.8+  0       0       0.5\n",
      "  7  Co2.8+  0.5     0.5     0\n",
      "  8  F-      0.9552  0.25    0.4026\n",
      "  9  F-      0.4552  0.25    0.0974\n",
      " 10  F-      0.0448  0.75    0.5974\n",
      " 11  F-      0.5448  0.75    0.9026\n",
      " 12  F-      0.6994  0.5584  0.3066\n",
      " 13  F-      0.1994  0.9416  0.1934\n",
      " 14  F-      0.3006  0.0584  0.6934\n",
      " 15  F-      0.8006  0.4416  0.8066\n",
      " 16  F-      0.3006  0.4416  0.6934\n",
      " 17  F-      0.8006  0.0584  0.8066\n",
      " 18  F-      0.6994  0.9416  0.3066\n",
      " 19  F-      0.1994  0.5584  0.1934\n"
     ]
    }
   ],
   "source": [
    "s1.replace_species({('Co2+'):('Co2.8+')})\n",
    "\n",
    "\n",
    "s2 = s1.copy()\n",
    "print(s2)"
   ]
  },
  {
   "cell_type": "code",
   "execution_count": 43,
   "id": "cd4ebcf1",
   "metadata": {},
   "outputs": [
    {
     "name": "stdout",
     "output_type": "stream",
     "text": [
      "Full Formula (Ca8 Co8 F28)\n",
      "Reduced Formula: Ca2Co2F7\n",
      "abc   :   7.203000  10.256000   7.429000\n",
      "angles:  90.000000  90.000000  90.000000\n",
      "Sites (44)\n",
      "  #  SP        a      b      c\n",
      "---  ----  -----  -----  -----\n",
      "  0  Ca2+  0      0.5    0\n",
      "  1  Ca2+  0      0      0\n",
      "  2  Ca2+  0.5    0      0.5\n",
      "  3  Ca2+  0.5    0.5    0.5\n",
      "  4  Ca2+  0.75   0.75   0.25\n",
      "  5  Ca2+  0.75   0.25   0.75\n",
      "  6  Ca2+  0.25   0.25   0.75\n",
      "  7  Ca2+  0.25   0.75   0.25\n",
      "  8  Co3+  0      0.5    0.5\n",
      "  9  Co3+  0      0      0.5\n",
      " 10  Co3+  0.5    0      0\n",
      " 11  Co3+  0.5    0.5    0\n",
      " 12  Co2+  0.75   0.75   0.75\n",
      " 13  Co2+  0.75   0.25   0.25\n",
      " 14  Co2+  0.25   0.25   0.25\n",
      " 15  Co2+  0.25   0.75   0.75\n",
      " 16  F-    0      0.75   0.854\n",
      " 17  F-    0      0.25   0.146\n",
      " 18  F-    0.5    0.25   0.354\n",
      " 19  F-    0.5    0.75   0.646\n",
      " 20  F-    0      0.916  0.266\n",
      " 21  F-    0      0.084  0.734\n",
      " 22  F-    0      0.416  0.734\n",
      " 23  F-    0      0.584  0.266\n",
      " 24  F-    0.5    0.416  0.766\n",
      " 25  F-    0.5    0.584  0.234\n",
      " 26  F-    0.5    0.916  0.234\n",
      " 27  F-    0.5    0.084  0.766\n",
      " 28  F-    0.804  0.876  0.572\n",
      " 29  F-    0.804  0.124  0.428\n",
      " 30  F-    0.804  0.376  0.428\n",
      " 31  F-    0.804  0.624  0.572\n",
      " 32  F-    0.196  0.124  0.428\n",
      " 33  F-    0.196  0.876  0.572\n",
      " 34  F-    0.196  0.624  0.572\n",
      " 35  F-    0.196  0.376  0.428\n",
      " 36  F-    0.304  0.376  0.072\n",
      " 37  F-    0.304  0.624  0.928\n",
      " 38  F-    0.304  0.876  0.928\n",
      " 39  F-    0.304  0.124  0.072\n",
      " 40  F-    0.696  0.624  0.928\n",
      " 41  F-    0.696  0.376  0.072\n",
      " 42  F-    0.696  0.124  0.072\n",
      " 43  F-    0.696  0.876  0.928\n"
     ]
    }
   ],
   "source": [
    "s2.replace_species({('Na+'):('Ca2+')})\n",
    "s3 = s2.copy()\n",
    "print(s3)"
   ]
  },
  {
   "cell_type": "code",
   "execution_count": 44,
   "id": "b26a4b20",
   "metadata": {},
   "outputs": [],
   "source": [
    "from pymatgen.analysis.structure_prediction.volume_predictor import RLSVolumePredictor\n",
    "p = RLSVolumePredictor(radii_type=\"atomic\")\n",
    "s4= p.get_predicted_structure(s3,structure)"
   ]
  },
  {
   "cell_type": "code",
   "execution_count": 45,
   "id": "53eab958",
   "metadata": {},
   "outputs": [],
   "source": [
    "s4.replace_species({('Co3+'):('Co2+')})"
   ]
  },
  {
   "cell_type": "code",
   "execution_count": 46,
   "id": "ef976273",
   "metadata": {},
   "outputs": [
    {
     "name": "stdout",
     "output_type": "stream",
     "text": [
      "Full Formula (Ca4 Co4 F14)\n",
      "Reduced Formula: Ca2Co2F7\n",
      "abc   :   7.142717   7.223586   7.223586\n",
      "angles:  61.316294  60.369648  60.369648\n",
      "Sites (22)\n",
      "  #  SP        a      b      c\n",
      "---  ----  -----  -----  -----\n",
      "  0  Ca2+  0.5    0.5    0.5\n",
      "  1  Ca2+  0      0      0\n",
      "  2  Ca2+  0      1      0.5\n",
      "  3  Ca2+  0.5    0      0.5\n",
      "  4  Co2+  0.5    0      0\n",
      "  5  Co2+  0      0.5    0.5\n",
      "  6  Co2+  0      0.5    0\n",
      "  7  Co2+  0.5    0.5    1\n",
      "  8  F-    0.75   0.396  0.104\n",
      "  9  F-    0.25   0.604  0.896\n",
      " 10  F-    0.916  0.818  0.35\n",
      " 11  F-    0.084  0.182  0.65\n",
      " 12  F-    0.416  0.85   0.318\n",
      " 13  F-    0.584  0.15   0.682\n",
      " 14  F-    0.072  0.552  0.696\n",
      " 15  F-    0.32   0.448  0.304\n",
      " 16  F-    0.572  0.196  0.052\n",
      " 17  F-    0.82   0.804  0.948\n",
      " 18  F-    0.928  0.448  0.304\n",
      " 19  F-    0.68   0.552  0.696\n",
      " 20  F-    0.428  0.804  0.948\n",
      " 21  F-    0.18   0.196  0.052\n"
     ]
    }
   ],
   "source": [
    "from pymatgen.core.composition import Composition\n",
    "from pymatgen.core.lattice import Lattice\n",
    "from pymatgen.core.operations import SymmOp\n",
    "from pymatgen.core.periodic_table import Element, Species\n",
    "from pymatgen.core.structure import (\n",
    "    IMolecule,\n",
    "    IStructure,\n",
    "    Molecule,\n",
    "    Structure,\n",
    "    StructureError,\n",
    ")\n",
    "\n",
    "s5 = s4.get_primitive_structure()\n",
    "print(s5)"
   ]
  },
  {
   "cell_type": "code",
   "execution_count": 47,
   "id": "ea81a859",
   "metadata": {},
   "outputs": [
    {
     "name": "stdout",
     "output_type": "stream",
     "text": [
      "Full Formula (Ca3 Co4 F14)\n",
      "Reduced Formula: Ca3Co4F14\n",
      "abc   :   7.142717   7.223586   7.223586\n",
      "angles:  61.316294  60.369648  60.369648\n",
      "Sites (22)\n",
      "  #  SP              a      b      c\n",
      "---  ----------  -----  -----  -----\n",
      "  0  Ca2+:0.750  0.5    0.5    0.5\n",
      "  1  Ca2+:0.750  0      0      0\n",
      "  2  Ca2+:0.750  0      1      0.5\n",
      "  3  Ca2+:0.750  0.5    0      0.5\n",
      "  4  Co2+        0.5    0      0\n",
      "  5  Co2+        0      0.5    0.5\n",
      "  6  Co2+        0      0.5    0\n",
      "  7  Co2+        0.5    0.5    1\n",
      "  8  F-          0.75   0.396  0.104\n",
      "  9  F-          0.25   0.604  0.896\n",
      " 10  F-          0.916  0.818  0.35\n",
      " 11  F-          0.084  0.182  0.65\n",
      " 12  F-          0.416  0.85   0.318\n",
      " 13  F-          0.584  0.15   0.682\n",
      " 14  F-          0.072  0.552  0.696\n",
      " 15  F-          0.32   0.448  0.304\n",
      " 16  F-          0.572  0.196  0.052\n",
      " 17  F-          0.82   0.804  0.948\n",
      " 18  F-          0.928  0.448  0.304\n",
      " 19  F-          0.68   0.552  0.696\n",
      " 20  F-          0.428  0.804  0.948\n",
      " 21  F-          0.18   0.196  0.052\n"
     ]
    }
   ],
   "source": [
    "trans0 = SubstitutionTransformation({'Ca2+':{'Ca2+':float(3/4)}})\n",
    "s6 = trans0.apply_transformation(s5)\n",
    "s7 = s6.copy()\n",
    "print(s7)"
   ]
  },
  {
   "cell_type": "code",
   "execution_count": 48,
   "id": "ef3efd0a",
   "metadata": {},
   "outputs": [],
   "source": [
    "from pymatgen.alchemy.transmuters import StandardTransmuter\n",
    "trans = OrderDisorderedStructureTransformation()\n",
    "transmuter = StandardTransmuter.from_structures([s7],transformations=[trans], extend_collection=10000)"
   ]
  },
  {
   "cell_type": "code",
   "execution_count": 49,
   "id": "0a153cdd",
   "metadata": {},
   "outputs": [
    {
     "name": "stdout",
     "output_type": "stream",
     "text": [
      "4\n"
     ]
    }
   ],
   "source": [
    "print(len(transmuter))"
   ]
  },
  {
   "cell_type": "code",
   "execution_count": 50,
   "id": "c9afb9ea",
   "metadata": {},
   "outputs": [],
   "source": [
    "from pymatgen.alchemy.filters import RemoveDuplicatesFilter\n",
    "fil = RemoveDuplicatesFilter(symprec=1e-5)\n",
    "transmuter.apply_filter(fil)"
   ]
  },
  {
   "cell_type": "code",
   "execution_count": 51,
   "id": "6ea0c7e9",
   "metadata": {},
   "outputs": [
    {
     "name": "stdout",
     "output_type": "stream",
     "text": [
      "2\n"
     ]
    }
   ],
   "source": [
    "print(len(transmuter))"
   ]
  },
  {
   "cell_type": "code",
   "execution_count": 52,
   "id": "38e31f6d",
   "metadata": {},
   "outputs": [],
   "source": [
    "for i in range(0,len(transmuter)):\n",
    "    s = transmuter.transformed_structures[i]\n",
    "    s.to(fmt='poscar', filename=\"POSCAR.\"+str(i))"
   ]
  },
  {
   "cell_type": "code",
   "execution_count": null,
   "id": "25e03b7e",
   "metadata": {},
   "outputs": [],
   "source": []
  }
 ],
 "metadata": {
  "kernelspec": {
   "display_name": "Python 3 (ipykernel)",
   "language": "python",
   "name": "python3"
  },
  "language_info": {
   "codemirror_mode": {
    "name": "ipython",
    "version": 3
   },
   "file_extension": ".py",
   "mimetype": "text/x-python",
   "name": "python",
   "nbconvert_exporter": "python",
   "pygments_lexer": "ipython3",
   "version": "3.10.9"
  }
 },
 "nbformat": 4,
 "nbformat_minor": 5
}
