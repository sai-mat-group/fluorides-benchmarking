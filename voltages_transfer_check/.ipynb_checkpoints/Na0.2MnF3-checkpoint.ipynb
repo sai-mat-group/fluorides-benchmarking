{
 "cells": [
  {
   "cell_type": "code",
   "execution_count": 2,
   "id": "extensive-syntax",
   "metadata": {},
   "outputs": [],
   "source": [
    "from pymatgen.core import Structure\n",
    "from pymatgen.transformations.standard_transformations import OrderDisorderedStructureTransformation\n",
    "from pymatgen.transformations.standard_transformations import OxidationStateDecorationTransformation\n",
    "from pymatgen.transformations.standard_transformations import SubstitutionTransformation, AutoOxiStateDecorationTransformation\n",
    "from pymatgen.transformations.standard_transformations import OrderDisorderedStructureTransformation\n",
    "from pymatgen.transformations.standard_transformations import SubstitutionTransformation, AutoOxiStateDecorationTransformation\n",
    "import os\n",
    "os.chdir('./')"
   ]
  },
  {
   "cell_type": "code",
   "execution_count": 3,
   "id": "compressed-clinic",
   "metadata": {},
   "outputs": [],
   "source": [
    "structure = Structure.from_file('NaMnF3.cif')"
   ]
  },
  {
   "cell_type": "code",
   "execution_count": 4,
   "id": "corporate-controversy",
   "metadata": {},
   "outputs": [
    {
     "name": "stdout",
     "output_type": "stream",
     "text": [
      "Full Formula (Na4 Mn4 F12)\n",
      "Reduced Formula: NaMnF3\n",
      "abc   :   5.747000   8.004000   5.548000\n",
      "angles:  90.000000  90.000000  90.000000\n",
      "pbc   :       True       True       True\n",
      "Sites (20)\n",
      "  #  SP         a       b       c\n",
      "---  ----  ------  ------  ------\n",
      "  0  Na+   0.5532  0.25    0.4926\n",
      "  1  Na+   0.0532  0.25    0.0074\n",
      "  2  Na+   0.4468  0.75    0.5074\n",
      "  3  Na+   0.9468  0.75    0.9926\n",
      "  4  Mn2+  0       0.5     0.5\n",
      "  5  Mn2+  0.5     0       0\n",
      "  6  Mn2+  0       0       0.5\n",
      "  7  Mn2+  0.5     0.5     0\n",
      "  8  F-    0.9466  0.25    0.3792\n",
      "  9  F-    0.4466  0.25    0.1208\n",
      " 10  F-    0.0534  0.75    0.6208\n",
      " 11  F-    0.5534  0.75    0.8792\n",
      " 12  F-    0.6935  0.5578  0.3124\n",
      " 13  F-    0.1935  0.9422  0.1876\n",
      " 14  F-    0.3065  0.0578  0.6876\n",
      " 15  F-    0.8065  0.4422  0.8124\n",
      " 16  F-    0.3065  0.4422  0.6876\n",
      " 17  F-    0.8065  0.0578  0.8124\n",
      " 18  F-    0.6935  0.9422  0.3124\n",
      " 19  F-    0.1935  0.5578  0.1876\n"
     ]
    }
   ],
   "source": [
    "s1 = structure.copy()\n",
    "\n",
    "print(s1)"
   ]
  },
  {
   "cell_type": "code",
   "execution_count": 5,
   "id": "divided-parallel",
   "metadata": {},
   "outputs": [
    {
     "name": "stdout",
     "output_type": "stream",
     "text": [
      "Full Formula (Na4 Co4 F12)\n",
      "Reduced Formula: NaCoF3\n",
      "abc   :   5.747000   8.004000   5.548000\n",
      "angles:  90.000000  90.000000  90.000000\n",
      "pbc   :       True       True       True\n",
      "Sites (20)\n",
      "  #  SP            a       b       c\n",
      "---  -------  ------  ------  ------\n",
      "  0  Na+      0.5532  0.25    0.4926\n",
      "  1  Na+      0.0532  0.25    0.0074\n",
      "  2  Na+      0.4468  0.75    0.5074\n",
      "  3  Na+      0.9468  0.75    0.9926\n",
      "  4  Co2.73+  0       0.5     0.5\n",
      "  5  Co2.73+  0.5     0       0\n",
      "  6  Co2.73+  0       0       0.5\n",
      "  7  Co2.73+  0.5     0.5     0\n",
      "  8  F-       0.9466  0.25    0.3792\n",
      "  9  F-       0.4466  0.25    0.1208\n",
      " 10  F-       0.0534  0.75    0.6208\n",
      " 11  F-       0.5534  0.75    0.8792\n",
      " 12  F-       0.6935  0.5578  0.3124\n",
      " 13  F-       0.1935  0.9422  0.1876\n",
      " 14  F-       0.3065  0.0578  0.6876\n",
      " 15  F-       0.8065  0.4422  0.8124\n",
      " 16  F-       0.3065  0.4422  0.6876\n",
      " 17  F-       0.8065  0.0578  0.8124\n",
      " 18  F-       0.6935  0.9422  0.3124\n",
      " 19  F-       0.1935  0.5578  0.1876\n"
     ]
    }
   ],
   "source": [
    "s1.replace_species({('Mn2+'):('Co2.73+')})\n",
    "\n",
    "\n",
    "s2 = s1.copy()\n",
    "print(s2)"
   ]
  },
  {
   "cell_type": "code",
   "execution_count": 5,
   "id": "54b44219",
   "metadata": {},
   "outputs": [
    {
     "name": "stdout",
     "output_type": "stream",
     "text": [
      "Full Formula (Na0.8 Co4 F12)\n",
      "Reduced Formula: Na0.8Co4F12\n",
      "abc   :   5.607000   7.790000   5.428000\n",
      "angles:  90.000000  90.000000  90.000000\n",
      "pbc   :       True       True       True\n",
      "Sites (20)\n",
      "  #  SP              a       b       c\n",
      "---  ---------  ------  ------  ------\n",
      "  0  Na+:0.200  0.5481  0.25    0.5169\n",
      "  1  Na+:0.200  0.0481  0.25    0.9831\n",
      "  2  Na+:0.200  0.4519  0.75    0.4831\n",
      "  3  Na+:0.200  0.9519  0.75    0.0169\n",
      "  4  Co2.8+     0       0.5     0.5\n",
      "  5  Co2.8+     0.5     0       0\n",
      "  6  Co2.8+     0       0       0.5\n",
      "  7  Co2.8+     0.5     0.5     0\n",
      "  8  F-         0.9552  0.25    0.4026\n",
      "  9  F-         0.4552  0.25    0.0974\n",
      " 10  F-         0.0448  0.75    0.5974\n",
      " 11  F-         0.5448  0.75    0.9026\n",
      " 12  F-         0.6994  0.5584  0.3066\n",
      " 13  F-         0.1994  0.9416  0.1934\n",
      " 14  F-         0.3006  0.0584  0.6934\n",
      " 15  F-         0.8006  0.4416  0.8066\n",
      " 16  F-         0.3006  0.4416  0.6934\n",
      " 17  F-         0.8006  0.0584  0.8066\n",
      " 18  F-         0.6994  0.9416  0.3066\n",
      " 19  F-         0.1994  0.5584  0.1934\n"
     ]
    }
   ],
   "source": [
    "trans0 = SubstitutionTransformation({'Na+':{'Na+':0.2}})\n",
    "s3 = trans0.apply_transformation(s2)\n",
    "s4 = s3.copy()\n",
    "print(s4)"
   ]
  },
  {
   "cell_type": "code",
   "execution_count": 6,
   "id": "ef3efd0a",
   "metadata": {},
   "outputs": [
    {
     "name": "stderr",
     "output_type": "stream",
     "text": [
      "/home/dereje/anaconda3/lib/python3.10/site-packages/pymatgen/core/periodic_table.py:1052: UserWarning: Use of properties is now deprecated. Set the spin by setting the spin arg instead.\n",
      "  warnings.warn(\"Use of properties is now deprecated. Set the spin by setting the spin arg instead.\")\n"
     ]
    }
   ],
   "source": [
    "from pymatgen.alchemy.transmuters import StandardTransmuter\n",
    "trans = OrderDisorderedStructureTransformation()\n",
    "transmuter = StandardTransmuter.from_structures([s4],transformations=[trans], extend_collection=10000)"
   ]
  },
  {
   "cell_type": "code",
   "execution_count": 7,
   "id": "0a153cdd",
   "metadata": {},
   "outputs": [
    {
     "name": "stdout",
     "output_type": "stream",
     "text": [
      "4\n"
     ]
    }
   ],
   "source": [
    "print(len(transmuter))"
   ]
  },
  {
   "cell_type": "code",
   "execution_count": 8,
   "id": "c9afb9ea",
   "metadata": {},
   "outputs": [],
   "source": [
    "from pymatgen.alchemy.filters import RemoveDuplicatesFilter\n",
    "fil = RemoveDuplicatesFilter(symprec=1e-5)\n",
    "transmuter.apply_filter(fil)"
   ]
  },
  {
   "cell_type": "code",
   "execution_count": 9,
   "id": "6ea0c7e9",
   "metadata": {},
   "outputs": [
    {
     "name": "stdout",
     "output_type": "stream",
     "text": [
      "1\n"
     ]
    }
   ],
   "source": [
    "print(len(transmuter))"
   ]
  },
  {
   "cell_type": "code",
   "execution_count": 10,
   "id": "ddb74274",
   "metadata": {},
   "outputs": [
    {
     "name": "stdout",
     "output_type": "stream",
     "text": [
      "Current structures\n",
      "------------\n",
      "Full Formula (Na1 Co4 F12)\n",
      "Reduced Formula: NaCo4F12\n",
      "abc   :   5.607000   7.790000   5.428000\n",
      "angles:  90.000000  90.000000  90.000000\n",
      "pbc   :       True       True       True\n",
      "Sites (17)\n",
      "  #  SP           a       b       c\n",
      "---  ------  ------  ------  ------\n",
      "  0  Na+     0.9519  0.75    0.0169\n",
      "  1  Co2.8+  0       0.5     0.5\n",
      "  2  Co2.8+  0.5     0       0\n",
      "  3  Co2.8+  0       0       0.5\n",
      "  4  Co2.8+  0.5     0.5     0\n",
      "  5  F-      0.9552  0.25    0.4026\n",
      "  6  F-      0.4552  0.25    0.0974\n",
      "  7  F-      0.0448  0.75    0.5974\n",
      "  8  F-      0.5448  0.75    0.9026\n",
      "  9  F-      0.6994  0.5584  0.3066\n",
      " 10  F-      0.1994  0.9416  0.1934\n",
      " 11  F-      0.3006  0.0584  0.6934\n",
      " 12  F-      0.8006  0.4416  0.8066\n",
      " 13  F-      0.3006  0.4416  0.6934\n",
      " 14  F-      0.8006  0.0584  0.8066\n",
      " 15  F-      0.6994  0.9416  0.3066\n",
      " 16  F-      0.1994  0.5584  0.1934\n"
     ]
    }
   ],
   "source": [
    "print(transmuter)"
   ]
  },
  {
   "cell_type": "code",
   "execution_count": 11,
   "id": "38e31f6d",
   "metadata": {},
   "outputs": [],
   "source": [
    "for i in range(0,len(transmuter)):\n",
    "    s = transmuter.transformed_structures[i]\n",
    "    s.to(fmt='poscar', filename=\"POSCAR.\"+str(i))"
   ]
  },
  {
   "cell_type": "code",
   "execution_count": null,
   "id": "25e03b7e",
   "metadata": {},
   "outputs": [],
   "source": []
  }
 ],
 "metadata": {
  "kernelspec": {
   "display_name": "Python 3 (ipykernel)",
   "language": "python",
   "name": "python3"
  },
  "language_info": {
   "codemirror_mode": {
    "name": "ipython",
    "version": 3
   },
   "file_extension": ".py",
   "mimetype": "text/x-python",
   "name": "python",
   "nbconvert_exporter": "python",
   "pygments_lexer": "ipython3",
   "version": "3.10.9"
  }
 },
 "nbformat": 4,
 "nbformat_minor": 5
}
