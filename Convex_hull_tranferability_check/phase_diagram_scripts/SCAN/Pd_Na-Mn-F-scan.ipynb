{
 "cells": [
  {
   "cell_type": "code",
   "execution_count": 4,
   "id": "88b6ff62",
   "metadata": {},
   "outputs": [],
   "source": [
    "import pymatgen\n",
    "import os\n",
    "import unittest\n",
    "import warnings\n",
    "from numbers import Number\n",
    "\n",
    "from pathlib import Path\n",
    "#from collections import OrderDict\n",
    "import numpy as np\n",
    "from pymatgen.analysis.phase_diagram import(\n",
    "     CompoundPhaseDiagram, GrandPotentialPhaseDiagram,\n",
    "     GrandPotPDEntry, PDEntry,PDPlotter, PhaseDiagram,\n",
    "      ReactionDiagram,TransformedPDEntry, tet_coord,triangular_coord,uniquelines)"
   ]
  },
  {
   "cell_type": "code",
   "execution_count": 5,
   "id": "bf288f67",
   "metadata": {},
   "outputs": [],
   "source": [
    "input_data = {\"Na\":-4.204,\"Mn\":-18.062092, \"F2\":-6.9022176, \n",
    "              \n",
    "              \"NaF\":-13.644, \"MnF2\":-33.996, \"MnF3\":-40.163, \"MnF4\":-45.263, \"Mn2F5\":-74.25012, \"Mn3F8\":-114.3491,\n",
    "              \n",
    "              \"Na2MnF5\":-68.062655, \"Na3MnF6\":-81.735235, \"NaMnF3\":-47.405780, \"Na5Mn3F14\":-190.27126 ,\n",
    "              \"NaMn3F10\":-134.641125, \"NaMnF4\":-54.31173 } #\"Na5Mn3F14\":-190.27126 \n",
    "              "
   ]
  },
  {
   "cell_type": "code",
   "execution_count": 6,
   "id": "e2113bc7",
   "metadata": {},
   "outputs": [
    {
     "data": {
      "application/vnd.plotly.v1+json": {
       "config": {
        "plotlyServerURL": "https://plot.ly"
       },
       "data": [
        {
         "a": [
          0,
          1,
          null,
          1,
          0,
          null,
          1,
          3,
          null,
          0,
          1,
          null,
          0,
          1,
          null,
          0,
          0,
          null,
          0,
          1,
          null,
          0,
          1,
          null,
          1,
          0,
          null,
          2,
          3,
          null,
          0,
          1,
          null,
          0,
          0,
          null,
          0,
          3,
          null,
          0,
          1,
          null,
          0,
          0,
          null,
          0,
          3,
          null,
          0,
          1,
          null,
          1,
          2,
          null,
          0,
          1,
          null,
          1,
          1,
          null,
          0,
          0,
          null,
          0,
          2,
          null,
          0,
          2,
          null,
          0,
          0,
          null,
          1,
          1,
          null
         ],
         "b": [
          2,
          1,
          null,
          0,
          1,
          null,
          0,
          1,
          null,
          1,
          0,
          null,
          1,
          0,
          null,
          1,
          2,
          null,
          1,
          3,
          null,
          1,
          0,
          null,
          0,
          0,
          null,
          1,
          1,
          null,
          1,
          1,
          null,
          1,
          1,
          null,
          1,
          1,
          null,
          1,
          1,
          null,
          1,
          1,
          null,
          1,
          1,
          null,
          1,
          3,
          null,
          1,
          1,
          null,
          2,
          3,
          null,
          0,
          0,
          null,
          1,
          2,
          null,
          1,
          1,
          null,
          1,
          1,
          null,
          1,
          0,
          null,
          1,
          3,
          null
         ],
         "c": [
          5,
          4,
          null,
          1,
          0,
          null,
          1,
          6,
          null,
          2,
          1,
          null,
          4,
          1,
          null,
          3,
          5,
          null,
          4,
          10,
          null,
          0,
          0,
          null,
          1,
          2,
          null,
          5,
          6,
          null,
          2,
          4,
          null,
          3,
          4,
          null,
          2,
          6,
          null,
          4,
          4,
          null,
          2,
          0,
          null,
          4,
          6,
          null,
          3,
          10,
          null,
          4,
          5,
          null,
          5,
          10,
          null,
          1,
          0,
          null,
          2,
          5,
          null,
          2,
          5,
          null,
          4,
          5,
          null,
          4,
          2,
          null,
          4,
          10,
          null
         ],
         "hoverinfo": "none",
         "line": {
          "color": "black",
          "width": 1.5
         },
         "mode": "lines",
         "showlegend": false,
         "type": "scatterternary"
        },
        {
         "a": [
          0,
          1,
          1
         ],
         "b": [
          1,
          0,
          0
         ],
         "c": [
          0,
          0,
          1
         ],
         "fill": "toself",
         "fillcolor": "#2E91E5",
         "hovertemplate": "<extra></extra>",
         "line": {
          "width": 0
         },
         "mode": "lines",
         "name": "Mn—Na—NaF",
         "opacity": 0.15,
         "showlegend": false,
         "type": "scatterternary"
        },
        {
         "a": [
          0,
          0,
          1
         ],
         "b": [
          1,
          1,
          0
         ],
         "c": [
          0,
          2,
          1
         ],
         "fill": "toself",
         "fillcolor": "#E15F99",
         "hovertemplate": "<extra></extra>",
         "line": {
          "width": 0
         },
         "mode": "lines",
         "name": "Mn—MnF<sub>2</sub>—NaF",
         "opacity": 0.15,
         "showlegend": false,
         "type": "scatterternary"
        },
        {
         "a": [
          0,
          0,
          1
         ],
         "b": [
          0,
          1,
          0
         ],
         "c": [
          2,
          4,
          1
         ],
         "fill": "toself",
         "fillcolor": "#1CA71C",
         "hovertemplate": "<extra></extra>",
         "line": {
          "width": 0
         },
         "mode": "lines",
         "name": "F<sub>2</sub>—MnF<sub>4</sub>—NaF",
         "opacity": 0.15,
         "showlegend": false,
         "type": "scatterternary"
        },
        {
         "a": [
          0,
          3,
          1
         ],
         "b": [
          1,
          1,
          0
         ],
         "c": [
          2,
          6,
          1
         ],
         "fill": "toself",
         "fillcolor": "#FB0D0D",
         "hovertemplate": "<extra></extra>",
         "line": {
          "width": 0
         },
         "mode": "lines",
         "name": "MnF<sub>2</sub>—Na<sub>3</sub>MnF<sub>6</sub>—NaF",
         "opacity": 0.15,
         "showlegend": false,
         "type": "scatterternary"
        },
        {
         "a": [
          0,
          3,
          1
         ],
         "b": [
          1,
          1,
          0
         ],
         "c": [
          4,
          6,
          1
         ],
         "fill": "toself",
         "fillcolor": "#DA16FF",
         "hovertemplate": "<extra></extra>",
         "line": {
          "width": 0
         },
         "mode": "lines",
         "name": "MnF<sub>4</sub>—Na<sub>3</sub>MnF<sub>6</sub>—NaF",
         "opacity": 0.15,
         "showlegend": false,
         "type": "scatterternary"
        },
        {
         "a": [
          0,
          0,
          1
         ],
         "b": [
          2,
          1,
          1
         ],
         "c": [
          5,
          2,
          4
         ],
         "fill": "toself",
         "fillcolor": "#222A2A",
         "hovertemplate": "<extra></extra>",
         "line": {
          "width": 0
         },
         "mode": "lines",
         "name": "Mn<sub>2</sub>F<sub>5</sub>—MnF<sub>2</sub>—NaMnF<sub>4</sub>",
         "opacity": 0.15,
         "showlegend": false,
         "type": "scatterternary"
        },
        {
         "a": [
          0,
          2,
          1
         ],
         "b": [
          1,
          1,
          1
         ],
         "c": [
          2,
          5,
          4
         ],
         "fill": "toself",
         "fillcolor": "#B68100",
         "hovertemplate": "<extra></extra>",
         "line": {
          "width": 0
         },
         "mode": "lines",
         "name": "MnF<sub>2</sub>—Na<sub>2</sub>MnF<sub>5</sub>—NaMnF<sub>4</sub>",
         "opacity": 0.15,
         "showlegend": false,
         "type": "scatterternary"
        },
        {
         "a": [
          0,
          2,
          3
         ],
         "b": [
          1,
          1,
          1
         ],
         "c": [
          2,
          5,
          6
         ],
         "fill": "toself",
         "fillcolor": "#750D86",
         "hovertemplate": "<extra></extra>",
         "line": {
          "width": 0
         },
         "mode": "lines",
         "name": "MnF<sub>2</sub>—Na<sub>2</sub>MnF<sub>5</sub>—Na<sub>3</sub>MnF<sub>6</sub>",
         "opacity": 0.15,
         "showlegend": false,
         "type": "scatterternary"
        },
        {
         "a": [
          0,
          2,
          1
         ],
         "b": [
          1,
          1,
          1
         ],
         "c": [
          4,
          5,
          4
         ],
         "fill": "toself",
         "fillcolor": "#EB663B",
         "hovertemplate": "<extra></extra>",
         "line": {
          "width": 0
         },
         "mode": "lines",
         "name": "MnF<sub>4</sub>—Na<sub>2</sub>MnF<sub>5</sub>—NaMnF<sub>4</sub>",
         "opacity": 0.15,
         "showlegend": false,
         "type": "scatterternary"
        },
        {
         "a": [
          0,
          2,
          3
         ],
         "b": [
          1,
          1,
          1
         ],
         "c": [
          4,
          5,
          6
         ],
         "fill": "toself",
         "fillcolor": "#511CFB",
         "hovertemplate": "<extra></extra>",
         "line": {
          "width": 0
         },
         "mode": "lines",
         "name": "MnF<sub>4</sub>—Na<sub>2</sub>MnF<sub>5</sub>—Na<sub>3</sub>MnF<sub>6</sub>",
         "opacity": 0.15,
         "showlegend": false,
         "type": "scatterternary"
        },
        {
         "a": [
          0,
          0,
          1
         ],
         "b": [
          2,
          1,
          3
         ],
         "c": [
          5,
          3,
          10
         ],
         "fill": "toself",
         "fillcolor": "#00A08B",
         "hovertemplate": "<extra></extra>",
         "line": {
          "width": 0
         },
         "mode": "lines",
         "name": "Mn<sub>2</sub>F<sub>5</sub>—MnF<sub>3</sub>—NaMn<sub>3</sub>F<sub>10</sub>",
         "opacity": 0.15,
         "showlegend": false,
         "type": "scatterternary"
        },
        {
         "a": [
          0,
          1,
          1
         ],
         "b": [
          2,
          3,
          1
         ],
         "c": [
          5,
          10,
          4
         ],
         "fill": "toself",
         "fillcolor": "#FB00D1",
         "hovertemplate": "<extra></extra>",
         "line": {
          "width": 0
         },
         "mode": "lines",
         "name": "Mn<sub>2</sub>F<sub>5</sub>—NaMn<sub>3</sub>F<sub>10</sub>—NaMnF<sub>4</sub>",
         "opacity": 0.15,
         "showlegend": false,
         "type": "scatterternary"
        },
        {
         "a": [
          0,
          0,
          1
         ],
         "b": [
          1,
          1,
          3
         ],
         "c": [
          3,
          4,
          10
         ],
         "fill": "toself",
         "fillcolor": "#FC0080",
         "hovertemplate": "<extra></extra>",
         "line": {
          "width": 0
         },
         "mode": "lines",
         "name": "MnF<sub>3</sub>—MnF<sub>4</sub>—NaMn<sub>3</sub>F<sub>10</sub>",
         "opacity": 0.15,
         "showlegend": false,
         "type": "scatterternary"
        },
        {
         "a": [
          0,
          1,
          1
         ],
         "b": [
          1,
          3,
          1
         ],
         "c": [
          4,
          10,
          4
         ],
         "fill": "toself",
         "fillcolor": "#B2828D",
         "hovertemplate": "<extra></extra>",
         "line": {
          "width": 0
         },
         "mode": "lines",
         "name": "MnF<sub>4</sub>—NaMn<sub>3</sub>F<sub>10</sub>—NaMnF<sub>4</sub>",
         "opacity": 0.15,
         "showlegend": false,
         "type": "scatterternary"
        },
        {
         "a": [
          0,
          1,
          1,
          0,
          3,
          0,
          0,
          0,
          1,
          1,
          0,
          2
         ],
         "b": [
          2,
          1,
          0,
          1,
          1,
          1,
          1,
          1,
          3,
          0,
          0,
          1
         ],
         "c": [
          5,
          4,
          1,
          0,
          6,
          2,
          4,
          3,
          10,
          0,
          2,
          5
         ],
         "cliponaxis": false,
         "hoverinfo": "text",
         "hoverlabel": {
          "font": {
           "size": 14
          }
         },
         "hovertext": [
          "Mn<sub>2</sub>F<sub>5</sub> (no ID) <br> -2.981 eV/atom (Stable)",
          "NaMnF<sub>4</sub> (no ID) <br> -3.04 eV/atom (Stable)",
          "NaF (no ID) <br> -2.994 eV/atom (Stable)",
          "Mn (no ID) <br> 0.0 eV/atom (Stable)",
          "Na<sub>3</sub>MnF<sub>6</sub> (no ID) <br> -3.035 eV/atom (Stable)",
          "MnF<sub>2</sub> (no ID) <br> -3.011 eV/atom (Stable)",
          "MnF<sub>4</sub> (no ID) <br> -2.679 eV/atom (Stable)",
          "MnF<sub>3</sub> (no ID) <br> -2.937 eV/atom (Stable)",
          "NaMn<sub>3</sub>F<sub>10</sub> (no ID) <br> -2.981 eV/atom (Stable)",
          "Na (no ID) <br> 0.0 eV/atom (Stable)",
          "F<sub>2</sub> (no ID) <br> 0.0 eV/atom (Stable)",
          "Na<sub>2</sub>MnF<sub>5</sub> (no ID) <br> -3.042 eV/atom (Stable)"
         ],
         "marker": {
          "color": "green",
          "line": {
           "color": "black",
           "width": 2
          },
          "size": 15,
          "symbol": "circle"
         },
         "mode": "markers",
         "name": "Stable",
         "showlegend": true,
         "type": "scatterternary"
        },
        {
         "a": [
          0,
          1,
          5
         ],
         "b": [
          3,
          1,
          3
         ],
         "c": [
          8,
          3,
          14
         ],
         "cliponaxis": false,
         "hoverinfo": "text",
         "hoverlabel": {
          "font": {
           "size": 14
          }
         },
         "hovertext": [
          "Mn<sub>3</sub>F<sub>8</sub> (no ID) <br> -2.959 eV/atom (+0.006 eV/atom)",
          "NaMnF<sub>3</sub> (no ID) <br> -2.957 eV/atom (+0.047 eV/atom)",
          "Na<sub>5</sub>Mn<sub>3</sub>F<sub>14</sub> (no ID) <br> -3.034 eV/atom (+0.008 eV/atom)"
         ],
         "marker": {
          "color": [
           0.006,
           0.047,
           0.008
          ],
          "colorbar": {
           "len": 0.5,
           "thickness": 0.02,
           "thicknessmode": "fraction",
           "title": {
            "text": "Energy Above Hull<br>(eV/atom)"
           },
           "x": 0,
           "xpad": 0,
           "y": 1,
           "yanchor": "top",
           "ypad": 0
          },
          "colorscale": [
           [
            0,
            "#fff5e3"
           ],
           [
            0.5,
            "#f24324"
           ],
           [
            1,
            "#c40000"
           ]
          ],
          "line": {
           "color": "black",
           "width": 1
          },
          "opacity": 0.8,
          "size": 7,
          "symbol": "diamond"
         },
         "mode": "markers",
         "name": "Above Hull",
         "showlegend": true,
         "type": "scatterternary"
        }
       ],
       "layout": {
        "autosize": true,
        "coloraxis": {
         "colorbar": {
          "x": 1,
          "y": 0.05,
          "yanchor": "top"
         }
        },
        "margin": {
         "b": 40,
         "l": 20,
         "r": 20,
         "t": 40
        },
        "paper_bgcolor": "rgba(0, 0, 0, 0)",
        "plot_bgcolor": "rgba(0, 0, 0, 0)",
        "showlegend": true,
        "template": {
         "data": {
          "bar": [
           {
            "error_x": {
             "color": "#2a3f5f"
            },
            "error_y": {
             "color": "#2a3f5f"
            },
            "marker": {
             "line": {
              "color": "#E5ECF6",
              "width": 0.5
             },
             "pattern": {
              "fillmode": "overlay",
              "size": 10,
              "solidity": 0.2
             }
            },
            "type": "bar"
           }
          ],
          "barpolar": [
           {
            "marker": {
             "line": {
              "color": "#E5ECF6",
              "width": 0.5
             },
             "pattern": {
              "fillmode": "overlay",
              "size": 10,
              "solidity": 0.2
             }
            },
            "type": "barpolar"
           }
          ],
          "carpet": [
           {
            "aaxis": {
             "endlinecolor": "#2a3f5f",
             "gridcolor": "white",
             "linecolor": "white",
             "minorgridcolor": "white",
             "startlinecolor": "#2a3f5f"
            },
            "baxis": {
             "endlinecolor": "#2a3f5f",
             "gridcolor": "white",
             "linecolor": "white",
             "minorgridcolor": "white",
             "startlinecolor": "#2a3f5f"
            },
            "type": "carpet"
           }
          ],
          "choropleth": [
           {
            "colorbar": {
             "outlinewidth": 0,
             "ticks": ""
            },
            "type": "choropleth"
           }
          ],
          "contour": [
           {
            "colorbar": {
             "outlinewidth": 0,
             "ticks": ""
            },
            "colorscale": [
             [
              0,
              "#0d0887"
             ],
             [
              0.1111111111111111,
              "#46039f"
             ],
             [
              0.2222222222222222,
              "#7201a8"
             ],
             [
              0.3333333333333333,
              "#9c179e"
             ],
             [
              0.4444444444444444,
              "#bd3786"
             ],
             [
              0.5555555555555556,
              "#d8576b"
             ],
             [
              0.6666666666666666,
              "#ed7953"
             ],
             [
              0.7777777777777778,
              "#fb9f3a"
             ],
             [
              0.8888888888888888,
              "#fdca26"
             ],
             [
              1,
              "#f0f921"
             ]
            ],
            "type": "contour"
           }
          ],
          "contourcarpet": [
           {
            "colorbar": {
             "outlinewidth": 0,
             "ticks": ""
            },
            "type": "contourcarpet"
           }
          ],
          "heatmap": [
           {
            "colorbar": {
             "outlinewidth": 0,
             "ticks": ""
            },
            "colorscale": [
             [
              0,
              "#0d0887"
             ],
             [
              0.1111111111111111,
              "#46039f"
             ],
             [
              0.2222222222222222,
              "#7201a8"
             ],
             [
              0.3333333333333333,
              "#9c179e"
             ],
             [
              0.4444444444444444,
              "#bd3786"
             ],
             [
              0.5555555555555556,
              "#d8576b"
             ],
             [
              0.6666666666666666,
              "#ed7953"
             ],
             [
              0.7777777777777778,
              "#fb9f3a"
             ],
             [
              0.8888888888888888,
              "#fdca26"
             ],
             [
              1,
              "#f0f921"
             ]
            ],
            "type": "heatmap"
           }
          ],
          "heatmapgl": [
           {
            "colorbar": {
             "outlinewidth": 0,
             "ticks": ""
            },
            "colorscale": [
             [
              0,
              "#0d0887"
             ],
             [
              0.1111111111111111,
              "#46039f"
             ],
             [
              0.2222222222222222,
              "#7201a8"
             ],
             [
              0.3333333333333333,
              "#9c179e"
             ],
             [
              0.4444444444444444,
              "#bd3786"
             ],
             [
              0.5555555555555556,
              "#d8576b"
             ],
             [
              0.6666666666666666,
              "#ed7953"
             ],
             [
              0.7777777777777778,
              "#fb9f3a"
             ],
             [
              0.8888888888888888,
              "#fdca26"
             ],
             [
              1,
              "#f0f921"
             ]
            ],
            "type": "heatmapgl"
           }
          ],
          "histogram": [
           {
            "marker": {
             "pattern": {
              "fillmode": "overlay",
              "size": 10,
              "solidity": 0.2
             }
            },
            "type": "histogram"
           }
          ],
          "histogram2d": [
           {
            "colorbar": {
             "outlinewidth": 0,
             "ticks": ""
            },
            "colorscale": [
             [
              0,
              "#0d0887"
             ],
             [
              0.1111111111111111,
              "#46039f"
             ],
             [
              0.2222222222222222,
              "#7201a8"
             ],
             [
              0.3333333333333333,
              "#9c179e"
             ],
             [
              0.4444444444444444,
              "#bd3786"
             ],
             [
              0.5555555555555556,
              "#d8576b"
             ],
             [
              0.6666666666666666,
              "#ed7953"
             ],
             [
              0.7777777777777778,
              "#fb9f3a"
             ],
             [
              0.8888888888888888,
              "#fdca26"
             ],
             [
              1,
              "#f0f921"
             ]
            ],
            "type": "histogram2d"
           }
          ],
          "histogram2dcontour": [
           {
            "colorbar": {
             "outlinewidth": 0,
             "ticks": ""
            },
            "colorscale": [
             [
              0,
              "#0d0887"
             ],
             [
              0.1111111111111111,
              "#46039f"
             ],
             [
              0.2222222222222222,
              "#7201a8"
             ],
             [
              0.3333333333333333,
              "#9c179e"
             ],
             [
              0.4444444444444444,
              "#bd3786"
             ],
             [
              0.5555555555555556,
              "#d8576b"
             ],
             [
              0.6666666666666666,
              "#ed7953"
             ],
             [
              0.7777777777777778,
              "#fb9f3a"
             ],
             [
              0.8888888888888888,
              "#fdca26"
             ],
             [
              1,
              "#f0f921"
             ]
            ],
            "type": "histogram2dcontour"
           }
          ],
          "mesh3d": [
           {
            "colorbar": {
             "outlinewidth": 0,
             "ticks": ""
            },
            "type": "mesh3d"
           }
          ],
          "parcoords": [
           {
            "line": {
             "colorbar": {
              "outlinewidth": 0,
              "ticks": ""
             }
            },
            "type": "parcoords"
           }
          ],
          "pie": [
           {
            "automargin": true,
            "type": "pie"
           }
          ],
          "scatter": [
           {
            "fillpattern": {
             "fillmode": "overlay",
             "size": 10,
             "solidity": 0.2
            },
            "type": "scatter"
           }
          ],
          "scatter3d": [
           {
            "line": {
             "colorbar": {
              "outlinewidth": 0,
              "ticks": ""
             }
            },
            "marker": {
             "colorbar": {
              "outlinewidth": 0,
              "ticks": ""
             }
            },
            "type": "scatter3d"
           }
          ],
          "scattercarpet": [
           {
            "marker": {
             "colorbar": {
              "outlinewidth": 0,
              "ticks": ""
             }
            },
            "type": "scattercarpet"
           }
          ],
          "scattergeo": [
           {
            "marker": {
             "colorbar": {
              "outlinewidth": 0,
              "ticks": ""
             }
            },
            "type": "scattergeo"
           }
          ],
          "scattergl": [
           {
            "marker": {
             "colorbar": {
              "outlinewidth": 0,
              "ticks": ""
             }
            },
            "type": "scattergl"
           }
          ],
          "scattermapbox": [
           {
            "marker": {
             "colorbar": {
              "outlinewidth": 0,
              "ticks": ""
             }
            },
            "type": "scattermapbox"
           }
          ],
          "scatterpolar": [
           {
            "marker": {
             "colorbar": {
              "outlinewidth": 0,
              "ticks": ""
             }
            },
            "type": "scatterpolar"
           }
          ],
          "scatterpolargl": [
           {
            "marker": {
             "colorbar": {
              "outlinewidth": 0,
              "ticks": ""
             }
            },
            "type": "scatterpolargl"
           }
          ],
          "scatterternary": [
           {
            "marker": {
             "colorbar": {
              "outlinewidth": 0,
              "ticks": ""
             }
            },
            "type": "scatterternary"
           }
          ],
          "surface": [
           {
            "colorbar": {
             "outlinewidth": 0,
             "ticks": ""
            },
            "colorscale": [
             [
              0,
              "#0d0887"
             ],
             [
              0.1111111111111111,
              "#46039f"
             ],
             [
              0.2222222222222222,
              "#7201a8"
             ],
             [
              0.3333333333333333,
              "#9c179e"
             ],
             [
              0.4444444444444444,
              "#bd3786"
             ],
             [
              0.5555555555555556,
              "#d8576b"
             ],
             [
              0.6666666666666666,
              "#ed7953"
             ],
             [
              0.7777777777777778,
              "#fb9f3a"
             ],
             [
              0.8888888888888888,
              "#fdca26"
             ],
             [
              1,
              "#f0f921"
             ]
            ],
            "type": "surface"
           }
          ],
          "table": [
           {
            "cells": {
             "fill": {
              "color": "#EBF0F8"
             },
             "line": {
              "color": "white"
             }
            },
            "header": {
             "fill": {
              "color": "#C8D4E3"
             },
             "line": {
              "color": "white"
             }
            },
            "type": "table"
           }
          ]
         },
         "layout": {
          "annotationdefaults": {
           "arrowcolor": "#2a3f5f",
           "arrowhead": 0,
           "arrowwidth": 1
          },
          "autotypenumbers": "strict",
          "coloraxis": {
           "colorbar": {
            "outlinewidth": 0,
            "ticks": ""
           }
          },
          "colorscale": {
           "diverging": [
            [
             0,
             "#8e0152"
            ],
            [
             0.1,
             "#c51b7d"
            ],
            [
             0.2,
             "#de77ae"
            ],
            [
             0.3,
             "#f1b6da"
            ],
            [
             0.4,
             "#fde0ef"
            ],
            [
             0.5,
             "#f7f7f7"
            ],
            [
             0.6,
             "#e6f5d0"
            ],
            [
             0.7,
             "#b8e186"
            ],
            [
             0.8,
             "#7fbc41"
            ],
            [
             0.9,
             "#4d9221"
            ],
            [
             1,
             "#276419"
            ]
           ],
           "sequential": [
            [
             0,
             "#0d0887"
            ],
            [
             0.1111111111111111,
             "#46039f"
            ],
            [
             0.2222222222222222,
             "#7201a8"
            ],
            [
             0.3333333333333333,
             "#9c179e"
            ],
            [
             0.4444444444444444,
             "#bd3786"
            ],
            [
             0.5555555555555556,
             "#d8576b"
            ],
            [
             0.6666666666666666,
             "#ed7953"
            ],
            [
             0.7777777777777778,
             "#fb9f3a"
            ],
            [
             0.8888888888888888,
             "#fdca26"
            ],
            [
             1,
             "#f0f921"
            ]
           ],
           "sequentialminus": [
            [
             0,
             "#0d0887"
            ],
            [
             0.1111111111111111,
             "#46039f"
            ],
            [
             0.2222222222222222,
             "#7201a8"
            ],
            [
             0.3333333333333333,
             "#9c179e"
            ],
            [
             0.4444444444444444,
             "#bd3786"
            ],
            [
             0.5555555555555556,
             "#d8576b"
            ],
            [
             0.6666666666666666,
             "#ed7953"
            ],
            [
             0.7777777777777778,
             "#fb9f3a"
            ],
            [
             0.8888888888888888,
             "#fdca26"
            ],
            [
             1,
             "#f0f921"
            ]
           ]
          },
          "colorway": [
           "#636efa",
           "#EF553B",
           "#00cc96",
           "#ab63fa",
           "#FFA15A",
           "#19d3f3",
           "#FF6692",
           "#B6E880",
           "#FF97FF",
           "#FECB52"
          ],
          "font": {
           "color": "#2a3f5f"
          },
          "geo": {
           "bgcolor": "white",
           "lakecolor": "white",
           "landcolor": "#E5ECF6",
           "showlakes": true,
           "showland": true,
           "subunitcolor": "white"
          },
          "hoverlabel": {
           "align": "left"
          },
          "hovermode": "closest",
          "mapbox": {
           "style": "light"
          },
          "paper_bgcolor": "white",
          "plot_bgcolor": "#E5ECF6",
          "polar": {
           "angularaxis": {
            "gridcolor": "white",
            "linecolor": "white",
            "ticks": ""
           },
           "bgcolor": "#E5ECF6",
           "radialaxis": {
            "gridcolor": "white",
            "linecolor": "white",
            "ticks": ""
           }
          },
          "scene": {
           "xaxis": {
            "backgroundcolor": "#E5ECF6",
            "gridcolor": "white",
            "gridwidth": 2,
            "linecolor": "white",
            "showbackground": true,
            "ticks": "",
            "zerolinecolor": "white"
           },
           "yaxis": {
            "backgroundcolor": "#E5ECF6",
            "gridcolor": "white",
            "gridwidth": 2,
            "linecolor": "white",
            "showbackground": true,
            "ticks": "",
            "zerolinecolor": "white"
           },
           "zaxis": {
            "backgroundcolor": "#E5ECF6",
            "gridcolor": "white",
            "gridwidth": 2,
            "linecolor": "white",
            "showbackground": true,
            "ticks": "",
            "zerolinecolor": "white"
           }
          },
          "shapedefaults": {
           "line": {
            "color": "#2a3f5f"
           }
          },
          "ternary": {
           "aaxis": {
            "gridcolor": "white",
            "linecolor": "white",
            "ticks": ""
           },
           "baxis": {
            "gridcolor": "white",
            "linecolor": "white",
            "ticks": ""
           },
           "bgcolor": "#E5ECF6",
           "caxis": {
            "gridcolor": "white",
            "linecolor": "white",
            "ticks": ""
           }
          },
          "title": {
           "x": 0.05
          },
          "xaxis": {
           "automargin": true,
           "gridcolor": "white",
           "linecolor": "white",
           "ticks": "",
           "title": {
            "standoff": 15
           },
           "zerolinecolor": "white",
           "zerolinewidth": 2
          },
          "yaxis": {
           "automargin": true,
           "gridcolor": "white",
           "linecolor": "white",
           "ticks": "",
           "title": {
            "standoff": 15
           },
           "zerolinecolor": "white",
           "zerolinewidth": 2
          }
         }
        },
        "ternary": {
         "aaxis": {
          "layer": "below traces",
          "showgrid": true,
          "showticklabels": true,
          "tickfont": {
           "color": "rgba(0, 0, 0, 0)",
           "size": 7
          },
          "title": {
           "font": {
            "size": 24
           },
           "text": "Na"
          }
         },
         "baxis": {
          "layer": "below traces",
          "min": 0,
          "showgrid": true,
          "showticklabels": true,
          "tickfont": {
           "color": "rgba(0, 0, 0, 0)",
           "size": 7
          },
          "title": {
           "font": {
            "size": 24
           },
           "text": "Mn"
          }
         },
         "caxis": {
          "layer": "below traces",
          "min": 0,
          "showgrid": true,
          "showticklabels": true,
          "tickfont": {
           "color": "rgba(0, 0, 0, 0)",
           "size": 7
          },
          "title": {
           "font": {
            "size": 24
           },
           "text": "F"
          }
         },
         "sum": 1
        }
       }
      },
      "image/png": "[encoded data removed]",
      "text/html": [
       "<div>                            <div id=\"c60a33e4-4664-432b-ba6f-eca536d4b377\" class=\"plotly-graph-div\" style=\"height:525px; width:100%;\"></div>            <script type=\"text/javascript\">                require([\"plotly\"], function(Plotly) {                    window.PLOTLYENV=window.PLOTLYENV || {};                                    if (document.getElementById(\"c60a33e4-4664-432b-ba6f-eca536d4b377\")) {                    Plotly.newPlot(                        \"c60a33e4-4664-432b-ba6f-eca536d4b377\",                        [{\"a\":[0,1.0,null,1.0,0,null,1.0,3.0,null,0,1.0,null,0,1.0,null,0,0,null,0,1.0,null,0,1.0,null,1.0,0,null,2.0,3.0,null,0,1.0,null,0,0,null,0,3.0,null,0,1.0,null,0,0,null,0,3.0,null,0,1.0,null,1.0,2.0,null,0,1.0,null,1.0,1.0,null,0,0,null,0,2.0,null,0,2.0,null,0,0,null,1.0,1.0,null],\"b\":[2.0,1.0,null,0,1.0,null,0,1.0,null,1.0,0,null,1.0,0,null,1.0,2.0,null,1.0,3.0,null,1.0,0,null,0,0,null,1.0,1.0,null,1.0,1.0,null,1.0,1.0,null,1.0,1.0,null,1.0,1.0,null,1.0,1.0,null,1.0,1.0,null,1.0,3.0,null,1.0,1.0,null,2.0,3.0,null,0,0,null,1.0,2.0,null,1.0,1.0,null,1.0,1.0,null,1.0,0,null,1.0,3.0,null],\"c\":[5.0,4.0,null,1.0,0,null,1.0,6.0,null,2.0,1.0,null,4.0,1.0,null,3.0,5.0,null,4.0,10.0,null,0,0,null,1.0,2.0,null,5.0,6.0,null,2.0,4.0,null,3.0,4.0,null,2.0,6.0,null,4.0,4.0,null,2.0,0,null,4.0,6.0,null,3.0,10.0,null,4.0,5.0,null,5.0,10.0,null,1.0,0,null,2.0,5.0,null,2.0,5.0,null,4.0,5.0,null,4.0,2.0,null,4.0,10.0,null],\"hoverinfo\":\"none\",\"line\":{\"color\":\"black\",\"width\":1.5},\"mode\":\"lines\",\"showlegend\":false,\"type\":\"scatterternary\"},{\"a\":[0,1.0,1.0],\"b\":[1.0,0,0],\"c\":[0,0,1.0],\"fill\":\"toself\",\"fillcolor\":\"#2E91E5\",\"hovertemplate\":\"<extra></extra>\",\"line\":{\"width\":0},\"mode\":\"lines\",\"name\":\"Mn\\u2014Na\\u2014NaF\",\"opacity\":0.15,\"showlegend\":false,\"type\":\"scatterternary\"},{\"a\":[0,0,1.0],\"b\":[1.0,1.0,0],\"c\":[0,2.0,1.0],\"fill\":\"toself\",\"fillcolor\":\"#E15F99\",\"hovertemplate\":\"<extra></extra>\",\"line\":{\"width\":0},\"mode\":\"lines\",\"name\":\"Mn\\u2014MnF<sub>2</sub>\\u2014NaF\",\"opacity\":0.15,\"showlegend\":false,\"type\":\"scatterternary\"},{\"a\":[0,0,1.0],\"b\":[0,1.0,0],\"c\":[2.0,4.0,1.0],\"fill\":\"toself\",\"fillcolor\":\"#1CA71C\",\"hovertemplate\":\"<extra></extra>\",\"line\":{\"width\":0},\"mode\":\"lines\",\"name\":\"F<sub>2</sub>\\u2014MnF<sub>4</sub>\\u2014NaF\",\"opacity\":0.15,\"showlegend\":false,\"type\":\"scatterternary\"},{\"a\":[0,3.0,1.0],\"b\":[1.0,1.0,0],\"c\":[2.0,6.0,1.0],\"fill\":\"toself\",\"fillcolor\":\"#FB0D0D\",\"hovertemplate\":\"<extra></extra>\",\"line\":{\"width\":0},\"mode\":\"lines\",\"name\":\"MnF<sub>2</sub>\\u2014Na<sub>3</sub>MnF<sub>6</sub>\\u2014NaF\",\"opacity\":0.15,\"showlegend\":false,\"type\":\"scatterternary\"},{\"a\":[0,3.0,1.0],\"b\":[1.0,1.0,0],\"c\":[4.0,6.0,1.0],\"fill\":\"toself\",\"fillcolor\":\"#DA16FF\",\"hovertemplate\":\"<extra></extra>\",\"line\":{\"width\":0},\"mode\":\"lines\",\"name\":\"MnF<sub>4</sub>\\u2014Na<sub>3</sub>MnF<sub>6</sub>\\u2014NaF\",\"opacity\":0.15,\"showlegend\":false,\"type\":\"scatterternary\"},{\"a\":[0,0,1.0],\"b\":[2.0,1.0,1.0],\"c\":[5.0,2.0,4.0],\"fill\":\"toself\",\"fillcolor\":\"#222A2A\",\"hovertemplate\":\"<extra></extra>\",\"line\":{\"width\":0},\"mode\":\"lines\",\"name\":\"Mn<sub>2</sub>F<sub>5</sub>\\u2014MnF<sub>2</sub>\\u2014NaMnF<sub>4</sub>\",\"opacity\":0.15,\"showlegend\":false,\"type\":\"scatterternary\"},{\"a\":[0,2.0,1.0],\"b\":[1.0,1.0,1.0],\"c\":[2.0,5.0,4.0],\"fill\":\"toself\",\"fillcolor\":\"#B68100\",\"hovertemplate\":\"<extra></extra>\",\"line\":{\"width\":0},\"mode\":\"lines\",\"name\":\"MnF<sub>2</sub>\\u2014Na<sub>2</sub>MnF<sub>5</sub>\\u2014NaMnF<sub>4</sub>\",\"opacity\":0.15,\"showlegend\":false,\"type\":\"scatterternary\"},{\"a\":[0,2.0,3.0],\"b\":[1.0,1.0,1.0],\"c\":[2.0,5.0,6.0],\"fill\":\"toself\",\"fillcolor\":\"#750D86\",\"hovertemplate\":\"<extra></extra>\",\"line\":{\"width\":0},\"mode\":\"lines\",\"name\":\"MnF<sub>2</sub>\\u2014Na<sub>2</sub>MnF<sub>5</sub>\\u2014Na<sub>3</sub>MnF<sub>6</sub>\",\"opacity\":0.15,\"showlegend\":false,\"type\":\"scatterternary\"},{\"a\":[0,2.0,1.0],\"b\":[1.0,1.0,1.0],\"c\":[4.0,5.0,4.0],\"fill\":\"toself\",\"fillcolor\":\"#EB663B\",\"hovertemplate\":\"<extra></extra>\",\"line\":{\"width\":0},\"mode\":\"lines\",\"name\":\"MnF<sub>4</sub>\\u2014Na<sub>2</sub>MnF<sub>5</sub>\\u2014NaMnF<sub>4</sub>\",\"opacity\":0.15,\"showlegend\":false,\"type\":\"scatterternary\"},{\"a\":[0,2.0,3.0],\"b\":[1.0,1.0,1.0],\"c\":[4.0,5.0,6.0],\"fill\":\"toself\",\"fillcolor\":\"#511CFB\",\"hovertemplate\":\"<extra></extra>\",\"line\":{\"width\":0},\"mode\":\"lines\",\"name\":\"MnF<sub>4</sub>\\u2014Na<sub>2</sub>MnF<sub>5</sub>\\u2014Na<sub>3</sub>MnF<sub>6</sub>\",\"opacity\":0.15,\"showlegend\":false,\"type\":\"scatterternary\"},{\"a\":[0,0,1.0],\"b\":[2.0,1.0,3.0],\"c\":[5.0,3.0,10.0],\"fill\":\"toself\",\"fillcolor\":\"#00A08B\",\"hovertemplate\":\"<extra></extra>\",\"line\":{\"width\":0},\"mode\":\"lines\",\"name\":\"Mn<sub>2</sub>F<sub>5</sub>\\u2014MnF<sub>3</sub>\\u2014NaMn<sub>3</sub>F<sub>10</sub>\",\"opacity\":0.15,\"showlegend\":false,\"type\":\"scatterternary\"},{\"a\":[0,1.0,1.0],\"b\":[2.0,3.0,1.0],\"c\":[5.0,10.0,4.0],\"fill\":\"toself\",\"fillcolor\":\"#FB00D1\",\"hovertemplate\":\"<extra></extra>\",\"line\":{\"width\":0},\"mode\":\"lines\",\"name\":\"Mn<sub>2</sub>F<sub>5</sub>\\u2014NaMn<sub>3</sub>F<sub>10</sub>\\u2014NaMnF<sub>4</sub>\",\"opacity\":0.15,\"showlegend\":false,\"type\":\"scatterternary\"},{\"a\":[0,0,1.0],\"b\":[1.0,1.0,3.0],\"c\":[3.0,4.0,10.0],\"fill\":\"toself\",\"fillcolor\":\"#FC0080\",\"hovertemplate\":\"<extra></extra>\",\"line\":{\"width\":0},\"mode\":\"lines\",\"name\":\"MnF<sub>3</sub>\\u2014MnF<sub>4</sub>\\u2014NaMn<sub>3</sub>F<sub>10</sub>\",\"opacity\":0.15,\"showlegend\":false,\"type\":\"scatterternary\"},{\"a\":[0,1.0,1.0],\"b\":[1.0,3.0,1.0],\"c\":[4.0,10.0,4.0],\"fill\":\"toself\",\"fillcolor\":\"#B2828D\",\"hovertemplate\":\"<extra></extra>\",\"line\":{\"width\":0},\"mode\":\"lines\",\"name\":\"MnF<sub>4</sub>\\u2014NaMn<sub>3</sub>F<sub>10</sub>\\u2014NaMnF<sub>4</sub>\",\"opacity\":0.15,\"showlegend\":false,\"type\":\"scatterternary\"},{\"a\":[0,1.0,1.0,0,3.0,0,0,0,1.0,1.0,0,2.0],\"b\":[2.0,1.0,0,1.0,1.0,1.0,1.0,1.0,3.0,0,0,1.0],\"c\":[5.0,4.0,1.0,0,6.0,2.0,4.0,3.0,10.0,0,2.0,5.0],\"cliponaxis\":false,\"hoverinfo\":\"text\",\"hoverlabel\":{\"font\":{\"size\":14}},\"hovertext\":[\"Mn<sub>2</sub>F<sub>5</sub> (no ID) <br> -2.981 eV/atom (Stable)\",\"NaMnF<sub>4</sub> (no ID) <br> -3.04 eV/atom (Stable)\",\"NaF (no ID) <br> -2.994 eV/atom (Stable)\",\"Mn (no ID) <br> 0.0 eV/atom (Stable)\",\"Na<sub>3</sub>MnF<sub>6</sub> (no ID) <br> -3.035 eV/atom (Stable)\",\"MnF<sub>2</sub> (no ID) <br> -3.011 eV/atom (Stable)\",\"MnF<sub>4</sub> (no ID) <br> -2.679 eV/atom (Stable)\",\"MnF<sub>3</sub> (no ID) <br> -2.937 eV/atom (Stable)\",\"NaMn<sub>3</sub>F<sub>10</sub> (no ID) <br> -2.981 eV/atom (Stable)\",\"Na (no ID) <br> 0.0 eV/atom (Stable)\",\"F<sub>2</sub> (no ID) <br> 0.0 eV/atom (Stable)\",\"Na<sub>2</sub>MnF<sub>5</sub> (no ID) <br> -3.042 eV/atom (Stable)\"],\"marker\":{\"color\":\"green\",\"line\":{\"color\":\"black\",\"width\":2.0},\"size\":15,\"symbol\":\"circle\"},\"mode\":\"markers\",\"name\":\"Stable\",\"showlegend\":true,\"type\":\"scatterternary\"},{\"a\":[0,1.0,5.0],\"b\":[3.0,1.0,3.0],\"c\":[8.0,3.0,14.0],\"cliponaxis\":false,\"hoverinfo\":\"text\",\"hoverlabel\":{\"font\":{\"size\":14}},\"hovertext\":[\"Mn<sub>3</sub>F<sub>8</sub> (no ID) <br> -2.959 eV/atom (+0.006 eV/atom)\",\"NaMnF<sub>3</sub> (no ID) <br> -2.957 eV/atom (+0.047 eV/atom)\",\"Na<sub>5</sub>Mn<sub>3</sub>F<sub>14</sub> (no ID) <br> -3.034 eV/atom (+0.008 eV/atom)\"],\"marker\":{\"color\":[0.006,0.047,0.008],\"colorbar\":{\"len\":0.5,\"thickness\":0.02,\"thicknessmode\":\"fraction\",\"title\":{\"text\":\"Energy Above Hull<br>(eV/atom)\"},\"x\":0,\"xpad\":0,\"y\":1,\"yanchor\":\"top\",\"ypad\":0},\"colorscale\":[[0.0,\"#fff5e3\"],[0.5,\"#f24324\"],[1.0,\"#c40000\"]],\"line\":{\"color\":\"black\",\"width\":1},\"opacity\":0.8,\"size\":7,\"symbol\":\"diamond\"},\"mode\":\"markers\",\"name\":\"Above Hull\",\"showlegend\":true,\"type\":\"scatterternary\"}],                        {\"autosize\":true,\"margin\":{\"b\":40,\"l\":20,\"r\":20,\"t\":40},\"paper_bgcolor\":\"rgba(0,0,0,0)\",\"plot_bgcolor\":\"rgba(0,0,0,0)\",\"showlegend\":true,\"ternary\":{\"aaxis\":{\"layer\":\"below traces\",\"showgrid\":true,\"showticklabels\":true,\"tickfont\":{\"color\":\"rgba(0,0,0,0)\",\"size\":7},\"title\":{\"font\":{\"size\":24},\"text\":\"Na\"}},\"baxis\":{\"layer\":\"below traces\",\"min\":0,\"showgrid\":true,\"showticklabels\":true,\"tickfont\":{\"color\":\"rgba(0,0,0,0)\",\"size\":7},\"title\":{\"font\":{\"size\":24},\"text\":\"Mn\"}},\"caxis\":{\"layer\":\"below traces\",\"min\":0,\"showgrid\":true,\"showticklabels\":true,\"tickfont\":{\"color\":\"rgba(0,0,0,0)\",\"size\":7},\"title\":{\"font\":{\"size\":24},\"text\":\"F\"}},\"sum\":1},\"template\":{\"data\":{\"histogram2dcontour\":[{\"type\":\"histogram2dcontour\",\"colorbar\":{\"outlinewidth\":0,\"ticks\":\"\"},\"colorscale\":[[0.0,\"#0d0887\"],[0.1111111111111111,\"#46039f\"],[0.2222222222222222,\"#7201a8\"],[0.3333333333333333,\"#9c179e\"],[0.4444444444444444,\"#bd3786\"],[0.5555555555555556,\"#d8576b\"],[0.6666666666666666,\"#ed7953\"],[0.7777777777777778,\"#fb9f3a\"],[0.8888888888888888,\"#fdca26\"],[1.0,\"#f0f921\"]]}],\"choropleth\":[{\"type\":\"choropleth\",\"colorbar\":{\"outlinewidth\":0,\"ticks\":\"\"}}],\"histogram2d\":[{\"type\":\"histogram2d\",\"colorbar\":{\"outlinewidth\":0,\"ticks\":\"\"},\"colorscale\":[[0.0,\"#0d0887\"],[0.1111111111111111,\"#46039f\"],[0.2222222222222222,\"#7201a8\"],[0.3333333333333333,\"#9c179e\"],[0.4444444444444444,\"#bd3786\"],[0.5555555555555556,\"#d8576b\"],[0.6666666666666666,\"#ed7953\"],[0.7777777777777778,\"#fb9f3a\"],[0.8888888888888888,\"#fdca26\"],[1.0,\"#f0f921\"]]}],\"heatmap\":[{\"type\":\"heatmap\",\"colorbar\":{\"outlinewidth\":0,\"ticks\":\"\"},\"colorscale\":[[0.0,\"#0d0887\"],[0.1111111111111111,\"#46039f\"],[0.2222222222222222,\"#7201a8\"],[0.3333333333333333,\"#9c179e\"],[0.4444444444444444,\"#bd3786\"],[0.5555555555555556,\"#d8576b\"],[0.6666666666666666,\"#ed7953\"],[0.7777777777777778,\"#fb9f3a\"],[0.8888888888888888,\"#fdca26\"],[1.0,\"#f0f921\"]]}],\"heatmapgl\":[{\"type\":\"heatmapgl\",\"colorbar\":{\"outlinewidth\":0,\"ticks\":\"\"},\"colorscale\":[[0.0,\"#0d0887\"],[0.1111111111111111,\"#46039f\"],[0.2222222222222222,\"#7201a8\"],[0.3333333333333333,\"#9c179e\"],[0.4444444444444444,\"#bd3786\"],[0.5555555555555556,\"#d8576b\"],[0.6666666666666666,\"#ed7953\"],[0.7777777777777778,\"#fb9f3a\"],[0.8888888888888888,\"#fdca26\"],[1.0,\"#f0f921\"]]}],\"contourcarpet\":[{\"type\":\"contourcarpet\",\"colorbar\":{\"outlinewidth\":0,\"ticks\":\"\"}}],\"contour\":[{\"type\":\"contour\",\"colorbar\":{\"outlinewidth\":0,\"ticks\":\"\"},\"colorscale\":[[0.0,\"#0d0887\"],[0.1111111111111111,\"#46039f\"],[0.2222222222222222,\"#7201a8\"],[0.3333333333333333,\"#9c179e\"],[0.4444444444444444,\"#bd3786\"],[0.5555555555555556,\"#d8576b\"],[0.6666666666666666,\"#ed7953\"],[0.7777777777777778,\"#fb9f3a\"],[0.8888888888888888,\"#fdca26\"],[1.0,\"#f0f921\"]]}],\"surface\":[{\"type\":\"surface\",\"colorbar\":{\"outlinewidth\":0,\"ticks\":\"\"},\"colorscale\":[[0.0,\"#0d0887\"],[0.1111111111111111,\"#46039f\"],[0.2222222222222222,\"#7201a8\"],[0.3333333333333333,\"#9c179e\"],[0.4444444444444444,\"#bd3786\"],[0.5555555555555556,\"#d8576b\"],[0.6666666666666666,\"#ed7953\"],[0.7777777777777778,\"#fb9f3a\"],[0.8888888888888888,\"#fdca26\"],[1.0,\"#f0f921\"]]}],\"mesh3d\":[{\"type\":\"mesh3d\",\"colorbar\":{\"outlinewidth\":0,\"ticks\":\"\"}}],\"scatter\":[{\"fillpattern\":{\"fillmode\":\"overlay\",\"size\":10,\"solidity\":0.2},\"type\":\"scatter\"}],\"parcoords\":[{\"type\":\"parcoords\",\"line\":{\"colorbar\":{\"outlinewidth\":0,\"ticks\":\"\"}}}],\"scatterpolargl\":[{\"type\":\"scatterpolargl\",\"marker\":{\"colorbar\":{\"outlinewidth\":0,\"ticks\":\"\"}}}],\"bar\":[{\"error_x\":{\"color\":\"#2a3f5f\"},\"error_y\":{\"color\":\"#2a3f5f\"},\"marker\":{\"line\":{\"color\":\"#E5ECF6\",\"width\":0.5},\"pattern\":{\"fillmode\":\"overlay\",\"size\":10,\"solidity\":0.2}},\"type\":\"bar\"}],\"scattergeo\":[{\"type\":\"scattergeo\",\"marker\":{\"colorbar\":{\"outlinewidth\":0,\"ticks\":\"\"}}}],\"scatterpolar\":[{\"type\":\"scatterpolar\",\"marker\":{\"colorbar\":{\"outlinewidth\":0,\"ticks\":\"\"}}}],\"histogram\":[{\"marker\":{\"pattern\":{\"fillmode\":\"overlay\",\"size\":10,\"solidity\":0.2}},\"type\":\"histogram\"}],\"scattergl\":[{\"type\":\"scattergl\",\"marker\":{\"colorbar\":{\"outlinewidth\":0,\"ticks\":\"\"}}}],\"scatter3d\":[{\"type\":\"scatter3d\",\"line\":{\"colorbar\":{\"outlinewidth\":0,\"ticks\":\"\"}},\"marker\":{\"colorbar\":{\"outlinewidth\":0,\"ticks\":\"\"}}}],\"scattermapbox\":[{\"type\":\"scattermapbox\",\"marker\":{\"colorbar\":{\"outlinewidth\":0,\"ticks\":\"\"}}}],\"scatterternary\":[{\"type\":\"scatterternary\",\"marker\":{\"colorbar\":{\"outlinewidth\":0,\"ticks\":\"\"}}}],\"scattercarpet\":[{\"type\":\"scattercarpet\",\"marker\":{\"colorbar\":{\"outlinewidth\":0,\"ticks\":\"\"}}}],\"carpet\":[{\"aaxis\":{\"endlinecolor\":\"#2a3f5f\",\"gridcolor\":\"white\",\"linecolor\":\"white\",\"minorgridcolor\":\"white\",\"startlinecolor\":\"#2a3f5f\"},\"baxis\":{\"endlinecolor\":\"#2a3f5f\",\"gridcolor\":\"white\",\"linecolor\":\"white\",\"minorgridcolor\":\"white\",\"startlinecolor\":\"#2a3f5f\"},\"type\":\"carpet\"}],\"table\":[{\"cells\":{\"fill\":{\"color\":\"#EBF0F8\"},\"line\":{\"color\":\"white\"}},\"header\":{\"fill\":{\"color\":\"#C8D4E3\"},\"line\":{\"color\":\"white\"}},\"type\":\"table\"}],\"barpolar\":[{\"marker\":{\"line\":{\"color\":\"#E5ECF6\",\"width\":0.5},\"pattern\":{\"fillmode\":\"overlay\",\"size\":10,\"solidity\":0.2}},\"type\":\"barpolar\"}],\"pie\":[{\"automargin\":true,\"type\":\"pie\"}]},\"layout\":{\"autotypenumbers\":\"strict\",\"colorway\":[\"#636efa\",\"#EF553B\",\"#00cc96\",\"#ab63fa\",\"#FFA15A\",\"#19d3f3\",\"#FF6692\",\"#B6E880\",\"#FF97FF\",\"#FECB52\"],\"font\":{\"color\":\"#2a3f5f\"},\"hovermode\":\"closest\",\"hoverlabel\":{\"align\":\"left\"},\"paper_bgcolor\":\"white\",\"plot_bgcolor\":\"#E5ECF6\",\"polar\":{\"bgcolor\":\"#E5ECF6\",\"angularaxis\":{\"gridcolor\":\"white\",\"linecolor\":\"white\",\"ticks\":\"\"},\"radialaxis\":{\"gridcolor\":\"white\",\"linecolor\":\"white\",\"ticks\":\"\"}},\"ternary\":{\"bgcolor\":\"#E5ECF6\",\"aaxis\":{\"gridcolor\":\"white\",\"linecolor\":\"white\",\"ticks\":\"\"},\"baxis\":{\"gridcolor\":\"white\",\"linecolor\":\"white\",\"ticks\":\"\"},\"caxis\":{\"gridcolor\":\"white\",\"linecolor\":\"white\",\"ticks\":\"\"}},\"coloraxis\":{\"colorbar\":{\"outlinewidth\":0,\"ticks\":\"\"}},\"colorscale\":{\"sequential\":[[0.0,\"#0d0887\"],[0.1111111111111111,\"#46039f\"],[0.2222222222222222,\"#7201a8\"],[0.3333333333333333,\"#9c179e\"],[0.4444444444444444,\"#bd3786\"],[0.5555555555555556,\"#d8576b\"],[0.6666666666666666,\"#ed7953\"],[0.7777777777777778,\"#fb9f3a\"],[0.8888888888888888,\"#fdca26\"],[1.0,\"#f0f921\"]],\"sequentialminus\":[[0.0,\"#0d0887\"],[0.1111111111111111,\"#46039f\"],[0.2222222222222222,\"#7201a8\"],[0.3333333333333333,\"#9c179e\"],[0.4444444444444444,\"#bd3786\"],[0.5555555555555556,\"#d8576b\"],[0.6666666666666666,\"#ed7953\"],[0.7777777777777778,\"#fb9f3a\"],[0.8888888888888888,\"#fdca26\"],[1.0,\"#f0f921\"]],\"diverging\":[[0,\"#8e0152\"],[0.1,\"#c51b7d\"],[0.2,\"#de77ae\"],[0.3,\"#f1b6da\"],[0.4,\"#fde0ef\"],[0.5,\"#f7f7f7\"],[0.6,\"#e6f5d0\"],[0.7,\"#b8e186\"],[0.8,\"#7fbc41\"],[0.9,\"#4d9221\"],[1,\"#276419\"]]},\"xaxis\":{\"gridcolor\":\"white\",\"linecolor\":\"white\",\"ticks\":\"\",\"title\":{\"standoff\":15},\"zerolinecolor\":\"white\",\"automargin\":true,\"zerolinewidth\":2},\"yaxis\":{\"gridcolor\":\"white\",\"linecolor\":\"white\",\"ticks\":\"\",\"title\":{\"standoff\":15},\"zerolinecolor\":\"white\",\"automargin\":true,\"zerolinewidth\":2},\"scene\":{\"xaxis\":{\"backgroundcolor\":\"#E5ECF6\",\"gridcolor\":\"white\",\"linecolor\":\"white\",\"showbackground\":true,\"ticks\":\"\",\"zerolinecolor\":\"white\",\"gridwidth\":2},\"yaxis\":{\"backgroundcolor\":\"#E5ECF6\",\"gridcolor\":\"white\",\"linecolor\":\"white\",\"showbackground\":true,\"ticks\":\"\",\"zerolinecolor\":\"white\",\"gridwidth\":2},\"zaxis\":{\"backgroundcolor\":\"#E5ECF6\",\"gridcolor\":\"white\",\"linecolor\":\"white\",\"showbackground\":true,\"ticks\":\"\",\"zerolinecolor\":\"white\",\"gridwidth\":2}},\"shapedefaults\":{\"line\":{\"color\":\"#2a3f5f\"}},\"annotationdefaults\":{\"arrowcolor\":\"#2a3f5f\",\"arrowhead\":0,\"arrowwidth\":1},\"geo\":{\"bgcolor\":\"white\",\"landcolor\":\"#E5ECF6\",\"subunitcolor\":\"white\",\"showland\":true,\"showlakes\":true,\"lakecolor\":\"white\"},\"title\":{\"x\":0.05},\"mapbox\":{\"style\":\"light\"}}},\"coloraxis\":{\"colorbar\":{\"yanchor\":\"top\",\"y\":0.05,\"x\":1}}},                        {\"responsive\": true}                    ).then(function(){\n",
       "                            \n",
       "var gd = document.getElementById('c60a33e4-4664-432b-ba6f-eca536d4b377');\n",
       "var x = new MutationObserver(function (mutations, observer) {{\n",
       "        var display = window.getComputedStyle(gd).display;\n",
       "        if (!display || display === 'none') {{\n",
       "            console.log([gd, 'removed!']);\n",
       "            Plotly.purge(gd);\n",
       "            observer.disconnect();\n",
       "        }}\n",
       "}});\n",
       "\n",
       "// Listen for the removal of the full notebook cells\n",
       "var notebookContainer = gd.closest('#notebook-container');\n",
       "if (notebookContainer) {{\n",
       "    x.observe(notebookContainer, {childList: true});\n",
       "}}\n",
       "\n",
       "// Listen for the clearing of the current output cell\n",
       "var outputEl = gd.closest('.output');\n",
       "if (outputEl) {{\n",
       "    x.observe(outputEl, {childList: true});\n",
       "}}\n",
       "\n",
       "                        })                };                });            </script>        </div>"
      ]
     },
     "metadata": {},
     "output_type": "display_data"
    },
    {
     "name": "stdout",
     "output_type": "stream",
     "text": [
      "{PDEntry : Mn1 with energy = -18.0621, PDEntry : F2 with energy = -6.9022, PDEntry : Mn1 F3 with energy = -40.1630, PDEntry : Mn2 F5 with energy = -74.2501, PDEntry : Na1 with energy = -4.2040, PDEntry : Na1 F1 with energy = -13.6440, PDEntry : Mn1 F2 with energy = -33.9960, PDEntry : Mn1 F4 with energy = -45.2630, PDEntry : Na3 Mn1 F6 with energy = -81.7352, PDEntry : Na1 Mn1 F4 with energy = -54.3117, PDEntry : Na2 Mn1 F5 with energy = -68.0627, PDEntry : Na1 Mn3 F10 with energy = -134.6411}\n"
     ]
    }
   ],
   "source": [
    "from pymatgen.analysis.phase_diagram import Composition\n",
    "entries =[PDEntry(k,v) for k,v in input_data.items()]\n",
    "\n",
    "phase_diagram_1 = PhaseDiagram(entries)\n",
    "plotter_1 = PDPlotter(phase_diagram_1, show_unstable=True, label_unstable=False, label_stable=True, markersize=20)\n",
    "plotter_1.show() \n",
    "plotter_1.write_image(stream = 'Na-Mn-F_S.svg', image_format = 'svg')\n",
    "print(phase_diagram_1.stable_entries)"
   ]
  },
  {
   "cell_type": "code",
   "execution_count": 4,
   "id": "480a3940",
   "metadata": {},
   "outputs": [
    {
     "data": {
      "text/plain": [
       "{PDEntry : Mn1 F3 (MnF3_c) with energy = -38.7160: 0.4444444444444442,\n",
       " PDEntry : Mn1 F4 with energy = -42.7552: 0.5555555555555554}"
      ]
     },
     "execution_count": 4,
     "metadata": {},
     "output_type": "execute_result"
    }
   ],
   "source": [
    "decomp_1= phase_diagram_1.get_decomposition(Composition(\"Mn2F7\"))\n",
    "decomp_1"
   ]
  },
  {
   "cell_type": "code",
   "execution_count": 7,
   "id": "badca343",
   "metadata": {},
   "outputs": [
    {
     "data": {
      "text/plain": [
       "{PDEntry : Ca1.5 Mn2 F7 with energy = -109.8283: 1.0}"
      ]
     },
     "execution_count": 7,
     "metadata": {},
     "output_type": "execute_result"
    }
   ],
   "source": [
    "decomp_2= phase_diagram_1.get_decomposition(Composition(\"Ca1.5Mn2F7\"))\n",
    "decomp_2"
   ]
  },
  {
   "cell_type": "code",
   "execution_count": 8,
   "id": "d79bb27d",
   "metadata": {},
   "outputs": [
    {
     "ename": "ValueError",
     "evalue": "Unable to get decomposition for PDEntry : Ti2 F7 with energy = -83.6130",
     "output_type": "error",
     "traceback": [
      "\u001b[0;31m---------------------------------------------------------------------------\u001b[0m",
      "\u001b[0;31mValueError\u001b[0m                                Traceback (most recent call last)",
      "File \u001b[0;32m~/anaconda3/lib/python3.10/site-packages/pymatgen/analysis/phase_diagram.py:753\u001b[0m, in \u001b[0;36mPhaseDiagram.get_decomp_and_e_above_hull\u001b[0;34m(self, entry, allow_negative, check_stable, on_error)\u001b[0m\n\u001b[1;32m    752\u001b[0m \u001b[38;5;28;01mtry\u001b[39;00m:\n\u001b[0;32m--> 753\u001b[0m     decomp, hull_energy \u001b[38;5;241m=\u001b[39m \u001b[38;5;28;43mself\u001b[39;49m\u001b[38;5;241;43m.\u001b[39;49m\u001b[43mget_decomp_and_hull_energy_per_atom\u001b[49m\u001b[43m(\u001b[49m\u001b[43mentry\u001b[49m\u001b[38;5;241;43m.\u001b[39;49m\u001b[43mcomposition\u001b[49m\u001b[43m)\u001b[49m\n\u001b[1;32m    754\u001b[0m \u001b[38;5;28;01mexcept\u001b[39;00m \u001b[38;5;167;01mException\u001b[39;00m \u001b[38;5;28;01mas\u001b[39;00m exc:\n",
      "File \u001b[0;32m~/anaconda3/lib/python3.10/site-packages/pymatgen/analysis/phase_diagram.py:689\u001b[0m, in \u001b[0;36mPhaseDiagram.get_decomp_and_hull_energy_per_atom\u001b[0;34m(self, comp)\u001b[0m\n\u001b[1;32m    682\u001b[0m \u001b[38;5;124;03m\"\"\"\u001b[39;00m\n\u001b[1;32m    683\u001b[0m \u001b[38;5;124;03mArgs:\u001b[39;00m\n\u001b[1;32m    684\u001b[0m \u001b[38;5;124;03m    comp (Composition): Input composition.\u001b[39;00m\n\u001b[0;32m   (...)\u001b[0m\n\u001b[1;32m    687\u001b[0m \u001b[38;5;124;03m    Energy of lowest energy equilibrium at desired composition per atom\u001b[39;00m\n\u001b[1;32m    688\u001b[0m \u001b[38;5;124;03m\"\"\"\u001b[39;00m\n\u001b[0;32m--> 689\u001b[0m decomp \u001b[38;5;241m=\u001b[39m \u001b[38;5;28;43mself\u001b[39;49m\u001b[38;5;241;43m.\u001b[39;49m\u001b[43mget_decomposition\u001b[49m\u001b[43m(\u001b[49m\u001b[43mcomp\u001b[49m\u001b[43m)\u001b[49m\n\u001b[1;32m    690\u001b[0m \u001b[38;5;28;01mreturn\u001b[39;00m decomp, \u001b[38;5;28msum\u001b[39m(e\u001b[38;5;241m.\u001b[39menergy_per_atom \u001b[38;5;241m*\u001b[39m n \u001b[38;5;28;01mfor\u001b[39;00m e, n \u001b[38;5;129;01min\u001b[39;00m decomp\u001b[38;5;241m.\u001b[39mitems())\n",
      "File \u001b[0;32m~/anaconda3/lib/python3.10/site-packages/pymatgen/analysis/phase_diagram.py:675\u001b[0m, in \u001b[0;36mPhaseDiagram.get_decomposition\u001b[0;34m(self, comp)\u001b[0m\n\u001b[1;32m    665\u001b[0m \u001b[38;5;124;03m\"\"\"\u001b[39;00m\n\u001b[1;32m    666\u001b[0m \u001b[38;5;124;03mProvides the decomposition at a particular composition.\u001b[39;00m\n\u001b[1;32m    667\u001b[0m \n\u001b[0;32m   (...)\u001b[0m\n\u001b[1;32m    673\u001b[0m \u001b[38;5;124;03m    is the amount of the fractional composition.\u001b[39;00m\n\u001b[1;32m    674\u001b[0m \u001b[38;5;124;03m\"\"\"\u001b[39;00m\n\u001b[0;32m--> 675\u001b[0m facet, simplex \u001b[38;5;241m=\u001b[39m \u001b[38;5;28;43mself\u001b[39;49m\u001b[38;5;241;43m.\u001b[39;49m\u001b[43m_get_facet_and_simplex\u001b[49m\u001b[43m(\u001b[49m\u001b[43mcomp\u001b[49m\u001b[43m)\u001b[49m\n\u001b[1;32m    676\u001b[0m decomp_amts \u001b[38;5;241m=\u001b[39m simplex\u001b[38;5;241m.\u001b[39mbary_coords(\u001b[38;5;28mself\u001b[39m\u001b[38;5;241m.\u001b[39mpd_coords(comp))\n",
      "File \u001b[0;32m~/anaconda3/lib/python3.10/site-packages/pymatgen/analysis/phase_diagram.py:603\u001b[0m, in \u001b[0;36mPhaseDiagram._get_facet_and_simplex\u001b[0;34m(self, comp)\u001b[0m\n\u001b[1;32m    596\u001b[0m \u001b[38;5;124;03m\"\"\"\u001b[39;00m\n\u001b[1;32m    597\u001b[0m \u001b[38;5;124;03mGet any facet that a composition falls into. Cached so successive\u001b[39;00m\n\u001b[1;32m    598\u001b[0m \u001b[38;5;124;03mcalls at same composition are fast.\u001b[39;00m\n\u001b[0;32m   (...)\u001b[0m\n\u001b[1;32m    601\u001b[0m \u001b[38;5;124;03m    comp (Composition): A composition\u001b[39;00m\n\u001b[1;32m    602\u001b[0m \u001b[38;5;124;03m\"\"\"\u001b[39;00m\n\u001b[0;32m--> 603\u001b[0m c \u001b[38;5;241m=\u001b[39m \u001b[38;5;28;43mself\u001b[39;49m\u001b[38;5;241;43m.\u001b[39;49m\u001b[43mpd_coords\u001b[49m\u001b[43m(\u001b[49m\u001b[43mcomp\u001b[49m\u001b[43m)\u001b[49m\n\u001b[1;32m    604\u001b[0m \u001b[38;5;28;01mfor\u001b[39;00m f, s \u001b[38;5;129;01min\u001b[39;00m \u001b[38;5;28mzip\u001b[39m(\u001b[38;5;28mself\u001b[39m\u001b[38;5;241m.\u001b[39mfacets, \u001b[38;5;28mself\u001b[39m\u001b[38;5;241m.\u001b[39msimplexes):\n",
      "File \u001b[0;32m~/anaconda3/lib/python3.10/site-packages/pymatgen/analysis/phase_diagram.py:506\u001b[0m, in \u001b[0;36mPhaseDiagram.pd_coords\u001b[0;34m(self, comp)\u001b[0m\n\u001b[1;32m    505\u001b[0m \u001b[38;5;28;01mif\u001b[39;00m \u001b[38;5;28mset\u001b[39m(comp\u001b[38;5;241m.\u001b[39melements) \u001b[38;5;241m-\u001b[39m \u001b[38;5;28mset\u001b[39m(\u001b[38;5;28mself\u001b[39m\u001b[38;5;241m.\u001b[39melements):\n\u001b[0;32m--> 506\u001b[0m     \u001b[38;5;28;01mraise\u001b[39;00m \u001b[38;5;167;01mValueError\u001b[39;00m(\u001b[38;5;124mf\u001b[39m\u001b[38;5;124m\"\u001b[39m\u001b[38;5;132;01m{\u001b[39;00mcomp\u001b[38;5;132;01m}\u001b[39;00m\u001b[38;5;124m has elements not in the phase diagram \u001b[39m\u001b[38;5;132;01m{\u001b[39;00m\u001b[38;5;124m'\u001b[39m\u001b[38;5;124m, \u001b[39m\u001b[38;5;124m'\u001b[39m\u001b[38;5;241m.\u001b[39mjoin(\u001b[38;5;28mmap\u001b[39m(\u001b[38;5;28mstr\u001b[39m,\u001b[38;5;28mself\u001b[39m\u001b[38;5;241m.\u001b[39melements))\u001b[38;5;132;01m}\u001b[39;00m\u001b[38;5;124m\"\u001b[39m)\n\u001b[1;32m    507\u001b[0m \u001b[38;5;28;01mreturn\u001b[39;00m np\u001b[38;5;241m.\u001b[39marray([comp\u001b[38;5;241m.\u001b[39mget_atomic_fraction(el) \u001b[38;5;28;01mfor\u001b[39;00m el \u001b[38;5;129;01min\u001b[39;00m \u001b[38;5;28mself\u001b[39m\u001b[38;5;241m.\u001b[39melements[\u001b[38;5;241m1\u001b[39m:]])\n",
      "\u001b[0;31mValueError\u001b[0m: Ti2 F7 has elements not in the phase diagram Ca, Mn, F",
      "\nThe above exception was the direct cause of the following exception:\n",
      "\u001b[0;31mValueError\u001b[0m                                Traceback (most recent call last)",
      "Cell \u001b[0;32mIn[8], line 1\u001b[0m\n\u001b[0;32m----> 1\u001b[0m ehull_1 \u001b[38;5;241m=\u001b[39m \u001b[43mphase_diagram_1\u001b[49m\u001b[38;5;241;43m.\u001b[39;49m\u001b[43mget_e_above_hull\u001b[49m\u001b[43m(\u001b[49m\u001b[43mPDEntry\u001b[49m\u001b[43m(\u001b[49m\u001b[43m  \u001b[49m\u001b[38;5;124;43m\"\u001b[39;49m\u001b[38;5;124;43mTi2F7\u001b[39;49m\u001b[38;5;124;43m\"\u001b[39;49m\u001b[43m,\u001b[49m\u001b[38;5;241;43m-\u001b[39;49m\u001b[38;5;241;43m83.612953\u001b[39;49m\u001b[43m)\u001b[49m\u001b[43m)\u001b[49m\n\u001b[1;32m      3\u001b[0m \u001b[38;5;66;03m#Returns:- Stable entries should have energy above convex hull of 0. The energy is given per atom.\u001b[39;00m\n\u001b[1;32m      5\u001b[0m \u001b[38;5;28mprint\u001b[39m(\u001b[38;5;124m\"\u001b[39m\u001b[38;5;124mThe energy above hull of Ti2F7 is \u001b[39m\u001b[38;5;132;01m{0}\u001b[39;00m\u001b[38;5;124m eV/atom.\u001b[39m\u001b[38;5;124m\"\u001b[39m\u001b[38;5;241m.\u001b[39mformat(ehull_1))\n",
      "File \u001b[0;32m~/anaconda3/lib/python3.10/site-packages/pymatgen/analysis/phase_diagram.py:784\u001b[0m, in \u001b[0;36mPhaseDiagram.get_e_above_hull\u001b[0;34m(self, entry, **kwargs)\u001b[0m\n\u001b[1;32m    772\u001b[0m \u001b[38;5;28;01mdef\u001b[39;00m \u001b[38;5;21mget_e_above_hull\u001b[39m(\u001b[38;5;28mself\u001b[39m, entry: PDEntry, \u001b[38;5;241m*\u001b[39m\u001b[38;5;241m*\u001b[39mkwargs: Any) \u001b[38;5;241m-\u001b[39m\u001b[38;5;241m>\u001b[39m \u001b[38;5;28mfloat\u001b[39m \u001b[38;5;241m|\u001b[39m \u001b[38;5;28;01mNone\u001b[39;00m:\n\u001b[1;32m    773\u001b[0m     \u001b[38;5;124;03m\"\"\"\u001b[39;00m\n\u001b[1;32m    774\u001b[0m \u001b[38;5;124;03m    Provides the energy above convex hull for an entry.\u001b[39;00m\n\u001b[1;32m    775\u001b[0m \n\u001b[0;32m   (...)\u001b[0m\n\u001b[1;32m    782\u001b[0m \u001b[38;5;124;03m            energy above hull of 0. The energy is given per atom.\u001b[39;00m\n\u001b[1;32m    783\u001b[0m \u001b[38;5;124;03m    \"\"\"\u001b[39;00m\n\u001b[0;32m--> 784\u001b[0m     \u001b[38;5;28;01mreturn\u001b[39;00m \u001b[38;5;28;43mself\u001b[39;49m\u001b[38;5;241;43m.\u001b[39;49m\u001b[43mget_decomp_and_e_above_hull\u001b[49m\u001b[43m(\u001b[49m\u001b[43mentry\u001b[49m\u001b[43m,\u001b[49m\u001b[43m \u001b[49m\u001b[38;5;241;43m*\u001b[39;49m\u001b[38;5;241;43m*\u001b[39;49m\u001b[43mkwargs\u001b[49m\u001b[43m)\u001b[49m[\u001b[38;5;241m1\u001b[39m]\n",
      "File \u001b[0;32m~/anaconda3/lib/python3.10/site-packages/pymatgen/analysis/phase_diagram.py:756\u001b[0m, in \u001b[0;36mPhaseDiagram.get_decomp_and_e_above_hull\u001b[0;34m(self, entry, allow_negative, check_stable, on_error)\u001b[0m\n\u001b[1;32m    754\u001b[0m \u001b[38;5;28;01mexcept\u001b[39;00m \u001b[38;5;167;01mException\u001b[39;00m \u001b[38;5;28;01mas\u001b[39;00m exc:\n\u001b[1;32m    755\u001b[0m     \u001b[38;5;28;01mif\u001b[39;00m on_error \u001b[38;5;241m==\u001b[39m \u001b[38;5;124m\"\u001b[39m\u001b[38;5;124mraise\u001b[39m\u001b[38;5;124m\"\u001b[39m:\n\u001b[0;32m--> 756\u001b[0m         \u001b[38;5;28;01mraise\u001b[39;00m \u001b[38;5;167;01mValueError\u001b[39;00m(\u001b[38;5;124mf\u001b[39m\u001b[38;5;124m\"\u001b[39m\u001b[38;5;124mUnable to get decomposition for \u001b[39m\u001b[38;5;132;01m{\u001b[39;00mentry\u001b[38;5;132;01m}\u001b[39;00m\u001b[38;5;124m\"\u001b[39m) \u001b[38;5;28;01mfrom\u001b[39;00m \u001b[38;5;21;01mexc\u001b[39;00m\n\u001b[1;32m    757\u001b[0m     \u001b[38;5;28;01mif\u001b[39;00m on_error \u001b[38;5;241m==\u001b[39m \u001b[38;5;124m\"\u001b[39m\u001b[38;5;124mwarn\u001b[39m\u001b[38;5;124m\"\u001b[39m:\n\u001b[1;32m    758\u001b[0m         warnings\u001b[38;5;241m.\u001b[39mwarn(\u001b[38;5;124mf\u001b[39m\u001b[38;5;124m\"\u001b[39m\u001b[38;5;124mUnable to get decomposition for \u001b[39m\u001b[38;5;132;01m{\u001b[39;00mentry\u001b[38;5;132;01m}\u001b[39;00m\u001b[38;5;124m, encountered \u001b[39m\u001b[38;5;132;01m{\u001b[39;00mexc\u001b[38;5;132;01m}\u001b[39;00m\u001b[38;5;124m\"\u001b[39m)\n",
      "\u001b[0;31mValueError\u001b[0m: Unable to get decomposition for PDEntry : Ti2 F7 with energy = -83.6130"
     ]
    }
   ],
   "source": [
    "ehull_1 = phase_diagram_1.get_e_above_hull(PDEntry(  \"Ti2F7\",-83.612953))\n",
    "\n",
    "#Returns:- Stable entries should have energy above convex hull of 0. The energy is given per atom.\n",
    "\n",
    "print(\"The energy above hull of Ti2F7 is {0} eV/atom.\".format(ehull_1))\n",
    "    "
   ]
  },
  {
   "cell_type": "code",
   "execution_count": 9,
   "id": "5bd3376a",
   "metadata": {},
   "outputs": [
    {
     "ename": "ValueError",
     "evalue": "Unable to get decomposition for PDEntry : Ca1 Co2 S3 O12 with energy = -178.3210",
     "output_type": "error",
     "traceback": [
      "\u001b[0;31m---------------------------------------------------------------------------\u001b[0m",
      "\u001b[0;31mValueError\u001b[0m                                Traceback (most recent call last)",
      "File \u001b[0;32m~/anaconda3/lib/python3.10/site-packages/pymatgen/analysis/phase_diagram.py:753\u001b[0m, in \u001b[0;36mPhaseDiagram.get_decomp_and_e_above_hull\u001b[0;34m(self, entry, allow_negative, check_stable, on_error)\u001b[0m\n\u001b[1;32m    752\u001b[0m \u001b[38;5;28;01mtry\u001b[39;00m:\n\u001b[0;32m--> 753\u001b[0m     decomp, hull_energy \u001b[38;5;241m=\u001b[39m \u001b[38;5;28;43mself\u001b[39;49m\u001b[38;5;241;43m.\u001b[39;49m\u001b[43mget_decomp_and_hull_energy_per_atom\u001b[49m\u001b[43m(\u001b[49m\u001b[43mentry\u001b[49m\u001b[38;5;241;43m.\u001b[39;49m\u001b[43mcomposition\u001b[49m\u001b[43m)\u001b[49m\n\u001b[1;32m    754\u001b[0m \u001b[38;5;28;01mexcept\u001b[39;00m \u001b[38;5;167;01mException\u001b[39;00m \u001b[38;5;28;01mas\u001b[39;00m exc:\n",
      "File \u001b[0;32m~/anaconda3/lib/python3.10/site-packages/pymatgen/analysis/phase_diagram.py:689\u001b[0m, in \u001b[0;36mPhaseDiagram.get_decomp_and_hull_energy_per_atom\u001b[0;34m(self, comp)\u001b[0m\n\u001b[1;32m    682\u001b[0m \u001b[38;5;124;03m\"\"\"\u001b[39;00m\n\u001b[1;32m    683\u001b[0m \u001b[38;5;124;03mArgs:\u001b[39;00m\n\u001b[1;32m    684\u001b[0m \u001b[38;5;124;03m    comp (Composition): Input composition.\u001b[39;00m\n\u001b[0;32m   (...)\u001b[0m\n\u001b[1;32m    687\u001b[0m \u001b[38;5;124;03m    Energy of lowest energy equilibrium at desired composition per atom\u001b[39;00m\n\u001b[1;32m    688\u001b[0m \u001b[38;5;124;03m\"\"\"\u001b[39;00m\n\u001b[0;32m--> 689\u001b[0m decomp \u001b[38;5;241m=\u001b[39m \u001b[38;5;28;43mself\u001b[39;49m\u001b[38;5;241;43m.\u001b[39;49m\u001b[43mget_decomposition\u001b[49m\u001b[43m(\u001b[49m\u001b[43mcomp\u001b[49m\u001b[43m)\u001b[49m\n\u001b[1;32m    690\u001b[0m \u001b[38;5;28;01mreturn\u001b[39;00m decomp, \u001b[38;5;28msum\u001b[39m(e\u001b[38;5;241m.\u001b[39menergy_per_atom \u001b[38;5;241m*\u001b[39m n \u001b[38;5;28;01mfor\u001b[39;00m e, n \u001b[38;5;129;01min\u001b[39;00m decomp\u001b[38;5;241m.\u001b[39mitems())\n",
      "File \u001b[0;32m~/anaconda3/lib/python3.10/site-packages/pymatgen/analysis/phase_diagram.py:675\u001b[0m, in \u001b[0;36mPhaseDiagram.get_decomposition\u001b[0;34m(self, comp)\u001b[0m\n\u001b[1;32m    665\u001b[0m \u001b[38;5;124;03m\"\"\"\u001b[39;00m\n\u001b[1;32m    666\u001b[0m \u001b[38;5;124;03mProvides the decomposition at a particular composition.\u001b[39;00m\n\u001b[1;32m    667\u001b[0m \n\u001b[0;32m   (...)\u001b[0m\n\u001b[1;32m    673\u001b[0m \u001b[38;5;124;03m    is the amount of the fractional composition.\u001b[39;00m\n\u001b[1;32m    674\u001b[0m \u001b[38;5;124;03m\"\"\"\u001b[39;00m\n\u001b[0;32m--> 675\u001b[0m facet, simplex \u001b[38;5;241m=\u001b[39m \u001b[38;5;28;43mself\u001b[39;49m\u001b[38;5;241;43m.\u001b[39;49m\u001b[43m_get_facet_and_simplex\u001b[49m\u001b[43m(\u001b[49m\u001b[43mcomp\u001b[49m\u001b[43m)\u001b[49m\n\u001b[1;32m    676\u001b[0m decomp_amts \u001b[38;5;241m=\u001b[39m simplex\u001b[38;5;241m.\u001b[39mbary_coords(\u001b[38;5;28mself\u001b[39m\u001b[38;5;241m.\u001b[39mpd_coords(comp))\n",
      "File \u001b[0;32m~/anaconda3/lib/python3.10/site-packages/pymatgen/analysis/phase_diagram.py:603\u001b[0m, in \u001b[0;36mPhaseDiagram._get_facet_and_simplex\u001b[0;34m(self, comp)\u001b[0m\n\u001b[1;32m    596\u001b[0m \u001b[38;5;124;03m\"\"\"\u001b[39;00m\n\u001b[1;32m    597\u001b[0m \u001b[38;5;124;03mGet any facet that a composition falls into. Cached so successive\u001b[39;00m\n\u001b[1;32m    598\u001b[0m \u001b[38;5;124;03mcalls at same composition are fast.\u001b[39;00m\n\u001b[0;32m   (...)\u001b[0m\n\u001b[1;32m    601\u001b[0m \u001b[38;5;124;03m    comp (Composition): A composition\u001b[39;00m\n\u001b[1;32m    602\u001b[0m \u001b[38;5;124;03m\"\"\"\u001b[39;00m\n\u001b[0;32m--> 603\u001b[0m c \u001b[38;5;241m=\u001b[39m \u001b[38;5;28;43mself\u001b[39;49m\u001b[38;5;241;43m.\u001b[39;49m\u001b[43mpd_coords\u001b[49m\u001b[43m(\u001b[49m\u001b[43mcomp\u001b[49m\u001b[43m)\u001b[49m\n\u001b[1;32m    604\u001b[0m \u001b[38;5;28;01mfor\u001b[39;00m f, s \u001b[38;5;129;01min\u001b[39;00m \u001b[38;5;28mzip\u001b[39m(\u001b[38;5;28mself\u001b[39m\u001b[38;5;241m.\u001b[39mfacets, \u001b[38;5;28mself\u001b[39m\u001b[38;5;241m.\u001b[39msimplexes):\n",
      "File \u001b[0;32m~/anaconda3/lib/python3.10/site-packages/pymatgen/analysis/phase_diagram.py:506\u001b[0m, in \u001b[0;36mPhaseDiagram.pd_coords\u001b[0;34m(self, comp)\u001b[0m\n\u001b[1;32m    505\u001b[0m \u001b[38;5;28;01mif\u001b[39;00m \u001b[38;5;28mset\u001b[39m(comp\u001b[38;5;241m.\u001b[39melements) \u001b[38;5;241m-\u001b[39m \u001b[38;5;28mset\u001b[39m(\u001b[38;5;28mself\u001b[39m\u001b[38;5;241m.\u001b[39melements):\n\u001b[0;32m--> 506\u001b[0m     \u001b[38;5;28;01mraise\u001b[39;00m \u001b[38;5;167;01mValueError\u001b[39;00m(\u001b[38;5;124mf\u001b[39m\u001b[38;5;124m\"\u001b[39m\u001b[38;5;132;01m{\u001b[39;00mcomp\u001b[38;5;132;01m}\u001b[39;00m\u001b[38;5;124m has elements not in the phase diagram \u001b[39m\u001b[38;5;132;01m{\u001b[39;00m\u001b[38;5;124m'\u001b[39m\u001b[38;5;124m, \u001b[39m\u001b[38;5;124m'\u001b[39m\u001b[38;5;241m.\u001b[39mjoin(\u001b[38;5;28mmap\u001b[39m(\u001b[38;5;28mstr\u001b[39m,\u001b[38;5;28mself\u001b[39m\u001b[38;5;241m.\u001b[39melements))\u001b[38;5;132;01m}\u001b[39;00m\u001b[38;5;124m\"\u001b[39m)\n\u001b[1;32m    507\u001b[0m \u001b[38;5;28;01mreturn\u001b[39;00m np\u001b[38;5;241m.\u001b[39marray([comp\u001b[38;5;241m.\u001b[39mget_atomic_fraction(el) \u001b[38;5;28;01mfor\u001b[39;00m el \u001b[38;5;129;01min\u001b[39;00m \u001b[38;5;28mself\u001b[39m\u001b[38;5;241m.\u001b[39melements[\u001b[38;5;241m1\u001b[39m:]])\n",
      "\u001b[0;31mValueError\u001b[0m: Ca1 Co2 S3 O12 has elements not in the phase diagram Ca, Mn, F",
      "\nThe above exception was the direct cause of the following exception:\n",
      "\u001b[0;31mValueError\u001b[0m                                Traceback (most recent call last)",
      "Cell \u001b[0;32mIn[9], line 1\u001b[0m\n\u001b[0;32m----> 1\u001b[0m ehull_2 \u001b[38;5;241m=\u001b[39m \u001b[43mphase_diagram_1\u001b[49m\u001b[38;5;241;43m.\u001b[39;49m\u001b[43mget_e_above_hull\u001b[49m\u001b[43m(\u001b[49m\u001b[43mPDEntry\u001b[49m\u001b[43m(\u001b[49m\u001b[38;5;124;43m\"\u001b[39;49m\u001b[38;5;124;43mCaCo2S3O12\u001b[39;49m\u001b[38;5;124;43m\"\u001b[39;49m\u001b[43m,\u001b[49m\u001b[38;5;241;43m-\u001b[39;49m\u001b[38;5;241;43m178.321\u001b[39;49m\u001b[43m)\u001b[49m\u001b[43m)\u001b[49m\n\u001b[1;32m      2\u001b[0m \u001b[38;5;28mprint\u001b[39m(\u001b[38;5;124m\"\u001b[39m\u001b[38;5;124mThe energy above hull of Ca2Cr2(SiO4)3 is \u001b[39m\u001b[38;5;132;01m{0}\u001b[39;00m\u001b[38;5;124m eV/atom.\u001b[39m\u001b[38;5;124m\"\u001b[39m\u001b[38;5;241m.\u001b[39mformat(ehull_2))\n",
      "File \u001b[0;32m~/anaconda3/lib/python3.10/site-packages/pymatgen/analysis/phase_diagram.py:784\u001b[0m, in \u001b[0;36mPhaseDiagram.get_e_above_hull\u001b[0;34m(self, entry, **kwargs)\u001b[0m\n\u001b[1;32m    772\u001b[0m \u001b[38;5;28;01mdef\u001b[39;00m \u001b[38;5;21mget_e_above_hull\u001b[39m(\u001b[38;5;28mself\u001b[39m, entry: PDEntry, \u001b[38;5;241m*\u001b[39m\u001b[38;5;241m*\u001b[39mkwargs: Any) \u001b[38;5;241m-\u001b[39m\u001b[38;5;241m>\u001b[39m \u001b[38;5;28mfloat\u001b[39m \u001b[38;5;241m|\u001b[39m \u001b[38;5;28;01mNone\u001b[39;00m:\n\u001b[1;32m    773\u001b[0m     \u001b[38;5;124;03m\"\"\"\u001b[39;00m\n\u001b[1;32m    774\u001b[0m \u001b[38;5;124;03m    Provides the energy above convex hull for an entry.\u001b[39;00m\n\u001b[1;32m    775\u001b[0m \n\u001b[0;32m   (...)\u001b[0m\n\u001b[1;32m    782\u001b[0m \u001b[38;5;124;03m            energy above hull of 0. The energy is given per atom.\u001b[39;00m\n\u001b[1;32m    783\u001b[0m \u001b[38;5;124;03m    \"\"\"\u001b[39;00m\n\u001b[0;32m--> 784\u001b[0m     \u001b[38;5;28;01mreturn\u001b[39;00m \u001b[38;5;28;43mself\u001b[39;49m\u001b[38;5;241;43m.\u001b[39;49m\u001b[43mget_decomp_and_e_above_hull\u001b[49m\u001b[43m(\u001b[49m\u001b[43mentry\u001b[49m\u001b[43m,\u001b[49m\u001b[43m \u001b[49m\u001b[38;5;241;43m*\u001b[39;49m\u001b[38;5;241;43m*\u001b[39;49m\u001b[43mkwargs\u001b[49m\u001b[43m)\u001b[49m[\u001b[38;5;241m1\u001b[39m]\n",
      "File \u001b[0;32m~/anaconda3/lib/python3.10/site-packages/pymatgen/analysis/phase_diagram.py:756\u001b[0m, in \u001b[0;36mPhaseDiagram.get_decomp_and_e_above_hull\u001b[0;34m(self, entry, allow_negative, check_stable, on_error)\u001b[0m\n\u001b[1;32m    754\u001b[0m \u001b[38;5;28;01mexcept\u001b[39;00m \u001b[38;5;167;01mException\u001b[39;00m \u001b[38;5;28;01mas\u001b[39;00m exc:\n\u001b[1;32m    755\u001b[0m     \u001b[38;5;28;01mif\u001b[39;00m on_error \u001b[38;5;241m==\u001b[39m \u001b[38;5;124m\"\u001b[39m\u001b[38;5;124mraise\u001b[39m\u001b[38;5;124m\"\u001b[39m:\n\u001b[0;32m--> 756\u001b[0m         \u001b[38;5;28;01mraise\u001b[39;00m \u001b[38;5;167;01mValueError\u001b[39;00m(\u001b[38;5;124mf\u001b[39m\u001b[38;5;124m\"\u001b[39m\u001b[38;5;124mUnable to get decomposition for \u001b[39m\u001b[38;5;132;01m{\u001b[39;00mentry\u001b[38;5;132;01m}\u001b[39;00m\u001b[38;5;124m\"\u001b[39m) \u001b[38;5;28;01mfrom\u001b[39;00m \u001b[38;5;21;01mexc\u001b[39;00m\n\u001b[1;32m    757\u001b[0m     \u001b[38;5;28;01mif\u001b[39;00m on_error \u001b[38;5;241m==\u001b[39m \u001b[38;5;124m\"\u001b[39m\u001b[38;5;124mwarn\u001b[39m\u001b[38;5;124m\"\u001b[39m:\n\u001b[1;32m    758\u001b[0m         warnings\u001b[38;5;241m.\u001b[39mwarn(\u001b[38;5;124mf\u001b[39m\u001b[38;5;124m\"\u001b[39m\u001b[38;5;124mUnable to get decomposition for \u001b[39m\u001b[38;5;132;01m{\u001b[39;00mentry\u001b[38;5;132;01m}\u001b[39;00m\u001b[38;5;124m, encountered \u001b[39m\u001b[38;5;132;01m{\u001b[39;00mexc\u001b[38;5;132;01m}\u001b[39;00m\u001b[38;5;124m\"\u001b[39m)\n",
      "\u001b[0;31mValueError\u001b[0m: Unable to get decomposition for PDEntry : Ca1 Co2 S3 O12 with energy = -178.3210"
     ]
    }
   ],
   "source": [
    "ehull_2 = phase_diagram_1.get_e_above_hull(PDEntry(\"CaCo2S3O12\",-178.321))\n",
    "print(\"The energy above hull of Ca2Cr2(SiO4)3 is {0} eV/atom.\".format(ehull_2))"
   ]
  },
  {
   "cell_type": "code",
   "execution_count": 11,
   "id": "788bb288",
   "metadata": {},
   "outputs": [
    {
     "data": {
      "image/png": "[encoded data removed]",
      "text/plain": [
       "<Figure size 800x600 with 1 Axes>"
      ]
     },
     "metadata": {},
     "output_type": "display_data"
    },
    {
     "data": {
      "application/vnd.plotly.v1+json": {
       "config": {
        "plotlyServerURL": "https://plot.ly"
       },
       "data": [
        {
         "a": [
          0.49999999999999983,
          0,
          null,
          0.49999999999999983,
          1,
          null,
          0.9999999999999998,
          1,
          null,
          0,
          1,
          null,
          0,
          0,
          null,
          1.4999999999999998,
          1,
          null,
          1,
          0,
          null,
          0.9999999999999998,
          1,
          null,
          0,
          1,
          null,
          0,
          0,
          null,
          0,
          0,
          null,
          0,
          0.49999999999999983,
          null,
          1.4999999999999998,
          0,
          null,
          1,
          1.4999999999999998,
          null,
          1,
          1,
          null,
          0.49999999999999983,
          1.4999999999999998,
          null,
          0.9999999999999998,
          0,
          null,
          0,
          0,
          null,
          0,
          1,
          null,
          0,
          1,
          null
         ],
         "b": [
          1.0000000000000002,
          1,
          null,
          1.0000000000000002,
          0.9999999999999998,
          null,
          0,
          0,
          null,
          0.9999999999999998,
          0.9999999999999998,
          null,
          1,
          0,
          null,
          2.0000000000000036,
          0,
          null,
          0.9999999999999998,
          0,
          null,
          0,
          0.9999999999999998,
          null,
          1,
          0,
          null,
          0.9999999999999997,
          0.9999999999999998,
          null,
          0.9999999999999998,
          1,
          null,
          0.9999999999999997,
          1.0000000000000002,
          null,
          2.0000000000000036,
          1,
          null,
          0.9999999999999998,
          2.0000000000000036,
          null,
          0.9999999999999998,
          0,
          null,
          1.0000000000000002,
          2.0000000000000036,
          null,
          0,
          0,
          null,
          0.9999999999999997,
          1,
          null,
          0.9999999999999997,
          0.9999999999999998,
          null,
          1,
          0.9999999999999998,
          null
         ],
         "c": [
          3.000000000000001,
          0,
          null,
          3.000000000000001,
          5,
          null,
          2.0000000000000004,
          0,
          null,
          2.9999999999999982,
          5,
          null,
          4,
          2,
          null,
          7.0000000000000036,
          0,
          null,
          5,
          2,
          null,
          2.0000000000000004,
          5,
          null,
          0,
          0,
          null,
          2,
          2.9999999999999982,
          null,
          2.9999999999999982,
          4,
          null,
          2,
          3.000000000000001,
          null,
          7.0000000000000036,
          0,
          null,
          5,
          7.0000000000000036,
          null,
          5,
          0,
          null,
          3.000000000000001,
          7.0000000000000036,
          null,
          2.0000000000000004,
          2,
          null,
          2,
          0,
          null,
          2,
          5,
          null,
          4,
          5,
          null
         ],
         "hoverinfo": "none",
         "line": {
          "color": "black",
          "width": 1.5
         },
         "mode": "lines",
         "showlegend": false,
         "type": "scatterternary"
        },
        {
         "a": [
          1,
          1.4999999999999998,
          0
         ],
         "b": [
          0,
          2.0000000000000036,
          1
         ],
         "c": [
          0,
          7.0000000000000036,
          0
         ],
         "fill": "toself",
         "fillcolor": "#2E91E5",
         "hovertemplate": "<extra></extra>",
         "line": {
          "width": 0
         },
         "mode": "lines",
         "name": "Ca—Ca<sub>1.5</sub>Mn<sub>2</sub>F<sub>7</sub>—Mn",
         "opacity": 0.15,
         "showlegend": false,
         "type": "scatterternary"
        },
        {
         "a": [
          1,
          0.9999999999999998,
          0
         ],
         "b": [
          0.9999999999999998,
          0,
          0
         ],
         "c": [
          5,
          2.0000000000000004,
          2
         ],
         "fill": "toself",
         "fillcolor": "#E15F99",
         "hovertemplate": "<extra></extra>",
         "line": {
          "width": 0
         },
         "mode": "lines",
         "name": "CaMnF<sub>5</sub>—CaF<sub>2</sub>—F<sub>2</sub>",
         "opacity": 0.15,
         "showlegend": false,
         "type": "scatterternary"
        },
        {
         "a": [
          1,
          1,
          0.9999999999999998
         ],
         "b": [
          0,
          0.9999999999999998,
          0
         ],
         "c": [
          0,
          5,
          2.0000000000000004
         ],
         "fill": "toself",
         "fillcolor": "#1CA71C",
         "hovertemplate": "<extra></extra>",
         "line": {
          "width": 0
         },
         "mode": "lines",
         "name": "Ca—CaMnF<sub>5</sub>—CaF<sub>2</sub>",
         "opacity": 0.15,
         "showlegend": false,
         "type": "scatterternary"
        },
        {
         "a": [
          1,
          1.4999999999999998,
          1
         ],
         "b": [
          0,
          2.0000000000000036,
          0.9999999999999998
         ],
         "c": [
          0,
          7.0000000000000036,
          5
         ],
         "fill": "toself",
         "fillcolor": "#FB0D0D",
         "hovertemplate": "<extra></extra>",
         "line": {
          "width": 0
         },
         "mode": "lines",
         "name": "Ca—Ca<sub>1.5</sub>Mn<sub>2</sub>F<sub>7</sub>—CaMnF<sub>5</sub>",
         "opacity": 0.15,
         "showlegend": false,
         "type": "scatterternary"
        },
        {
         "a": [
          0.49999999999999983,
          1.4999999999999998,
          0
         ],
         "b": [
          1.0000000000000002,
          2.0000000000000036,
          1
         ],
         "c": [
          3.000000000000001,
          7.0000000000000036,
          0
         ],
         "fill": "toself",
         "fillcolor": "#DA16FF",
         "hovertemplate": "<extra></extra>",
         "line": {
          "width": 0
         },
         "mode": "lines",
         "name": "Ca<sub>0.5</sub>Mn<sub>1</sub>F<sub>3</sub>—Ca<sub>1.5</sub>Mn<sub>2</sub>F<sub>7</sub>—Mn",
         "opacity": 0.15,
         "showlegend": false,
         "type": "scatterternary"
        },
        {
         "a": [
          0.49999999999999983,
          0,
          0
         ],
         "b": [
          1.0000000000000002,
          1,
          0.9999999999999997
         ],
         "c": [
          3.000000000000001,
          0,
          2
         ],
         "fill": "toself",
         "fillcolor": "#222A2A",
         "hovertemplate": "<extra></extra>",
         "line": {
          "width": 0
         },
         "mode": "lines",
         "name": "Ca<sub>0.5</sub>Mn<sub>1</sub>F<sub>3</sub>—Mn—MnF<sub>2</sub>",
         "opacity": 0.15,
         "showlegend": false,
         "type": "scatterternary"
        },
        {
         "a": [
          0.49999999999999983,
          1.4999999999999998,
          1
         ],
         "b": [
          1.0000000000000002,
          2.0000000000000036,
          0.9999999999999998
         ],
         "c": [
          3.000000000000001,
          7.0000000000000036,
          5
         ],
         "fill": "toself",
         "fillcolor": "#B68100",
         "hovertemplate": "<extra></extra>",
         "line": {
          "width": 0
         },
         "mode": "lines",
         "name": "Ca<sub>0.5</sub>Mn<sub>1</sub>F<sub>3</sub>—Ca<sub>1.5</sub>Mn<sub>2</sub>F<sub>7</sub>—CaMnF<sub>5</sub>",
         "opacity": 0.15,
         "showlegend": false,
         "type": "scatterternary"
        },
        {
         "a": [
          0.49999999999999983,
          1,
          0
         ],
         "b": [
          1.0000000000000002,
          0.9999999999999998,
          0.9999999999999997
         ],
         "c": [
          3.000000000000001,
          5,
          2
         ],
         "fill": "toself",
         "fillcolor": "#750D86",
         "hovertemplate": "<extra></extra>",
         "line": {
          "width": 0
         },
         "mode": "lines",
         "name": "Ca<sub>0.5</sub>Mn<sub>1</sub>F<sub>3</sub>—CaMnF<sub>5</sub>—MnF<sub>2</sub>",
         "opacity": 0.15,
         "showlegend": false,
         "type": "scatterternary"
        },
        {
         "a": [
          1,
          0,
          0
         ],
         "b": [
          0.9999999999999998,
          1,
          0
         ],
         "c": [
          5,
          4,
          2
         ],
         "fill": "toself",
         "fillcolor": "#EB663B",
         "hovertemplate": "<extra></extra>",
         "line": {
          "width": 0
         },
         "mode": "lines",
         "name": "CaMnF<sub>5</sub>—MnF<sub>4</sub>—F<sub>2</sub>",
         "opacity": 0.15,
         "showlegend": false,
         "type": "scatterternary"
        },
        {
         "a": [
          1,
          0,
          0
         ],
         "b": [
          0.9999999999999998,
          0.9999999999999997,
          0.9999999999999998
         ],
         "c": [
          5,
          2,
          2.9999999999999982
         ],
         "fill": "toself",
         "fillcolor": "#511CFB",
         "hovertemplate": "<extra></extra>",
         "line": {
          "width": 0
         },
         "mode": "lines",
         "name": "CaMnF<sub>5</sub>—MnF<sub>2</sub>—MnF<sub>3</sub>",
         "opacity": 0.15,
         "showlegend": false,
         "type": "scatterternary"
        },
        {
         "a": [
          1,
          0,
          0
         ],
         "b": [
          0.9999999999999998,
          0.9999999999999998,
          1
         ],
         "c": [
          5,
          2.9999999999999982,
          4
         ],
         "fill": "toself",
         "fillcolor": "#00A08B",
         "hovertemplate": "<extra></extra>",
         "line": {
          "width": 0
         },
         "mode": "lines",
         "name": "CaMnF<sub>5</sub>—MnF<sub>3</sub>—MnF<sub>4</sub>",
         "opacity": 0.15,
         "showlegend": false,
         "type": "scatterternary"
        },
        {
         "a": [
          0.49999999999999983,
          0,
          1,
          0.9999999999999998,
          1,
          0,
          0,
          0,
          1.4999999999999998,
          0
         ],
         "b": [
          1.0000000000000002,
          1,
          0.9999999999999998,
          0,
          0,
          0.9999999999999998,
          1,
          0,
          2.0000000000000036,
          0.9999999999999997
         ],
         "c": [
          3.000000000000001,
          0,
          5,
          2.0000000000000004,
          0,
          2.9999999999999982,
          4,
          2,
          7.0000000000000036,
          2
         ],
         "cliponaxis": false,
         "hoverinfo": "text",
         "hoverlabel": {
          "font": {
           "size": 14
          }
         },
         "hovertext": [
          "Ca<sub>0.5</sub>Mn<sub>1</sub>F<sub>3</sub> (no ID) <br> -3.219 eV/atom (Stable)",
          "Mn (no ID) <br> 0.0 eV/atom (Stable)",
          "CaMnF<sub>5</sub> (no ID) <br> -3.303 eV/atom (Stable)",
          "CaF<sub>2</sub> (no ID) <br> -0.261 eV/atom (Stable)",
          "Ca (no ID) <br> 0.0 eV/atom (Stable)",
          "MnF<sub>3</sub> (no ID) <br> -2.575 eV/atom (Stable)",
          "MnF<sub>4</sub> (no ID) <br> -2.178 eV/atom (Stable)",
          "F<sub>2</sub> (no ID) <br> 0.0 eV/atom (Stable)",
          "Ca<sub>1.5</sub>Mn<sub>2</sub>F<sub>7</sub> (no ID) <br> -3.341 eV/atom (Stable)",
          "MnF<sub>2</sub> (no ID) <br> -2.788 eV/atom (Stable)"
         ],
         "marker": {
          "color": "green",
          "line": {
           "color": "black",
           "width": 2
          },
          "size": 15,
          "symbol": "circle"
         },
         "mode": "markers",
         "name": "Stable",
         "showlegend": true,
         "type": "scatterternary"
        },
        {
         "a": [
          0,
          0
         ],
         "b": [
          0.9999999999999998,
          2.0000000000000013
         ],
         "c": [
          2.9999999999999982,
          7.000000000000002
         ],
         "cliponaxis": false,
         "hoverinfo": "text",
         "hoverlabel": {
          "font": {
           "size": 14
          }
         },
         "hovertext": [
          "MnF<sub>3</sub> (no ID) <br> -2.571 eV/atom (+0.004 eV/atom)",
          "Mn<sub>2</sub>F<sub>7</sub> (no ID) <br> -2.341 eV/atom (+0.013 eV/atom)"
         ],
         "marker": {
          "color": [
           0.004,
           0.013
          ],
          "colorbar": {
           "len": 0.5,
           "thickness": 0.02,
           "thicknessmode": "fraction",
           "title": {
            "text": "Energy Above Hull<br>(eV/atom)"
           },
           "x": 0,
           "xpad": 0,
           "y": 1,
           "yanchor": "top",
           "ypad": 0
          },
          "colorscale": [
           [
            0,
            "#fff5e3"
           ],
           [
            0.5,
            "#f24324"
           ],
           [
            1,
            "#c40000"
           ]
          ],
          "line": {
           "color": "black",
           "width": 1
          },
          "opacity": 0.8,
          "size": 7,
          "symbol": "diamond"
         },
         "mode": "markers",
         "name": "Above Hull",
         "showlegend": true,
         "type": "scatterternary"
        }
       ],
       "layout": {
        "autosize": true,
        "coloraxis": {
         "colorbar": {
          "x": 1,
          "y": 0.05,
          "yanchor": "top"
         }
        },
        "margin": {
         "b": 40,
         "l": 20,
         "r": 20,
         "t": 40
        },
        "paper_bgcolor": "rgba(0,0,0,0)",
        "plot_bgcolor": "rgba(0,0,0,0)",
        "showlegend": true,
        "template": {
         "data": {
          "bar": [
           {
            "error_x": {
             "color": "#2a3f5f"
            },
            "error_y": {
             "color": "#2a3f5f"
            },
            "marker": {
             "line": {
              "color": "#E5ECF6",
              "width": 0.5
             },
             "pattern": {
              "fillmode": "overlay",
              "size": 10,
              "solidity": 0.2
             }
            },
            "type": "bar"
           }
          ],
          "barpolar": [
           {
            "marker": {
             "line": {
              "color": "#E5ECF6",
              "width": 0.5
             },
             "pattern": {
              "fillmode": "overlay",
              "size": 10,
              "solidity": 0.2
             }
            },
            "type": "barpolar"
           }
          ],
          "carpet": [
           {
            "aaxis": {
             "endlinecolor": "#2a3f5f",
             "gridcolor": "white",
             "linecolor": "white",
             "minorgridcolor": "white",
             "startlinecolor": "#2a3f5f"
            },
            "baxis": {
             "endlinecolor": "#2a3f5f",
             "gridcolor": "white",
             "linecolor": "white",
             "minorgridcolor": "white",
             "startlinecolor": "#2a3f5f"
            },
            "type": "carpet"
           }
          ],
          "choropleth": [
           {
            "colorbar": {
             "outlinewidth": 0,
             "ticks": ""
            },
            "type": "choropleth"
           }
          ],
          "contour": [
           {
            "colorbar": {
             "outlinewidth": 0,
             "ticks": ""
            },
            "colorscale": [
             [
              0,
              "#0d0887"
             ],
             [
              0.1111111111111111,
              "#46039f"
             ],
             [
              0.2222222222222222,
              "#7201a8"
             ],
             [
              0.3333333333333333,
              "#9c179e"
             ],
             [
              0.4444444444444444,
              "#bd3786"
             ],
             [
              0.5555555555555556,
              "#d8576b"
             ],
             [
              0.6666666666666666,
              "#ed7953"
             ],
             [
              0.7777777777777778,
              "#fb9f3a"
             ],
             [
              0.8888888888888888,
              "#fdca26"
             ],
             [
              1,
              "#f0f921"
             ]
            ],
            "type": "contour"
           }
          ],
          "contourcarpet": [
           {
            "colorbar": {
             "outlinewidth": 0,
             "ticks": ""
            },
            "type": "contourcarpet"
           }
          ],
          "heatmap": [
           {
            "colorbar": {
             "outlinewidth": 0,
             "ticks": ""
            },
            "colorscale": [
             [
              0,
              "#0d0887"
             ],
             [
              0.1111111111111111,
              "#46039f"
             ],
             [
              0.2222222222222222,
              "#7201a8"
             ],
             [
              0.3333333333333333,
              "#9c179e"
             ],
             [
              0.4444444444444444,
              "#bd3786"
             ],
             [
              0.5555555555555556,
              "#d8576b"
             ],
             [
              0.6666666666666666,
              "#ed7953"
             ],
             [
              0.7777777777777778,
              "#fb9f3a"
             ],
             [
              0.8888888888888888,
              "#fdca26"
             ],
             [
              1,
              "#f0f921"
             ]
            ],
            "type": "heatmap"
           }
          ],
          "heatmapgl": [
           {
            "colorbar": {
             "outlinewidth": 0,
             "ticks": ""
            },
            "colorscale": [
             [
              0,
              "#0d0887"
             ],
             [
              0.1111111111111111,
              "#46039f"
             ],
             [
              0.2222222222222222,
              "#7201a8"
             ],
             [
              0.3333333333333333,
              "#9c179e"
             ],
             [
              0.4444444444444444,
              "#bd3786"
             ],
             [
              0.5555555555555556,
              "#d8576b"
             ],
             [
              0.6666666666666666,
              "#ed7953"
             ],
             [
              0.7777777777777778,
              "#fb9f3a"
             ],
             [
              0.8888888888888888,
              "#fdca26"
             ],
             [
              1,
              "#f0f921"
             ]
            ],
            "type": "heatmapgl"
           }
          ],
          "histogram": [
           {
            "marker": {
             "pattern": {
              "fillmode": "overlay",
              "size": 10,
              "solidity": 0.2
             }
            },
            "type": "histogram"
           }
          ],
          "histogram2d": [
           {
            "colorbar": {
             "outlinewidth": 0,
             "ticks": ""
            },
            "colorscale": [
             [
              0,
              "#0d0887"
             ],
             [
              0.1111111111111111,
              "#46039f"
             ],
             [
              0.2222222222222222,
              "#7201a8"
             ],
             [
              0.3333333333333333,
              "#9c179e"
             ],
             [
              0.4444444444444444,
              "#bd3786"
             ],
             [
              0.5555555555555556,
              "#d8576b"
             ],
             [
              0.6666666666666666,
              "#ed7953"
             ],
             [
              0.7777777777777778,
              "#fb9f3a"
             ],
             [
              0.8888888888888888,
              "#fdca26"
             ],
             [
              1,
              "#f0f921"
             ]
            ],
            "type": "histogram2d"
           }
          ],
          "histogram2dcontour": [
           {
            "colorbar": {
             "outlinewidth": 0,
             "ticks": ""
            },
            "colorscale": [
             [
              0,
              "#0d0887"
             ],
             [
              0.1111111111111111,
              "#46039f"
             ],
             [
              0.2222222222222222,
              "#7201a8"
             ],
             [
              0.3333333333333333,
              "#9c179e"
             ],
             [
              0.4444444444444444,
              "#bd3786"
             ],
             [
              0.5555555555555556,
              "#d8576b"
             ],
             [
              0.6666666666666666,
              "#ed7953"
             ],
             [
              0.7777777777777778,
              "#fb9f3a"
             ],
             [
              0.8888888888888888,
              "#fdca26"
             ],
             [
              1,
              "#f0f921"
             ]
            ],
            "type": "histogram2dcontour"
           }
          ],
          "mesh3d": [
           {
            "colorbar": {
             "outlinewidth": 0,
             "ticks": ""
            },
            "type": "mesh3d"
           }
          ],
          "parcoords": [
           {
            "line": {
             "colorbar": {
              "outlinewidth": 0,
              "ticks": ""
             }
            },
            "type": "parcoords"
           }
          ],
          "pie": [
           {
            "automargin": true,
            "type": "pie"
           }
          ],
          "scatter": [
           {
            "fillpattern": {
             "fillmode": "overlay",
             "size": 10,
             "solidity": 0.2
            },
            "type": "scatter"
           }
          ],
          "scatter3d": [
           {
            "line": {
             "colorbar": {
              "outlinewidth": 0,
              "ticks": ""
             }
            },
            "marker": {
             "colorbar": {
              "outlinewidth": 0,
              "ticks": ""
             }
            },
            "type": "scatter3d"
           }
          ],
          "scattercarpet": [
           {
            "marker": {
             "colorbar": {
              "outlinewidth": 0,
              "ticks": ""
             }
            },
            "type": "scattercarpet"
           }
          ],
          "scattergeo": [
           {
            "marker": {
             "colorbar": {
              "outlinewidth": 0,
              "ticks": ""
             }
            },
            "type": "scattergeo"
           }
          ],
          "scattergl": [
           {
            "marker": {
             "colorbar": {
              "outlinewidth": 0,
              "ticks": ""
             }
            },
            "type": "scattergl"
           }
          ],
          "scattermapbox": [
           {
            "marker": {
             "colorbar": {
              "outlinewidth": 0,
              "ticks": ""
             }
            },
            "type": "scattermapbox"
           }
          ],
          "scatterpolar": [
           {
            "marker": {
             "colorbar": {
              "outlinewidth": 0,
              "ticks": ""
             }
            },
            "type": "scatterpolar"
           }
          ],
          "scatterpolargl": [
           {
            "marker": {
             "colorbar": {
              "outlinewidth": 0,
              "ticks": ""
             }
            },
            "type": "scatterpolargl"
           }
          ],
          "scatterternary": [
           {
            "marker": {
             "colorbar": {
              "outlinewidth": 0,
              "ticks": ""
             }
            },
            "type": "scatterternary"
           }
          ],
          "surface": [
           {
            "colorbar": {
             "outlinewidth": 0,
             "ticks": ""
            },
            "colorscale": [
             [
              0,
              "#0d0887"
             ],
             [
              0.1111111111111111,
              "#46039f"
             ],
             [
              0.2222222222222222,
              "#7201a8"
             ],
             [
              0.3333333333333333,
              "#9c179e"
             ],
             [
              0.4444444444444444,
              "#bd3786"
             ],
             [
              0.5555555555555556,
              "#d8576b"
             ],
             [
              0.6666666666666666,
              "#ed7953"
             ],
             [
              0.7777777777777778,
              "#fb9f3a"
             ],
             [
              0.8888888888888888,
              "#fdca26"
             ],
             [
              1,
              "#f0f921"
             ]
            ],
            "type": "surface"
           }
          ],
          "table": [
           {
            "cells": {
             "fill": {
              "color": "#EBF0F8"
             },
             "line": {
              "color": "white"
             }
            },
            "header": {
             "fill": {
              "color": "#C8D4E3"
             },
             "line": {
              "color": "white"
             }
            },
            "type": "table"
           }
          ]
         },
         "layout": {
          "annotationdefaults": {
           "arrowcolor": "#2a3f5f",
           "arrowhead": 0,
           "arrowwidth": 1
          },
          "autotypenumbers": "strict",
          "coloraxis": {
           "colorbar": {
            "outlinewidth": 0,
            "ticks": ""
           }
          },
          "colorscale": {
           "diverging": [
            [
             0,
             "#8e0152"
            ],
            [
             0.1,
             "#c51b7d"
            ],
            [
             0.2,
             "#de77ae"
            ],
            [
             0.3,
             "#f1b6da"
            ],
            [
             0.4,
             "#fde0ef"
            ],
            [
             0.5,
             "#f7f7f7"
            ],
            [
             0.6,
             "#e6f5d0"
            ],
            [
             0.7,
             "#b8e186"
            ],
            [
             0.8,
             "#7fbc41"
            ],
            [
             0.9,
             "#4d9221"
            ],
            [
             1,
             "#276419"
            ]
           ],
           "sequential": [
            [
             0,
             "#0d0887"
            ],
            [
             0.1111111111111111,
             "#46039f"
            ],
            [
             0.2222222222222222,
             "#7201a8"
            ],
            [
             0.3333333333333333,
             "#9c179e"
            ],
            [
             0.4444444444444444,
             "#bd3786"
            ],
            [
             0.5555555555555556,
             "#d8576b"
            ],
            [
             0.6666666666666666,
             "#ed7953"
            ],
            [
             0.7777777777777778,
             "#fb9f3a"
            ],
            [
             0.8888888888888888,
             "#fdca26"
            ],
            [
             1,
             "#f0f921"
            ]
           ],
           "sequentialminus": [
            [
             0,
             "#0d0887"
            ],
            [
             0.1111111111111111,
             "#46039f"
            ],
            [
             0.2222222222222222,
             "#7201a8"
            ],
            [
             0.3333333333333333,
             "#9c179e"
            ],
            [
             0.4444444444444444,
             "#bd3786"
            ],
            [
             0.5555555555555556,
             "#d8576b"
            ],
            [
             0.6666666666666666,
             "#ed7953"
            ],
            [
             0.7777777777777778,
             "#fb9f3a"
            ],
            [
             0.8888888888888888,
             "#fdca26"
            ],
            [
             1,
             "#f0f921"
            ]
           ]
          },
          "colorway": [
           "#636efa",
           "#EF553B",
           "#00cc96",
           "#ab63fa",
           "#FFA15A",
           "#19d3f3",
           "#FF6692",
           "#B6E880",
           "#FF97FF",
           "#FECB52"
          ],
          "font": {
           "color": "#2a3f5f"
          },
          "geo": {
           "bgcolor": "white",
           "lakecolor": "white",
           "landcolor": "#E5ECF6",
           "showlakes": true,
           "showland": true,
           "subunitcolor": "white"
          },
          "hoverlabel": {
           "align": "left"
          },
          "hovermode": "closest",
          "mapbox": {
           "style": "light"
          },
          "paper_bgcolor": "white",
          "plot_bgcolor": "#E5ECF6",
          "polar": {
           "angularaxis": {
            "gridcolor": "white",
            "linecolor": "white",
            "ticks": ""
           },
           "bgcolor": "#E5ECF6",
           "radialaxis": {
            "gridcolor": "white",
            "linecolor": "white",
            "ticks": ""
           }
          },
          "scene": {
           "xaxis": {
            "backgroundcolor": "#E5ECF6",
            "gridcolor": "white",
            "gridwidth": 2,
            "linecolor": "white",
            "showbackground": true,
            "ticks": "",
            "zerolinecolor": "white"
           },
           "yaxis": {
            "backgroundcolor": "#E5ECF6",
            "gridcolor": "white",
            "gridwidth": 2,
            "linecolor": "white",
            "showbackground": true,
            "ticks": "",
            "zerolinecolor": "white"
           },
           "zaxis": {
            "backgroundcolor": "#E5ECF6",
            "gridcolor": "white",
            "gridwidth": 2,
            "linecolor": "white",
            "showbackground": true,
            "ticks": "",
            "zerolinecolor": "white"
           }
          },
          "shapedefaults": {
           "line": {
            "color": "#2a3f5f"
           }
          },
          "ternary": {
           "aaxis": {
            "gridcolor": "white",
            "linecolor": "white",
            "ticks": ""
           },
           "baxis": {
            "gridcolor": "white",
            "linecolor": "white",
            "ticks": ""
           },
           "bgcolor": "#E5ECF6",
           "caxis": {
            "gridcolor": "white",
            "linecolor": "white",
            "ticks": ""
           }
          },
          "title": {
           "x": 0.05
          },
          "xaxis": {
           "automargin": true,
           "gridcolor": "white",
           "linecolor": "white",
           "ticks": "",
           "title": {
            "standoff": 15
           },
           "zerolinecolor": "white",
           "zerolinewidth": 2
          },
          "yaxis": {
           "automargin": true,
           "gridcolor": "white",
           "linecolor": "white",
           "ticks": "",
           "title": {
            "standoff": 15
           },
           "zerolinecolor": "white",
           "zerolinewidth": 2
          }
         }
        },
        "ternary": {
         "aaxis": {
          "layer": "below traces",
          "showgrid": true,
          "showticklabels": true,
          "tickfont": {
           "color": "rgba(0,0,0,0)",
           "size": 7
          },
          "title": {
           "font": {
            "size": 24
           },
           "text": "Ca"
          }
         },
         "baxis": {
          "layer": "below traces",
          "min": 0,
          "showgrid": true,
          "showticklabels": true,
          "tickfont": {
           "color": "rgba(0,0,0,0)",
           "size": 7
          },
          "title": {
           "font": {
            "size": 24
           },
           "text": "Mn"
          }
         },
         "caxis": {
          "layer": "below traces",
          "min": 0,
          "showgrid": true,
          "showticklabels": true,
          "tickfont": {
           "color": "rgba(0,0,0,0)",
           "size": 7
          },
          "title": {
           "font": {
            "size": 24
           },
           "text": "F<sub>2</sub>"
          }
         },
         "sum": 1
        }
       }
      },
      "text/html": [
       "<div>                            <div id=\"a7c0da89-748d-460c-86ac-74b09710eed7\" class=\"plotly-graph-div\" style=\"height:525px; width:100%;\"></div>            <script type=\"text/javascript\">                require([\"plotly\"], function(Plotly) {                    window.PLOTLYENV=window.PLOTLYENV || {};                                    if (document.getElementById(\"a7c0da89-748d-460c-86ac-74b09710eed7\")) {                    Plotly.newPlot(                        \"a7c0da89-748d-460c-86ac-74b09710eed7\",                        [{\"a\":[0.49999999999999983,0,null,0.49999999999999983,1.0,null,0.9999999999999998,1.0,null,0,1.0,null,0,0,null,1.4999999999999998,1.0,null,1.0,0,null,0.9999999999999998,1.0,null,0,1.0,null,0,0,null,0,0,null,0,0.49999999999999983,null,1.4999999999999998,0,null,1.0,1.4999999999999998,null,1.0,1.0,null,0.49999999999999983,1.4999999999999998,null,0.9999999999999998,0,null,0,0,null,0,1.0,null,0,1.0,null],\"b\":[1.0000000000000002,1.0,null,1.0000000000000002,0.9999999999999998,null,0,0,null,0.9999999999999998,0.9999999999999998,null,1.0,0,null,2.0000000000000036,0,null,0.9999999999999998,0,null,0,0.9999999999999998,null,1.0,0,null,0.9999999999999997,0.9999999999999998,null,0.9999999999999998,1.0,null,0.9999999999999997,1.0000000000000002,null,2.0000000000000036,1.0,null,0.9999999999999998,2.0000000000000036,null,0.9999999999999998,0,null,1.0000000000000002,2.0000000000000036,null,0,0,null,0.9999999999999997,1.0,null,0.9999999999999997,0.9999999999999998,null,1.0,0.9999999999999998,null],\"c\":[3.000000000000001,0,null,3.000000000000001,5.0,null,2.0000000000000004,0,null,2.9999999999999982,5.0,null,4.0,2.0,null,7.0000000000000036,0,null,5.0,2.0,null,2.0000000000000004,5.0,null,0,0,null,2.0,2.9999999999999982,null,2.9999999999999982,4.0,null,2.0,3.000000000000001,null,7.0000000000000036,0,null,5.0,7.0000000000000036,null,5.0,0,null,3.000000000000001,7.0000000000000036,null,2.0000000000000004,2.0,null,2.0,0,null,2.0,5.0,null,4.0,5.0,null],\"hoverinfo\":\"none\",\"line\":{\"color\":\"black\",\"width\":1.5},\"mode\":\"lines\",\"showlegend\":false,\"type\":\"scatterternary\"},{\"a\":[1.0,1.4999999999999998,0],\"b\":[0,2.0000000000000036,1.0],\"c\":[0,7.0000000000000036,0],\"fill\":\"toself\",\"fillcolor\":\"#2E91E5\",\"hovertemplate\":\"<extra></extra>\",\"line\":{\"width\":0},\"mode\":\"lines\",\"name\":\"Ca\\u2014Ca<sub>1.5</sub>Mn<sub>2</sub>F<sub>7</sub>\\u2014Mn\",\"opacity\":0.15,\"showlegend\":false,\"type\":\"scatterternary\"},{\"a\":[1.0,0.9999999999999998,0],\"b\":[0.9999999999999998,0,0],\"c\":[5.0,2.0000000000000004,2.0],\"fill\":\"toself\",\"fillcolor\":\"#E15F99\",\"hovertemplate\":\"<extra></extra>\",\"line\":{\"width\":0},\"mode\":\"lines\",\"name\":\"CaMnF<sub>5</sub>\\u2014CaF<sub>2</sub>\\u2014F<sub>2</sub>\",\"opacity\":0.15,\"showlegend\":false,\"type\":\"scatterternary\"},{\"a\":[1.0,1.0,0.9999999999999998],\"b\":[0,0.9999999999999998,0],\"c\":[0,5.0,2.0000000000000004],\"fill\":\"toself\",\"fillcolor\":\"#1CA71C\",\"hovertemplate\":\"<extra></extra>\",\"line\":{\"width\":0},\"mode\":\"lines\",\"name\":\"Ca\\u2014CaMnF<sub>5</sub>\\u2014CaF<sub>2</sub>\",\"opacity\":0.15,\"showlegend\":false,\"type\":\"scatterternary\"},{\"a\":[1.0,1.4999999999999998,1.0],\"b\":[0,2.0000000000000036,0.9999999999999998],\"c\":[0,7.0000000000000036,5.0],\"fill\":\"toself\",\"fillcolor\":\"#FB0D0D\",\"hovertemplate\":\"<extra></extra>\",\"line\":{\"width\":0},\"mode\":\"lines\",\"name\":\"Ca\\u2014Ca<sub>1.5</sub>Mn<sub>2</sub>F<sub>7</sub>\\u2014CaMnF<sub>5</sub>\",\"opacity\":0.15,\"showlegend\":false,\"type\":\"scatterternary\"},{\"a\":[0.49999999999999983,1.4999999999999998,0],\"b\":[1.0000000000000002,2.0000000000000036,1.0],\"c\":[3.000000000000001,7.0000000000000036,0],\"fill\":\"toself\",\"fillcolor\":\"#DA16FF\",\"hovertemplate\":\"<extra></extra>\",\"line\":{\"width\":0},\"mode\":\"lines\",\"name\":\"Ca<sub>0.5</sub>Mn<sub>1</sub>F<sub>3</sub>\\u2014Ca<sub>1.5</sub>Mn<sub>2</sub>F<sub>7</sub>\\u2014Mn\",\"opacity\":0.15,\"showlegend\":false,\"type\":\"scatterternary\"},{\"a\":[0.49999999999999983,0,0],\"b\":[1.0000000000000002,1.0,0.9999999999999997],\"c\":[3.000000000000001,0,2.0],\"fill\":\"toself\",\"fillcolor\":\"#222A2A\",\"hovertemplate\":\"<extra></extra>\",\"line\":{\"width\":0},\"mode\":\"lines\",\"name\":\"Ca<sub>0.5</sub>Mn<sub>1</sub>F<sub>3</sub>\\u2014Mn\\u2014MnF<sub>2</sub>\",\"opacity\":0.15,\"showlegend\":false,\"type\":\"scatterternary\"},{\"a\":[0.49999999999999983,1.4999999999999998,1.0],\"b\":[1.0000000000000002,2.0000000000000036,0.9999999999999998],\"c\":[3.000000000000001,7.0000000000000036,5.0],\"fill\":\"toself\",\"fillcolor\":\"#B68100\",\"hovertemplate\":\"<extra></extra>\",\"line\":{\"width\":0},\"mode\":\"lines\",\"name\":\"Ca<sub>0.5</sub>Mn<sub>1</sub>F<sub>3</sub>\\u2014Ca<sub>1.5</sub>Mn<sub>2</sub>F<sub>7</sub>\\u2014CaMnF<sub>5</sub>\",\"opacity\":0.15,\"showlegend\":false,\"type\":\"scatterternary\"},{\"a\":[0.49999999999999983,1.0,0],\"b\":[1.0000000000000002,0.9999999999999998,0.9999999999999997],\"c\":[3.000000000000001,5.0,2.0],\"fill\":\"toself\",\"fillcolor\":\"#750D86\",\"hovertemplate\":\"<extra></extra>\",\"line\":{\"width\":0},\"mode\":\"lines\",\"name\":\"Ca<sub>0.5</sub>Mn<sub>1</sub>F<sub>3</sub>\\u2014CaMnF<sub>5</sub>\\u2014MnF<sub>2</sub>\",\"opacity\":0.15,\"showlegend\":false,\"type\":\"scatterternary\"},{\"a\":[1.0,0,0],\"b\":[0.9999999999999998,1.0,0],\"c\":[5.0,4.0,2.0],\"fill\":\"toself\",\"fillcolor\":\"#EB663B\",\"hovertemplate\":\"<extra></extra>\",\"line\":{\"width\":0},\"mode\":\"lines\",\"name\":\"CaMnF<sub>5</sub>\\u2014MnF<sub>4</sub>\\u2014F<sub>2</sub>\",\"opacity\":0.15,\"showlegend\":false,\"type\":\"scatterternary\"},{\"a\":[1.0,0,0],\"b\":[0.9999999999999998,0.9999999999999997,0.9999999999999998],\"c\":[5.0,2.0,2.9999999999999982],\"fill\":\"toself\",\"fillcolor\":\"#511CFB\",\"hovertemplate\":\"<extra></extra>\",\"line\":{\"width\":0},\"mode\":\"lines\",\"name\":\"CaMnF<sub>5</sub>\\u2014MnF<sub>2</sub>\\u2014MnF<sub>3</sub>\",\"opacity\":0.15,\"showlegend\":false,\"type\":\"scatterternary\"},{\"a\":[1.0,0,0],\"b\":[0.9999999999999998,0.9999999999999998,1.0],\"c\":[5.0,2.9999999999999982,4.0],\"fill\":\"toself\",\"fillcolor\":\"#00A08B\",\"hovertemplate\":\"<extra></extra>\",\"line\":{\"width\":0},\"mode\":\"lines\",\"name\":\"CaMnF<sub>5</sub>\\u2014MnF<sub>3</sub>\\u2014MnF<sub>4</sub>\",\"opacity\":0.15,\"showlegend\":false,\"type\":\"scatterternary\"},{\"a\":[0.49999999999999983,0,1.0,0.9999999999999998,1.0,0,0,0,1.4999999999999998,0],\"b\":[1.0000000000000002,1.0,0.9999999999999998,0,0,0.9999999999999998,1.0,0,2.0000000000000036,0.9999999999999997],\"c\":[3.000000000000001,0,5.0,2.0000000000000004,0,2.9999999999999982,4.0,2.0,7.0000000000000036,2.0],\"cliponaxis\":false,\"hoverinfo\":\"text\",\"hoverlabel\":{\"font\":{\"size\":14}},\"hovertext\":[\"Ca<sub>0.5</sub>Mn<sub>1</sub>F<sub>3</sub> (no ID) <br> -3.219 eV/atom (Stable)\",\"Mn (no ID) <br> 0.0 eV/atom (Stable)\",\"CaMnF<sub>5</sub> (no ID) <br> -3.303 eV/atom (Stable)\",\"CaF<sub>2</sub> (no ID) <br> -0.261 eV/atom (Stable)\",\"Ca (no ID) <br> 0.0 eV/atom (Stable)\",\"MnF<sub>3</sub> (no ID) <br> -2.575 eV/atom (Stable)\",\"MnF<sub>4</sub> (no ID) <br> -2.178 eV/atom (Stable)\",\"F<sub>2</sub> (no ID) <br> 0.0 eV/atom (Stable)\",\"Ca<sub>1.5</sub>Mn<sub>2</sub>F<sub>7</sub> (no ID) <br> -3.341 eV/atom (Stable)\",\"MnF<sub>2</sub> (no ID) <br> -2.788 eV/atom (Stable)\"],\"marker\":{\"color\":\"green\",\"line\":{\"color\":\"black\",\"width\":2.0},\"size\":15,\"symbol\":\"circle\"},\"mode\":\"markers\",\"name\":\"Stable\",\"showlegend\":true,\"type\":\"scatterternary\"},{\"a\":[0,0],\"b\":[0.9999999999999998,2.0000000000000013],\"c\":[2.9999999999999982,7.000000000000002],\"cliponaxis\":false,\"hoverinfo\":\"text\",\"hoverlabel\":{\"font\":{\"size\":14}},\"hovertext\":[\"MnF<sub>3</sub> (no ID) <br> -2.571 eV/atom (+0.004 eV/atom)\",\"Mn<sub>2</sub>F<sub>7</sub> (no ID) <br> -2.341 eV/atom (+0.013 eV/atom)\"],\"marker\":{\"color\":[0.004,0.013],\"colorbar\":{\"len\":0.5,\"thickness\":0.02,\"thicknessmode\":\"fraction\",\"title\":{\"text\":\"Energy Above Hull<br>(eV/atom)\"},\"x\":0,\"xpad\":0,\"y\":1,\"yanchor\":\"top\",\"ypad\":0},\"colorscale\":[[0.0,\"#fff5e3\"],[0.5,\"#f24324\"],[1.0,\"#c40000\"]],\"line\":{\"color\":\"black\",\"width\":1},\"opacity\":0.8,\"size\":7,\"symbol\":\"diamond\"},\"mode\":\"markers\",\"name\":\"Above Hull\",\"showlegend\":true,\"type\":\"scatterternary\"}],                        {\"autosize\":true,\"margin\":{\"b\":40,\"l\":20,\"r\":20,\"t\":40},\"paper_bgcolor\":\"rgba(0,0,0,0)\",\"plot_bgcolor\":\"rgba(0,0,0,0)\",\"showlegend\":true,\"ternary\":{\"aaxis\":{\"layer\":\"below traces\",\"showgrid\":true,\"showticklabels\":true,\"tickfont\":{\"color\":\"rgba(0,0,0,0)\",\"size\":7},\"title\":{\"font\":{\"size\":24},\"text\":\"Ca\"}},\"baxis\":{\"layer\":\"below traces\",\"min\":0,\"showgrid\":true,\"showticklabels\":true,\"tickfont\":{\"color\":\"rgba(0,0,0,0)\",\"size\":7},\"title\":{\"font\":{\"size\":24},\"text\":\"Mn\"}},\"caxis\":{\"layer\":\"below traces\",\"min\":0,\"showgrid\":true,\"showticklabels\":true,\"tickfont\":{\"color\":\"rgba(0,0,0,0)\",\"size\":7},\"title\":{\"font\":{\"size\":24},\"text\":\"F<sub>2</sub>\"}},\"sum\":1},\"template\":{\"data\":{\"histogram2dcontour\":[{\"type\":\"histogram2dcontour\",\"colorbar\":{\"outlinewidth\":0,\"ticks\":\"\"},\"colorscale\":[[0.0,\"#0d0887\"],[0.1111111111111111,\"#46039f\"],[0.2222222222222222,\"#7201a8\"],[0.3333333333333333,\"#9c179e\"],[0.4444444444444444,\"#bd3786\"],[0.5555555555555556,\"#d8576b\"],[0.6666666666666666,\"#ed7953\"],[0.7777777777777778,\"#fb9f3a\"],[0.8888888888888888,\"#fdca26\"],[1.0,\"#f0f921\"]]}],\"choropleth\":[{\"type\":\"choropleth\",\"colorbar\":{\"outlinewidth\":0,\"ticks\":\"\"}}],\"histogram2d\":[{\"type\":\"histogram2d\",\"colorbar\":{\"outlinewidth\":0,\"ticks\":\"\"},\"colorscale\":[[0.0,\"#0d0887\"],[0.1111111111111111,\"#46039f\"],[0.2222222222222222,\"#7201a8\"],[0.3333333333333333,\"#9c179e\"],[0.4444444444444444,\"#bd3786\"],[0.5555555555555556,\"#d8576b\"],[0.6666666666666666,\"#ed7953\"],[0.7777777777777778,\"#fb9f3a\"],[0.8888888888888888,\"#fdca26\"],[1.0,\"#f0f921\"]]}],\"heatmap\":[{\"type\":\"heatmap\",\"colorbar\":{\"outlinewidth\":0,\"ticks\":\"\"},\"colorscale\":[[0.0,\"#0d0887\"],[0.1111111111111111,\"#46039f\"],[0.2222222222222222,\"#7201a8\"],[0.3333333333333333,\"#9c179e\"],[0.4444444444444444,\"#bd3786\"],[0.5555555555555556,\"#d8576b\"],[0.6666666666666666,\"#ed7953\"],[0.7777777777777778,\"#fb9f3a\"],[0.8888888888888888,\"#fdca26\"],[1.0,\"#f0f921\"]]}],\"heatmapgl\":[{\"type\":\"heatmapgl\",\"colorbar\":{\"outlinewidth\":0,\"ticks\":\"\"},\"colorscale\":[[0.0,\"#0d0887\"],[0.1111111111111111,\"#46039f\"],[0.2222222222222222,\"#7201a8\"],[0.3333333333333333,\"#9c179e\"],[0.4444444444444444,\"#bd3786\"],[0.5555555555555556,\"#d8576b\"],[0.6666666666666666,\"#ed7953\"],[0.7777777777777778,\"#fb9f3a\"],[0.8888888888888888,\"#fdca26\"],[1.0,\"#f0f921\"]]}],\"contourcarpet\":[{\"type\":\"contourcarpet\",\"colorbar\":{\"outlinewidth\":0,\"ticks\":\"\"}}],\"contour\":[{\"type\":\"contour\",\"colorbar\":{\"outlinewidth\":0,\"ticks\":\"\"},\"colorscale\":[[0.0,\"#0d0887\"],[0.1111111111111111,\"#46039f\"],[0.2222222222222222,\"#7201a8\"],[0.3333333333333333,\"#9c179e\"],[0.4444444444444444,\"#bd3786\"],[0.5555555555555556,\"#d8576b\"],[0.6666666666666666,\"#ed7953\"],[0.7777777777777778,\"#fb9f3a\"],[0.8888888888888888,\"#fdca26\"],[1.0,\"#f0f921\"]]}],\"surface\":[{\"type\":\"surface\",\"colorbar\":{\"outlinewidth\":0,\"ticks\":\"\"},\"colorscale\":[[0.0,\"#0d0887\"],[0.1111111111111111,\"#46039f\"],[0.2222222222222222,\"#7201a8\"],[0.3333333333333333,\"#9c179e\"],[0.4444444444444444,\"#bd3786\"],[0.5555555555555556,\"#d8576b\"],[0.6666666666666666,\"#ed7953\"],[0.7777777777777778,\"#fb9f3a\"],[0.8888888888888888,\"#fdca26\"],[1.0,\"#f0f921\"]]}],\"mesh3d\":[{\"type\":\"mesh3d\",\"colorbar\":{\"outlinewidth\":0,\"ticks\":\"\"}}],\"scatter\":[{\"fillpattern\":{\"fillmode\":\"overlay\",\"size\":10,\"solidity\":0.2},\"type\":\"scatter\"}],\"parcoords\":[{\"type\":\"parcoords\",\"line\":{\"colorbar\":{\"outlinewidth\":0,\"ticks\":\"\"}}}],\"scatterpolargl\":[{\"type\":\"scatterpolargl\",\"marker\":{\"colorbar\":{\"outlinewidth\":0,\"ticks\":\"\"}}}],\"bar\":[{\"error_x\":{\"color\":\"#2a3f5f\"},\"error_y\":{\"color\":\"#2a3f5f\"},\"marker\":{\"line\":{\"color\":\"#E5ECF6\",\"width\":0.5},\"pattern\":{\"fillmode\":\"overlay\",\"size\":10,\"solidity\":0.2}},\"type\":\"bar\"}],\"scattergeo\":[{\"type\":\"scattergeo\",\"marker\":{\"colorbar\":{\"outlinewidth\":0,\"ticks\":\"\"}}}],\"scatterpolar\":[{\"type\":\"scatterpolar\",\"marker\":{\"colorbar\":{\"outlinewidth\":0,\"ticks\":\"\"}}}],\"histogram\":[{\"marker\":{\"pattern\":{\"fillmode\":\"overlay\",\"size\":10,\"solidity\":0.2}},\"type\":\"histogram\"}],\"scattergl\":[{\"type\":\"scattergl\",\"marker\":{\"colorbar\":{\"outlinewidth\":0,\"ticks\":\"\"}}}],\"scatter3d\":[{\"type\":\"scatter3d\",\"line\":{\"colorbar\":{\"outlinewidth\":0,\"ticks\":\"\"}},\"marker\":{\"colorbar\":{\"outlinewidth\":0,\"ticks\":\"\"}}}],\"scattermapbox\":[{\"type\":\"scattermapbox\",\"marker\":{\"colorbar\":{\"outlinewidth\":0,\"ticks\":\"\"}}}],\"scatterternary\":[{\"type\":\"scatterternary\",\"marker\":{\"colorbar\":{\"outlinewidth\":0,\"ticks\":\"\"}}}],\"scattercarpet\":[{\"type\":\"scattercarpet\",\"marker\":{\"colorbar\":{\"outlinewidth\":0,\"ticks\":\"\"}}}],\"carpet\":[{\"aaxis\":{\"endlinecolor\":\"#2a3f5f\",\"gridcolor\":\"white\",\"linecolor\":\"white\",\"minorgridcolor\":\"white\",\"startlinecolor\":\"#2a3f5f\"},\"baxis\":{\"endlinecolor\":\"#2a3f5f\",\"gridcolor\":\"white\",\"linecolor\":\"white\",\"minorgridcolor\":\"white\",\"startlinecolor\":\"#2a3f5f\"},\"type\":\"carpet\"}],\"table\":[{\"cells\":{\"fill\":{\"color\":\"#EBF0F8\"},\"line\":{\"color\":\"white\"}},\"header\":{\"fill\":{\"color\":\"#C8D4E3\"},\"line\":{\"color\":\"white\"}},\"type\":\"table\"}],\"barpolar\":[{\"marker\":{\"line\":{\"color\":\"#E5ECF6\",\"width\":0.5},\"pattern\":{\"fillmode\":\"overlay\",\"size\":10,\"solidity\":0.2}},\"type\":\"barpolar\"}],\"pie\":[{\"automargin\":true,\"type\":\"pie\"}]},\"layout\":{\"autotypenumbers\":\"strict\",\"colorway\":[\"#636efa\",\"#EF553B\",\"#00cc96\",\"#ab63fa\",\"#FFA15A\",\"#19d3f3\",\"#FF6692\",\"#B6E880\",\"#FF97FF\",\"#FECB52\"],\"font\":{\"color\":\"#2a3f5f\"},\"hovermode\":\"closest\",\"hoverlabel\":{\"align\":\"left\"},\"paper_bgcolor\":\"white\",\"plot_bgcolor\":\"#E5ECF6\",\"polar\":{\"bgcolor\":\"#E5ECF6\",\"angularaxis\":{\"gridcolor\":\"white\",\"linecolor\":\"white\",\"ticks\":\"\"},\"radialaxis\":{\"gridcolor\":\"white\",\"linecolor\":\"white\",\"ticks\":\"\"}},\"ternary\":{\"bgcolor\":\"#E5ECF6\",\"aaxis\":{\"gridcolor\":\"white\",\"linecolor\":\"white\",\"ticks\":\"\"},\"baxis\":{\"gridcolor\":\"white\",\"linecolor\":\"white\",\"ticks\":\"\"},\"caxis\":{\"gridcolor\":\"white\",\"linecolor\":\"white\",\"ticks\":\"\"}},\"coloraxis\":{\"colorbar\":{\"outlinewidth\":0,\"ticks\":\"\"}},\"colorscale\":{\"sequential\":[[0.0,\"#0d0887\"],[0.1111111111111111,\"#46039f\"],[0.2222222222222222,\"#7201a8\"],[0.3333333333333333,\"#9c179e\"],[0.4444444444444444,\"#bd3786\"],[0.5555555555555556,\"#d8576b\"],[0.6666666666666666,\"#ed7953\"],[0.7777777777777778,\"#fb9f3a\"],[0.8888888888888888,\"#fdca26\"],[1.0,\"#f0f921\"]],\"sequentialminus\":[[0.0,\"#0d0887\"],[0.1111111111111111,\"#46039f\"],[0.2222222222222222,\"#7201a8\"],[0.3333333333333333,\"#9c179e\"],[0.4444444444444444,\"#bd3786\"],[0.5555555555555556,\"#d8576b\"],[0.6666666666666666,\"#ed7953\"],[0.7777777777777778,\"#fb9f3a\"],[0.8888888888888888,\"#fdca26\"],[1.0,\"#f0f921\"]],\"diverging\":[[0,\"#8e0152\"],[0.1,\"#c51b7d\"],[0.2,\"#de77ae\"],[0.3,\"#f1b6da\"],[0.4,\"#fde0ef\"],[0.5,\"#f7f7f7\"],[0.6,\"#e6f5d0\"],[0.7,\"#b8e186\"],[0.8,\"#7fbc41\"],[0.9,\"#4d9221\"],[1,\"#276419\"]]},\"xaxis\":{\"gridcolor\":\"white\",\"linecolor\":\"white\",\"ticks\":\"\",\"title\":{\"standoff\":15},\"zerolinecolor\":\"white\",\"automargin\":true,\"zerolinewidth\":2},\"yaxis\":{\"gridcolor\":\"white\",\"linecolor\":\"white\",\"ticks\":\"\",\"title\":{\"standoff\":15},\"zerolinecolor\":\"white\",\"automargin\":true,\"zerolinewidth\":2},\"scene\":{\"xaxis\":{\"backgroundcolor\":\"#E5ECF6\",\"gridcolor\":\"white\",\"linecolor\":\"white\",\"showbackground\":true,\"ticks\":\"\",\"zerolinecolor\":\"white\",\"gridwidth\":2},\"yaxis\":{\"backgroundcolor\":\"#E5ECF6\",\"gridcolor\":\"white\",\"linecolor\":\"white\",\"showbackground\":true,\"ticks\":\"\",\"zerolinecolor\":\"white\",\"gridwidth\":2},\"zaxis\":{\"backgroundcolor\":\"#E5ECF6\",\"gridcolor\":\"white\",\"linecolor\":\"white\",\"showbackground\":true,\"ticks\":\"\",\"zerolinecolor\":\"white\",\"gridwidth\":2}},\"shapedefaults\":{\"line\":{\"color\":\"#2a3f5f\"}},\"annotationdefaults\":{\"arrowcolor\":\"#2a3f5f\",\"arrowhead\":0,\"arrowwidth\":1},\"geo\":{\"bgcolor\":\"white\",\"landcolor\":\"#E5ECF6\",\"subunitcolor\":\"white\",\"showland\":true,\"showlakes\":true,\"lakecolor\":\"white\"},\"title\":{\"x\":0.05},\"mapbox\":{\"style\":\"light\"}}},\"coloraxis\":{\"colorbar\":{\"yanchor\":\"top\",\"y\":0.05,\"x\":1}}},                        {\"responsive\": true}                    ).then(function(){\n",
       "                            \n",
       "var gd = document.getElementById('a7c0da89-748d-460c-86ac-74b09710eed7');\n",
       "var x = new MutationObserver(function (mutations, observer) {{\n",
       "        var display = window.getComputedStyle(gd).display;\n",
       "        if (!display || display === 'none') {{\n",
       "            console.log([gd, 'removed!']);\n",
       "            Plotly.purge(gd);\n",
       "            observer.disconnect();\n",
       "        }}\n",
       "}});\n",
       "\n",
       "// Listen for the removal of the full notebook cells\n",
       "var notebookContainer = gd.closest('#notebook-container');\n",
       "if (notebookContainer) {{\n",
       "    x.observe(notebookContainer, {childList: true});\n",
       "}}\n",
       "\n",
       "// Listen for the clearing of the current output cell\n",
       "var outputEl = gd.closest('.output');\n",
       "if (outputEl) {{\n",
       "    x.observe(outputEl, {childList: true});\n",
       "}}\n",
       "\n",
       "                        })                };                });            </script>        </div>"
      ]
     },
     "metadata": {},
     "output_type": "display_data"
    }
   ],
   "source": [
    "phase_diagram_2 = CompoundPhaseDiagram(entries,[Composition(\"Ca\"),\n",
    "                                                Composition(\"Mn\"),\n",
    "                                                Composition(\"F\")])\n",
    "\n",
    "compound_plotter_2 = PDPlotter(phase_diagram_2, show_unstable=True, backend = \"matplotlib\",  markersize=20)\n",
    "z = compound_plotter_2.get_plot(label_unstable=False, label_stable=True)\n",
    "#z.savefig('CaxTi2F7.pdf'\n",
    ")\n",
    "z.show()   \n",
    "\n",
    "compound_plotter_2 = PDPlotter(phase_diagram_2, show_unstable = 0.2, markerize=20)\n",
    "y = compound_plotter_2.get_plot(phase_diagram_2, label_unstable=True)\n",
    "y.show()\n",
    "\n",
    "\n"
   ]
  },
  {
   "cell_type": "code",
   "execution_count": 9,
   "id": "dfc17f6e",
   "metadata": {},
   "outputs": [
    {
     "data": {
      "image/png": "[encoded data removed]",
      "text/plain": [
       "<Figure size 576x432 with 1 Axes>"
      ]
     },
     "metadata": {},
     "output_type": "display_data"
    },
    {
     "data": {
      "application/vnd.plotly.v1+json": {
       "config": {
        "plotlyServerURL": "https://plot.ly"
       },
       "data": [
        {
         "hoverinfo": "none",
         "line": {
          "color": "rgba(0,0,0,1.0)",
          "width": 7
         },
         "mode": "lines",
         "showlegend": false,
         "type": "scatter3d",
         "x": [
          0.5773502691896257,
          0.5773502691896254,
          null,
          0.5773502691896257,
          0,
          null,
          0.5773502691896254,
          0,
          null,
          0.5773502691896257,
          0.8660254037844386,
          null,
          0.5773502691896254,
          0,
          null,
          0,
          0,
          null,
          0.5773502691896254,
          0.8660254037844386,
          null
         ],
         "y": [
          0.6666666666666667,
          0.33333333333333315,
          null,
          0.6666666666666667,
          1,
          null,
          0.33333333333333315,
          0,
          null,
          0.6666666666666667,
          0.5,
          null,
          0.33333333333333315,
          1,
          null,
          1,
          0,
          null,
          0.33333333333333315,
          0.5,
          null
         ],
         "z": [
          -0.49099999999999716,
          -0.5745843333333304,
          null,
          -0.49099999999999716,
          0,
          null,
          -0.5745843333333304,
          0,
          null,
          -0.49099999999999716,
          0,
          null,
          -0.5745843333333304,
          0,
          null,
          0,
          0,
          null,
          -0.5745843333333304,
          0,
          null
         ]
        },
        {
         "hoverinfo": "none",
         "line": {
          "color": "rgba (0, 0, 0, 0.4)",
          "dash": "solid",
          "width": 1
         },
         "mode": "lines",
         "showlegend": false,
         "type": "scatter3d",
         "x": [
          0.8660254037844386,
          0,
          null,
          0.8660254037844386,
          0,
          null,
          0.8660254037844386,
          0,
          null,
          0.8660254037844386,
          0,
          null,
          0,
          0,
          null,
          0,
          0,
          null,
          0.8660254037844386,
          0.8660254037844386,
          null,
          0,
          0,
          null,
          0,
          0,
          null
         ],
         "y": [
          0.5,
          1,
          null,
          0.5,
          1,
          null,
          0.5,
          0,
          null,
          0.5,
          0,
          null,
          1,
          0,
          null,
          1,
          0,
          null,
          0.5,
          0.5,
          null,
          1,
          1,
          null,
          0,
          0,
          null
         ],
         "z": [
          0,
          0,
          null,
          -0.5745843333333304,
          -0.5745843333333304,
          null,
          0,
          0,
          null,
          -0.5745843333333304,
          -0.5745843333333304,
          null,
          0,
          0,
          null,
          -0.5745843333333304,
          -0.5745843333333304,
          null,
          0,
          -0.5745843333333304,
          null,
          0,
          -0.5745843333333304,
          null,
          0,
          -0.5745843333333304,
          null
         ]
        },
        {
         "colorbar": {
          "len": 0.75,
          "title": {
           "text": "Formation energy<br>(eV/atom)"
          },
          "x": 0.9
         },
         "colorscale": [
          [
           0,
           "#0c8c00"
          ],
          [
           0.5,
           "#d8ffd4"
          ],
          [
           1,
           "#ffffff"
          ]
         ],
         "flatshading": true,
         "hoverinfo": "none",
         "i": [
          4,
          4,
          3
         ],
         "intensity": [
          -0.49099999999999716,
          -0.5745843333333304,
          -0.49163922222220513,
          0,
          0,
          0
         ],
         "j": [
          5,
          0,
          0
         ],
         "k": [
          1,
          1,
          1
         ],
         "lighting": {
          "ambient": 1,
          "diffuse": 0
         },
         "name": "Convex Hull (shading)",
         "opacity": 0.8,
         "showlegend": true,
         "type": "mesh3d",
         "x": [
          0.5773502691896257,
          0.5773502691896254,
          0.5773502691896251,
          0.8660254037844386,
          0,
          0
         ],
         "y": [
          0.6666666666666667,
          0.33333333333333315,
          0.5555555555555549,
          0.5,
          1,
          0
         ],
         "z": [
          -0.49099999999999716,
          -0.5745843333333304,
          -0.49163922222220513,
          0,
          0,
          0
         ]
        },
        {
         "hoverinfo": "skip",
         "mode": "text",
         "name": "Labels (stable)",
         "opacity": 1,
         "showlegend": true,
         "text": [
          "CoSO<sub>4</sub>",
          "CaSO<sub>4</sub>"
         ],
         "textposition": [
          "middle center",
          "middle center"
         ],
         "type": "scatter3d",
         "visible": true,
         "x": [
          0.5673502691896257,
          0.5673502691896254
         ],
         "y": [
          0.6766666666666667,
          0.32333333333333314
         ],
         "z": [
          -0.4335415666666641,
          -0.5171258999999974
         ]
        },
        {
         "hoverinfo": "text",
         "hoverlabel": {
          "font": {
           "size": 14
          }
         },
         "hovertext": [
          "CaCo<sub>2</sub>(SO<sub>4</sub>)<sub>3</sub> (None) <br> -0.492 eV/atom (+0.027 eV/atom)",
          "Ca<sub>2</sub>CoO<sub>3</sub> (None) <br> 0.115 eV/atom (+0.115 eV/atom)"
         ],
         "marker": {
          "color": [
           0.027,
           0.115
          ],
          "colorbar": {
           "len": 0.75,
           "title": {
            "text": "Energy Above Hull<br>(eV/atom)"
           },
           "x": 0.05
          },
          "colorscale": [
           [
            0,
            "#fad393"
           ],
           [
            0.5,
            "#ff813d"
           ],
           [
            1,
            "#ff0000"
           ]
          ],
          "size": 6,
          "symbol": "diamond"
         },
         "mode": "markers",
         "name": "Above Hull",
         "showlegend": true,
         "type": "scatter3d",
         "x": [
          0.5773502691896251,
          0
         ],
         "y": [
          0.5555555555555549,
          0.3333333333333333
         ],
         "z": [
          -0.492,
          0.115
         ]
        },
        {
         "error_z": {
          "array": [
           0,
           0,
           0,
           0,
           0
          ],
          "color": "darkgray",
          "thickness": 5,
          "type": "data",
          "width": 10
         },
         "hoverinfo": "text",
         "hoverlabel": {
          "font": {
           "size": 14
          }
         },
         "hovertext": [
          "CoSO<sub>4</sub> (None) <br> -0.491 eV/atom",
          "CaSO<sub>4</sub> (None) <br> -0.575 eV/atom",
          "CoO (None) <br> 0.0 eV/atom",
          "CaO (None) <br> 0.0 eV/atom",
          "SO<sub>3</sub> (None) <br> 0.0 eV/atom"
         ],
         "marker": {
          "color": "black",
          "line": {
           "color": "black",
           "width": 3
          },
          "opacity": 0.8,
          "size": 12
         },
         "mode": "markers",
         "name": "Stable",
         "showlegend": true,
         "type": "scatter3d",
         "x": [
          0.5773502691896257,
          0.5773502691896254,
          0,
          0,
          0.8660254037844386
         ],
         "y": [
          0.6666666666666667,
          0.33333333333333315,
          1,
          0,
          0.5
         ],
         "z": [
          -0.491,
          -0.575,
          0,
          0,
          0
         ]
        }
       ],
       "layout": {
        "autosize": true,
        "height": 700,
        "hovermode": "closest",
        "legend": {
         "orientation": "h",
         "traceorder": "reversed",
         "x": 0.5,
         "xanchor": "center",
         "y": 0,
         "yanchor": "top"
        },
        "margin": {
         "b": 10,
         "l": 0,
         "pad": 0,
         "r": 0,
         "t": 0
        },
        "paper_bgcolor": "rgba(0,0,0,0)",
        "plot_bgcolor": "rgba(0,0,0,0)",
        "scene": {
         "annotations": [
          {
           "align": "center",
           "font": {
            "color": "#000000",
            "size": 24
           },
           "opacity": 1,
           "showarrow": false,
           "text": "CoO",
           "x": 0,
           "xanchor": "right",
           "xshift": -10,
           "y": 1,
           "yanchor": "auto",
           "yshift": -10,
           "z": -0.5171258999999974
          },
          {
           "align": "center",
           "font": {
            "color": "#000000",
            "size": 24
           },
           "opacity": 1,
           "showarrow": false,
           "text": "CaO",
           "x": 0,
           "xanchor": "right",
           "xshift": -10,
           "y": 0,
           "yanchor": "auto",
           "yshift": -10,
           "z": -0.5171258999999974
          },
          {
           "align": "center",
           "font": {
            "color": "#000000",
            "size": 24
           },
           "opacity": 1,
           "showarrow": false,
           "text": "SO<sub>3</sub>",
           "x": 0.8660254037844386,
           "xanchor": "right",
           "xshift": -10,
           "y": 0.5,
           "yanchor": "auto",
           "yshift": -10,
           "z": -0.5171258999999974
          },
          {
           "opacity": 0,
           "text": "",
           "x": 1,
           "y": 1,
           "z": 0
          }
         ],
         "aspectratio": {
          "x": 1.7,
          "y": 1.7,
          "z": 1.2
         },
         "camera": {
          "center": {
           "x": -0.1,
           "y": 0,
           "z": -0.15
          },
          "eye": {
           "x": -0.1,
           "y": 0,
           "z": 2.5
          },
          "projection": {
           "type": "orthographic"
          }
         },
         "xaxis": {
          "autorange": true,
          "showaxeslabels": false,
          "showgrid": false,
          "showline": false,
          "showspikes": false,
          "showticklabels": false,
          "ticks": "",
          "visible": false,
          "zeroline": false
         },
         "yaxis": {
          "autorange": true,
          "showaxeslabels": false,
          "showgrid": false,
          "showline": false,
          "showspikes": false,
          "showticklabels": false,
          "ticks": "",
          "visible": false,
          "zeroline": false
         },
         "zaxis": {
          "autorange": true,
          "showaxeslabels": false,
          "showgrid": false,
          "showline": false,
          "showspikes": false,
          "showticklabels": false,
          "ticks": "",
          "visible": false,
          "zeroline": false
         }
        },
        "showlegend": true,
        "template": {
         "data": {
          "bar": [
           {
            "error_x": {
             "color": "#2a3f5f"
            },
            "error_y": {
             "color": "#2a3f5f"
            },
            "marker": {
             "line": {
              "color": "#E5ECF6",
              "width": 0.5
             },
             "pattern": {
              "fillmode": "overlay",
              "size": 10,
              "solidity": 0.2
             }
            },
            "type": "bar"
           }
          ],
          "barpolar": [
           {
            "marker": {
             "line": {
              "color": "#E5ECF6",
              "width": 0.5
             },
             "pattern": {
              "fillmode": "overlay",
              "size": 10,
              "solidity": 0.2
             }
            },
            "type": "barpolar"
           }
          ],
          "carpet": [
           {
            "aaxis": {
             "endlinecolor": "#2a3f5f",
             "gridcolor": "white",
             "linecolor": "white",
             "minorgridcolor": "white",
             "startlinecolor": "#2a3f5f"
            },
            "baxis": {
             "endlinecolor": "#2a3f5f",
             "gridcolor": "white",
             "linecolor": "white",
             "minorgridcolor": "white",
             "startlinecolor": "#2a3f5f"
            },
            "type": "carpet"
           }
          ],
          "choropleth": [
           {
            "colorbar": {
             "outlinewidth": 0,
             "ticks": ""
            },
            "type": "choropleth"
           }
          ],
          "contour": [
           {
            "colorbar": {
             "outlinewidth": 0,
             "ticks": ""
            },
            "colorscale": [
             [
              0,
              "#0d0887"
             ],
             [
              0.1111111111111111,
              "#46039f"
             ],
             [
              0.2222222222222222,
              "#7201a8"
             ],
             [
              0.3333333333333333,
              "#9c179e"
             ],
             [
              0.4444444444444444,
              "#bd3786"
             ],
             [
              0.5555555555555556,
              "#d8576b"
             ],
             [
              0.6666666666666666,
              "#ed7953"
             ],
             [
              0.7777777777777778,
              "#fb9f3a"
             ],
             [
              0.8888888888888888,
              "#fdca26"
             ],
             [
              1,
              "#f0f921"
             ]
            ],
            "type": "contour"
           }
          ],
          "contourcarpet": [
           {
            "colorbar": {
             "outlinewidth": 0,
             "ticks": ""
            },
            "type": "contourcarpet"
           }
          ],
          "heatmap": [
           {
            "colorbar": {
             "outlinewidth": 0,
             "ticks": ""
            },
            "colorscale": [
             [
              0,
              "#0d0887"
             ],
             [
              0.1111111111111111,
              "#46039f"
             ],
             [
              0.2222222222222222,
              "#7201a8"
             ],
             [
              0.3333333333333333,
              "#9c179e"
             ],
             [
              0.4444444444444444,
              "#bd3786"
             ],
             [
              0.5555555555555556,
              "#d8576b"
             ],
             [
              0.6666666666666666,
              "#ed7953"
             ],
             [
              0.7777777777777778,
              "#fb9f3a"
             ],
             [
              0.8888888888888888,
              "#fdca26"
             ],
             [
              1,
              "#f0f921"
             ]
            ],
            "type": "heatmap"
           }
          ],
          "heatmapgl": [
           {
            "colorbar": {
             "outlinewidth": 0,
             "ticks": ""
            },
            "colorscale": [
             [
              0,
              "#0d0887"
             ],
             [
              0.1111111111111111,
              "#46039f"
             ],
             [
              0.2222222222222222,
              "#7201a8"
             ],
             [
              0.3333333333333333,
              "#9c179e"
             ],
             [
              0.4444444444444444,
              "#bd3786"
             ],
             [
              0.5555555555555556,
              "#d8576b"
             ],
             [
              0.6666666666666666,
              "#ed7953"
             ],
             [
              0.7777777777777778,
              "#fb9f3a"
             ],
             [
              0.8888888888888888,
              "#fdca26"
             ],
             [
              1,
              "#f0f921"
             ]
            ],
            "type": "heatmapgl"
           }
          ],
          "histogram": [
           {
            "marker": {
             "pattern": {
              "fillmode": "overlay",
              "size": 10,
              "solidity": 0.2
             }
            },
            "type": "histogram"
           }
          ],
          "histogram2d": [
           {
            "colorbar": {
             "outlinewidth": 0,
             "ticks": ""
            },
            "colorscale": [
             [
              0,
              "#0d0887"
             ],
             [
              0.1111111111111111,
              "#46039f"
             ],
             [
              0.2222222222222222,
              "#7201a8"
             ],
             [
              0.3333333333333333,
              "#9c179e"
             ],
             [
              0.4444444444444444,
              "#bd3786"
             ],
             [
              0.5555555555555556,
              "#d8576b"
             ],
             [
              0.6666666666666666,
              "#ed7953"
             ],
             [
              0.7777777777777778,
              "#fb9f3a"
             ],
             [
              0.8888888888888888,
              "#fdca26"
             ],
             [
              1,
              "#f0f921"
             ]
            ],
            "type": "histogram2d"
           }
          ],
          "histogram2dcontour": [
           {
            "colorbar": {
             "outlinewidth": 0,
             "ticks": ""
            },
            "colorscale": [
             [
              0,
              "#0d0887"
             ],
             [
              0.1111111111111111,
              "#46039f"
             ],
             [
              0.2222222222222222,
              "#7201a8"
             ],
             [
              0.3333333333333333,
              "#9c179e"
             ],
             [
              0.4444444444444444,
              "#bd3786"
             ],
             [
              0.5555555555555556,
              "#d8576b"
             ],
             [
              0.6666666666666666,
              "#ed7953"
             ],
             [
              0.7777777777777778,
              "#fb9f3a"
             ],
             [
              0.8888888888888888,
              "#fdca26"
             ],
             [
              1,
              "#f0f921"
             ]
            ],
            "type": "histogram2dcontour"
           }
          ],
          "mesh3d": [
           {
            "colorbar": {
             "outlinewidth": 0,
             "ticks": ""
            },
            "type": "mesh3d"
           }
          ],
          "parcoords": [
           {
            "line": {
             "colorbar": {
              "outlinewidth": 0,
              "ticks": ""
             }
            },
            "type": "parcoords"
           }
          ],
          "pie": [
           {
            "automargin": true,
            "type": "pie"
           }
          ],
          "scatter": [
           {
            "marker": {
             "colorbar": {
              "outlinewidth": 0,
              "ticks": ""
             }
            },
            "type": "scatter"
           }
          ],
          "scatter3d": [
           {
            "line": {
             "colorbar": {
              "outlinewidth": 0,
              "ticks": ""
             }
            },
            "marker": {
             "colorbar": {
              "outlinewidth": 0,
              "ticks": ""
             }
            },
            "type": "scatter3d"
           }
          ],
          "scattercarpet": [
           {
            "marker": {
             "colorbar": {
              "outlinewidth": 0,
              "ticks": ""
             }
            },
            "type": "scattercarpet"
           }
          ],
          "scattergeo": [
           {
            "marker": {
             "colorbar": {
              "outlinewidth": 0,
              "ticks": ""
             }
            },
            "type": "scattergeo"
           }
          ],
          "scattergl": [
           {
            "marker": {
             "colorbar": {
              "outlinewidth": 0,
              "ticks": ""
             }
            },
            "type": "scattergl"
           }
          ],
          "scattermapbox": [
           {
            "marker": {
             "colorbar": {
              "outlinewidth": 0,
              "ticks": ""
             }
            },
            "type": "scattermapbox"
           }
          ],
          "scatterpolar": [
           {
            "marker": {
             "colorbar": {
              "outlinewidth": 0,
              "ticks": ""
             }
            },
            "type": "scatterpolar"
           }
          ],
          "scatterpolargl": [
           {
            "marker": {
             "colorbar": {
              "outlinewidth": 0,
              "ticks": ""
             }
            },
            "type": "scatterpolargl"
           }
          ],
          "scatterternary": [
           {
            "marker": {
             "colorbar": {
              "outlinewidth": 0,
              "ticks": ""
             }
            },
            "type": "scatterternary"
           }
          ],
          "surface": [
           {
            "colorbar": {
             "outlinewidth": 0,
             "ticks": ""
            },
            "colorscale": [
             [
              0,
              "#0d0887"
             ],
             [
              0.1111111111111111,
              "#46039f"
             ],
             [
              0.2222222222222222,
              "#7201a8"
             ],
             [
              0.3333333333333333,
              "#9c179e"
             ],
             [
              0.4444444444444444,
              "#bd3786"
             ],
             [
              0.5555555555555556,
              "#d8576b"
             ],
             [
              0.6666666666666666,
              "#ed7953"
             ],
             [
              0.7777777777777778,
              "#fb9f3a"
             ],
             [
              0.8888888888888888,
              "#fdca26"
             ],
             [
              1,
              "#f0f921"
             ]
            ],
            "type": "surface"
           }
          ],
          "table": [
           {
            "cells": {
             "fill": {
              "color": "#EBF0F8"
             },
             "line": {
              "color": "white"
             }
            },
            "header": {
             "fill": {
              "color": "#C8D4E3"
             },
             "line": {
              "color": "white"
             }
            },
            "type": "table"
           }
          ]
         },
         "layout": {
          "annotationdefaults": {
           "arrowcolor": "#2a3f5f",
           "arrowhead": 0,
           "arrowwidth": 1
          },
          "autotypenumbers": "strict",
          "coloraxis": {
           "colorbar": {
            "outlinewidth": 0,
            "ticks": ""
           }
          },
          "colorscale": {
           "diverging": [
            [
             0,
             "#8e0152"
            ],
            [
             0.1,
             "#c51b7d"
            ],
            [
             0.2,
             "#de77ae"
            ],
            [
             0.3,
             "#f1b6da"
            ],
            [
             0.4,
             "#fde0ef"
            ],
            [
             0.5,
             "#f7f7f7"
            ],
            [
             0.6,
             "#e6f5d0"
            ],
            [
             0.7,
             "#b8e186"
            ],
            [
             0.8,
             "#7fbc41"
            ],
            [
             0.9,
             "#4d9221"
            ],
            [
             1,
             "#276419"
            ]
           ],
           "sequential": [
            [
             0,
             "#0d0887"
            ],
            [
             0.1111111111111111,
             "#46039f"
            ],
            [
             0.2222222222222222,
             "#7201a8"
            ],
            [
             0.3333333333333333,
             "#9c179e"
            ],
            [
             0.4444444444444444,
             "#bd3786"
            ],
            [
             0.5555555555555556,
             "#d8576b"
            ],
            [
             0.6666666666666666,
             "#ed7953"
            ],
            [
             0.7777777777777778,
             "#fb9f3a"
            ],
            [
             0.8888888888888888,
             "#fdca26"
            ],
            [
             1,
             "#f0f921"
            ]
           ],
           "sequentialminus": [
            [
             0,
             "#0d0887"
            ],
            [
             0.1111111111111111,
             "#46039f"
            ],
            [
             0.2222222222222222,
             "#7201a8"
            ],
            [
             0.3333333333333333,
             "#9c179e"
            ],
            [
             0.4444444444444444,
             "#bd3786"
            ],
            [
             0.5555555555555556,
             "#d8576b"
            ],
            [
             0.6666666666666666,
             "#ed7953"
            ],
            [
             0.7777777777777778,
             "#fb9f3a"
            ],
            [
             0.8888888888888888,
             "#fdca26"
            ],
            [
             1,
             "#f0f921"
            ]
           ]
          },
          "colorway": [
           "#636efa",
           "#EF553B",
           "#00cc96",
           "#ab63fa",
           "#FFA15A",
           "#19d3f3",
           "#FF6692",
           "#B6E880",
           "#FF97FF",
           "#FECB52"
          ],
          "font": {
           "color": "#2a3f5f"
          },
          "geo": {
           "bgcolor": "white",
           "lakecolor": "white",
           "landcolor": "#E5ECF6",
           "showlakes": true,
           "showland": true,
           "subunitcolor": "white"
          },
          "hoverlabel": {
           "align": "left"
          },
          "hovermode": "closest",
          "mapbox": {
           "style": "light"
          },
          "paper_bgcolor": "white",
          "plot_bgcolor": "#E5ECF6",
          "polar": {
           "angularaxis": {
            "gridcolor": "white",
            "linecolor": "white",
            "ticks": ""
           },
           "bgcolor": "#E5ECF6",
           "radialaxis": {
            "gridcolor": "white",
            "linecolor": "white",
            "ticks": ""
           }
          },
          "scene": {
           "xaxis": {
            "backgroundcolor": "#E5ECF6",
            "gridcolor": "white",
            "gridwidth": 2,
            "linecolor": "white",
            "showbackground": true,
            "ticks": "",
            "zerolinecolor": "white"
           },
           "yaxis": {
            "backgroundcolor": "#E5ECF6",
            "gridcolor": "white",
            "gridwidth": 2,
            "linecolor": "white",
            "showbackground": true,
            "ticks": "",
            "zerolinecolor": "white"
           },
           "zaxis": {
            "backgroundcolor": "#E5ECF6",
            "gridcolor": "white",
            "gridwidth": 2,
            "linecolor": "white",
            "showbackground": true,
            "ticks": "",
            "zerolinecolor": "white"
           }
          },
          "shapedefaults": {
           "line": {
            "color": "#2a3f5f"
           }
          },
          "ternary": {
           "aaxis": {
            "gridcolor": "white",
            "linecolor": "white",
            "ticks": ""
           },
           "baxis": {
            "gridcolor": "white",
            "linecolor": "white",
            "ticks": ""
           },
           "bgcolor": "#E5ECF6",
           "caxis": {
            "gridcolor": "white",
            "linecolor": "white",
            "ticks": ""
           }
          },
          "title": {
           "x": 0.05
          },
          "xaxis": {
           "automargin": true,
           "gridcolor": "white",
           "linecolor": "white",
           "ticks": "",
           "title": {
            "standoff": 15
           },
           "zerolinecolor": "white",
           "zerolinewidth": 2
          },
          "yaxis": {
           "automargin": true,
           "gridcolor": "white",
           "linecolor": "white",
           "ticks": "",
           "title": {
            "standoff": 15
           },
           "zerolinecolor": "white",
           "zerolinewidth": 2
          }
         }
        }
       }
      },
      "text/html": [
       "<div>                            <div id=\"cbb1ca5f-4028-483e-b0a7-15812932fd6b\" class=\"plotly-graph-div\" style=\"height:700px; width:100%;\"></div>            <script type=\"text/javascript\">                require([\"plotly\"], function(Plotly) {                    window.PLOTLYENV=window.PLOTLYENV || {};                                    if (document.getElementById(\"cbb1ca5f-4028-483e-b0a7-15812932fd6b\")) {                    Plotly.newPlot(                        \"cbb1ca5f-4028-483e-b0a7-15812932fd6b\",                        [{\"hoverinfo\":\"none\",\"line\":{\"color\":\"rgba(0,0,0,1.0)\",\"width\":7.0},\"mode\":\"lines\",\"showlegend\":false,\"x\":[0.5773502691896257,0.5773502691896254,null,0.5773502691896257,0.0,null,0.5773502691896254,0.0,null,0.5773502691896257,0.8660254037844386,null,0.5773502691896254,0.0,null,0.0,0.0,null,0.5773502691896254,0.8660254037844386,null],\"y\":[0.6666666666666667,0.33333333333333315,null,0.6666666666666667,1.0,null,0.33333333333333315,0.0,null,0.6666666666666667,0.5,null,0.33333333333333315,1.0,null,1.0,0.0,null,0.33333333333333315,0.5,null],\"z\":[-0.49099999999999716,-0.5745843333333304,null,-0.49099999999999716,0.0,null,-0.5745843333333304,0.0,null,-0.49099999999999716,0.0,null,-0.5745843333333304,0.0,null,0.0,0.0,null,-0.5745843333333304,0.0,null],\"type\":\"scatter3d\"},{\"hoverinfo\":\"none\",\"line\":{\"color\":\"rgba (0, 0, 0, 0.4)\",\"dash\":\"solid\",\"width\":1.0},\"mode\":\"lines\",\"showlegend\":false,\"x\":[0.8660254037844386,0.0,null,0.8660254037844386,0.0,null,0.8660254037844386,0.0,null,0.8660254037844386,0.0,null,0.0,0.0,null,0.0,0.0,null,0.8660254037844386,0.8660254037844386,null,0.0,0.0,null,0.0,0.0,null],\"y\":[0.5,1.0,null,0.5,1.0,null,0.5,0.0,null,0.5,0.0,null,1.0,0.0,null,1.0,0.0,null,0.5,0.5,null,1.0,1.0,null,0.0,0.0,null],\"z\":[0,0,null,-0.5745843333333304,-0.5745843333333304,null,0,0,null,-0.5745843333333304,-0.5745843333333304,null,0,0,null,-0.5745843333333304,-0.5745843333333304,null,0,-0.5745843333333304,null,0,-0.5745843333333304,null,0,-0.5745843333333304,null],\"type\":\"scatter3d\"},{\"colorbar\":{\"len\":0.75,\"title\":{\"text\":\"Formation energy<br>(eV/atom)\"},\"x\":0.9},\"colorscale\":[[0.0,\"#0c8c00\"],[0.5,\"#d8ffd4\"],[1.0,\"#ffffff\"]],\"flatshading\":true,\"hoverinfo\":\"none\",\"i\":[4,4,3],\"intensity\":[-0.49099999999999716,-0.5745843333333304,-0.49163922222220513,0.0,0.0,0.0],\"j\":[5,0,0],\"k\":[1,1,1],\"lighting\":{\"ambient\":1.0,\"diffuse\":0.0},\"name\":\"Convex Hull (shading)\",\"opacity\":0.8,\"showlegend\":true,\"x\":[0.5773502691896257,0.5773502691896254,0.5773502691896251,0.8660254037844386,0.0,0.0],\"y\":[0.6666666666666667,0.33333333333333315,0.5555555555555549,0.5,1.0,0.0],\"z\":[-0.49099999999999716,-0.5745843333333304,-0.49163922222220513,0.0,0.0,0.0],\"type\":\"mesh3d\"},{\"hoverinfo\":\"skip\",\"mode\":\"text\",\"name\":\"Labels (stable)\",\"opacity\":1.0,\"showlegend\":true,\"text\":[\"CoSO<sub>4</sub>\",\"CaSO<sub>4</sub>\"],\"textposition\":[\"middle center\",\"middle center\"],\"visible\":true,\"x\":[0.5673502691896257,0.5673502691896254],\"y\":[0.6766666666666667,0.32333333333333314],\"z\":[-0.4335415666666641,-0.5171258999999974],\"type\":\"scatter3d\"},{\"hoverinfo\":\"text\",\"hoverlabel\":{\"font\":{\"size\":14}},\"hovertext\":[\"CaCo<sub>2</sub>(SO<sub>4</sub>)<sub>3</sub> (None) <br> -0.492 eV/atom (+0.027 eV/atom)\",\"Ca<sub>2</sub>CoO<sub>3</sub> (None) <br> 0.115 eV/atom (+0.115 eV/atom)\"],\"marker\":{\"color\":[0.027,0.115],\"colorbar\":{\"len\":0.75,\"title\":{\"text\":\"Energy Above Hull<br>(eV/atom)\"},\"x\":0.05},\"colorscale\":[[0.0,\"#fad393\"],[0.5,\"#ff813d\"],[1.0,\"#ff0000\"]],\"size\":6,\"symbol\":\"diamond\"},\"mode\":\"markers\",\"name\":\"Above Hull\",\"showlegend\":true,\"x\":[0.5773502691896251,0.0],\"y\":[0.5555555555555549,0.3333333333333333],\"z\":[-0.492,0.115],\"type\":\"scatter3d\"},{\"error_z\":{\"array\":[0,0,0,0,0],\"color\":\"darkgray\",\"thickness\":5,\"type\":\"data\",\"width\":10},\"hoverinfo\":\"text\",\"hoverlabel\":{\"font\":{\"size\":14}},\"hovertext\":[\"CoSO<sub>4</sub> (None) <br> -0.491 eV/atom\",\"CaSO<sub>4</sub> (None) <br> -0.575 eV/atom\",\"CoO (None) <br> 0.0 eV/atom\",\"CaO (None) <br> 0.0 eV/atom\",\"SO<sub>3</sub> (None) <br> 0.0 eV/atom\"],\"marker\":{\"color\":\"black\",\"line\":{\"color\":\"black\",\"width\":3},\"opacity\":0.8,\"size\":12},\"mode\":\"markers\",\"name\":\"Stable\",\"showlegend\":true,\"x\":[0.5773502691896257,0.5773502691896254,0.0,0.0,0.8660254037844386],\"y\":[0.6666666666666667,0.33333333333333315,1.0,0.0,0.5],\"z\":[-0.491,-0.575,0.0,0.0,0.0],\"type\":\"scatter3d\"}],                        {\"autosize\":true,\"height\":700,\"hovermode\":\"closest\",\"legend\":{\"orientation\":\"h\",\"traceorder\":\"reversed\",\"x\":0.5,\"xanchor\":\"center\",\"y\":0.0,\"yanchor\":\"top\"},\"margin\":{\"b\":10,\"l\":0,\"pad\":0,\"r\":0,\"t\":0},\"paper_bgcolor\":\"rgba(0,0,0,0)\",\"plot_bgcolor\":\"rgba(0,0,0,0)\",\"scene\":{\"annotations\":[{\"align\":\"center\",\"font\":{\"color\":\"#000000\",\"size\":24.0},\"opacity\":1.0,\"showarrow\":false,\"text\":\"CoO\",\"x\":0.0,\"xanchor\":\"right\",\"xshift\":-10,\"y\":1.0,\"yanchor\":\"auto\",\"yshift\":-10,\"z\":-0.5171258999999974},{\"align\":\"center\",\"font\":{\"color\":\"#000000\",\"size\":24.0},\"opacity\":1.0,\"showarrow\":false,\"text\":\"CaO\",\"x\":0.0,\"xanchor\":\"right\",\"xshift\":-10,\"y\":0.0,\"yanchor\":\"auto\",\"yshift\":-10,\"z\":-0.5171258999999974},{\"align\":\"center\",\"font\":{\"color\":\"#000000\",\"size\":24.0},\"opacity\":1.0,\"showarrow\":false,\"text\":\"SO<sub>3</sub>\",\"x\":0.8660254037844386,\"xanchor\":\"right\",\"xshift\":-10,\"y\":0.5,\"yanchor\":\"auto\",\"yshift\":-10,\"z\":-0.5171258999999974},{\"opacity\":0,\"text\":\"\",\"x\":1,\"y\":1,\"z\":0}],\"xaxis\":{\"autorange\":true,\"showaxeslabels\":false,\"showgrid\":false,\"showline\":false,\"showspikes\":false,\"showticklabels\":false,\"ticks\":\"\",\"visible\":false,\"zeroline\":false},\"yaxis\":{\"autorange\":true,\"showaxeslabels\":false,\"showgrid\":false,\"showline\":false,\"showspikes\":false,\"showticklabels\":false,\"ticks\":\"\",\"visible\":false,\"zeroline\":false},\"zaxis\":{\"autorange\":true,\"showaxeslabels\":false,\"showgrid\":false,\"showline\":false,\"showspikes\":false,\"showticklabels\":false,\"ticks\":\"\",\"visible\":false,\"zeroline\":false},\"camera\":{\"center\":{\"x\":-0.1,\"y\":0,\"z\":-0.15},\"eye\":{\"x\":-0.1,\"y\":0,\"z\":2.5},\"projection\":{\"type\":\"orthographic\"}},\"aspectratio\":{\"x\":1.7,\"y\":1.7,\"z\":1.2}},\"showlegend\":true,\"template\":{\"data\":{\"bar\":[{\"error_x\":{\"color\":\"#2a3f5f\"},\"error_y\":{\"color\":\"#2a3f5f\"},\"marker\":{\"line\":{\"color\":\"#E5ECF6\",\"width\":0.5},\"pattern\":{\"fillmode\":\"overlay\",\"size\":10,\"solidity\":0.2}},\"type\":\"bar\"}],\"barpolar\":[{\"marker\":{\"line\":{\"color\":\"#E5ECF6\",\"width\":0.5},\"pattern\":{\"fillmode\":\"overlay\",\"size\":10,\"solidity\":0.2}},\"type\":\"barpolar\"}],\"carpet\":[{\"aaxis\":{\"endlinecolor\":\"#2a3f5f\",\"gridcolor\":\"white\",\"linecolor\":\"white\",\"minorgridcolor\":\"white\",\"startlinecolor\":\"#2a3f5f\"},\"baxis\":{\"endlinecolor\":\"#2a3f5f\",\"gridcolor\":\"white\",\"linecolor\":\"white\",\"minorgridcolor\":\"white\",\"startlinecolor\":\"#2a3f5f\"},\"type\":\"carpet\"}],\"choropleth\":[{\"colorbar\":{\"outlinewidth\":0,\"ticks\":\"\"},\"type\":\"choropleth\"}],\"contour\":[{\"colorbar\":{\"outlinewidth\":0,\"ticks\":\"\"},\"colorscale\":[[0.0,\"#0d0887\"],[0.1111111111111111,\"#46039f\"],[0.2222222222222222,\"#7201a8\"],[0.3333333333333333,\"#9c179e\"],[0.4444444444444444,\"#bd3786\"],[0.5555555555555556,\"#d8576b\"],[0.6666666666666666,\"#ed7953\"],[0.7777777777777778,\"#fb9f3a\"],[0.8888888888888888,\"#fdca26\"],[1.0,\"#f0f921\"]],\"type\":\"contour\"}],\"contourcarpet\":[{\"colorbar\":{\"outlinewidth\":0,\"ticks\":\"\"},\"type\":\"contourcarpet\"}],\"heatmap\":[{\"colorbar\":{\"outlinewidth\":0,\"ticks\":\"\"},\"colorscale\":[[0.0,\"#0d0887\"],[0.1111111111111111,\"#46039f\"],[0.2222222222222222,\"#7201a8\"],[0.3333333333333333,\"#9c179e\"],[0.4444444444444444,\"#bd3786\"],[0.5555555555555556,\"#d8576b\"],[0.6666666666666666,\"#ed7953\"],[0.7777777777777778,\"#fb9f3a\"],[0.8888888888888888,\"#fdca26\"],[1.0,\"#f0f921\"]],\"type\":\"heatmap\"}],\"heatmapgl\":[{\"colorbar\":{\"outlinewidth\":0,\"ticks\":\"\"},\"colorscale\":[[0.0,\"#0d0887\"],[0.1111111111111111,\"#46039f\"],[0.2222222222222222,\"#7201a8\"],[0.3333333333333333,\"#9c179e\"],[0.4444444444444444,\"#bd3786\"],[0.5555555555555556,\"#d8576b\"],[0.6666666666666666,\"#ed7953\"],[0.7777777777777778,\"#fb9f3a\"],[0.8888888888888888,\"#fdca26\"],[1.0,\"#f0f921\"]],\"type\":\"heatmapgl\"}],\"histogram\":[{\"marker\":{\"pattern\":{\"fillmode\":\"overlay\",\"size\":10,\"solidity\":0.2}},\"type\":\"histogram\"}],\"histogram2d\":[{\"colorbar\":{\"outlinewidth\":0,\"ticks\":\"\"},\"colorscale\":[[0.0,\"#0d0887\"],[0.1111111111111111,\"#46039f\"],[0.2222222222222222,\"#7201a8\"],[0.3333333333333333,\"#9c179e\"],[0.4444444444444444,\"#bd3786\"],[0.5555555555555556,\"#d8576b\"],[0.6666666666666666,\"#ed7953\"],[0.7777777777777778,\"#fb9f3a\"],[0.8888888888888888,\"#fdca26\"],[1.0,\"#f0f921\"]],\"type\":\"histogram2d\"}],\"histogram2dcontour\":[{\"colorbar\":{\"outlinewidth\":0,\"ticks\":\"\"},\"colorscale\":[[0.0,\"#0d0887\"],[0.1111111111111111,\"#46039f\"],[0.2222222222222222,\"#7201a8\"],[0.3333333333333333,\"#9c179e\"],[0.4444444444444444,\"#bd3786\"],[0.5555555555555556,\"#d8576b\"],[0.6666666666666666,\"#ed7953\"],[0.7777777777777778,\"#fb9f3a\"],[0.8888888888888888,\"#fdca26\"],[1.0,\"#f0f921\"]],\"type\":\"histogram2dcontour\"}],\"mesh3d\":[{\"colorbar\":{\"outlinewidth\":0,\"ticks\":\"\"},\"type\":\"mesh3d\"}],\"parcoords\":[{\"line\":{\"colorbar\":{\"outlinewidth\":0,\"ticks\":\"\"}},\"type\":\"parcoords\"}],\"pie\":[{\"automargin\":true,\"type\":\"pie\"}],\"scatter\":[{\"marker\":{\"colorbar\":{\"outlinewidth\":0,\"ticks\":\"\"}},\"type\":\"scatter\"}],\"scatter3d\":[{\"line\":{\"colorbar\":{\"outlinewidth\":0,\"ticks\":\"\"}},\"marker\":{\"colorbar\":{\"outlinewidth\":0,\"ticks\":\"\"}},\"type\":\"scatter3d\"}],\"scattercarpet\":[{\"marker\":{\"colorbar\":{\"outlinewidth\":0,\"ticks\":\"\"}},\"type\":\"scattercarpet\"}],\"scattergeo\":[{\"marker\":{\"colorbar\":{\"outlinewidth\":0,\"ticks\":\"\"}},\"type\":\"scattergeo\"}],\"scattergl\":[{\"marker\":{\"colorbar\":{\"outlinewidth\":0,\"ticks\":\"\"}},\"type\":\"scattergl\"}],\"scattermapbox\":[{\"marker\":{\"colorbar\":{\"outlinewidth\":0,\"ticks\":\"\"}},\"type\":\"scattermapbox\"}],\"scatterpolar\":[{\"marker\":{\"colorbar\":{\"outlinewidth\":0,\"ticks\":\"\"}},\"type\":\"scatterpolar\"}],\"scatterpolargl\":[{\"marker\":{\"colorbar\":{\"outlinewidth\":0,\"ticks\":\"\"}},\"type\":\"scatterpolargl\"}],\"scatterternary\":[{\"marker\":{\"colorbar\":{\"outlinewidth\":0,\"ticks\":\"\"}},\"type\":\"scatterternary\"}],\"surface\":[{\"colorbar\":{\"outlinewidth\":0,\"ticks\":\"\"},\"colorscale\":[[0.0,\"#0d0887\"],[0.1111111111111111,\"#46039f\"],[0.2222222222222222,\"#7201a8\"],[0.3333333333333333,\"#9c179e\"],[0.4444444444444444,\"#bd3786\"],[0.5555555555555556,\"#d8576b\"],[0.6666666666666666,\"#ed7953\"],[0.7777777777777778,\"#fb9f3a\"],[0.8888888888888888,\"#fdca26\"],[1.0,\"#f0f921\"]],\"type\":\"surface\"}],\"table\":[{\"cells\":{\"fill\":{\"color\":\"#EBF0F8\"},\"line\":{\"color\":\"white\"}},\"header\":{\"fill\":{\"color\":\"#C8D4E3\"},\"line\":{\"color\":\"white\"}},\"type\":\"table\"}]},\"layout\":{\"annotationdefaults\":{\"arrowcolor\":\"#2a3f5f\",\"arrowhead\":0,\"arrowwidth\":1},\"autotypenumbers\":\"strict\",\"coloraxis\":{\"colorbar\":{\"outlinewidth\":0,\"ticks\":\"\"}},\"colorscale\":{\"diverging\":[[0,\"#8e0152\"],[0.1,\"#c51b7d\"],[0.2,\"#de77ae\"],[0.3,\"#f1b6da\"],[0.4,\"#fde0ef\"],[0.5,\"#f7f7f7\"],[0.6,\"#e6f5d0\"],[0.7,\"#b8e186\"],[0.8,\"#7fbc41\"],[0.9,\"#4d9221\"],[1,\"#276419\"]],\"sequential\":[[0.0,\"#0d0887\"],[0.1111111111111111,\"#46039f\"],[0.2222222222222222,\"#7201a8\"],[0.3333333333333333,\"#9c179e\"],[0.4444444444444444,\"#bd3786\"],[0.5555555555555556,\"#d8576b\"],[0.6666666666666666,\"#ed7953\"],[0.7777777777777778,\"#fb9f3a\"],[0.8888888888888888,\"#fdca26\"],[1.0,\"#f0f921\"]],\"sequentialminus\":[[0.0,\"#0d0887\"],[0.1111111111111111,\"#46039f\"],[0.2222222222222222,\"#7201a8\"],[0.3333333333333333,\"#9c179e\"],[0.4444444444444444,\"#bd3786\"],[0.5555555555555556,\"#d8576b\"],[0.6666666666666666,\"#ed7953\"],[0.7777777777777778,\"#fb9f3a\"],[0.8888888888888888,\"#fdca26\"],[1.0,\"#f0f921\"]]},\"colorway\":[\"#636efa\",\"#EF553B\",\"#00cc96\",\"#ab63fa\",\"#FFA15A\",\"#19d3f3\",\"#FF6692\",\"#B6E880\",\"#FF97FF\",\"#FECB52\"],\"font\":{\"color\":\"#2a3f5f\"},\"geo\":{\"bgcolor\":\"white\",\"lakecolor\":\"white\",\"landcolor\":\"#E5ECF6\",\"showlakes\":true,\"showland\":true,\"subunitcolor\":\"white\"},\"hoverlabel\":{\"align\":\"left\"},\"hovermode\":\"closest\",\"mapbox\":{\"style\":\"light\"},\"paper_bgcolor\":\"white\",\"plot_bgcolor\":\"#E5ECF6\",\"polar\":{\"angularaxis\":{\"gridcolor\":\"white\",\"linecolor\":\"white\",\"ticks\":\"\"},\"bgcolor\":\"#E5ECF6\",\"radialaxis\":{\"gridcolor\":\"white\",\"linecolor\":\"white\",\"ticks\":\"\"}},\"scene\":{\"xaxis\":{\"backgroundcolor\":\"#E5ECF6\",\"gridcolor\":\"white\",\"gridwidth\":2,\"linecolor\":\"white\",\"showbackground\":true,\"ticks\":\"\",\"zerolinecolor\":\"white\"},\"yaxis\":{\"backgroundcolor\":\"#E5ECF6\",\"gridcolor\":\"white\",\"gridwidth\":2,\"linecolor\":\"white\",\"showbackground\":true,\"ticks\":\"\",\"zerolinecolor\":\"white\"},\"zaxis\":{\"backgroundcolor\":\"#E5ECF6\",\"gridcolor\":\"white\",\"gridwidth\":2,\"linecolor\":\"white\",\"showbackground\":true,\"ticks\":\"\",\"zerolinecolor\":\"white\"}},\"shapedefaults\":{\"line\":{\"color\":\"#2a3f5f\"}},\"ternary\":{\"aaxis\":{\"gridcolor\":\"white\",\"linecolor\":\"white\",\"ticks\":\"\"},\"baxis\":{\"gridcolor\":\"white\",\"linecolor\":\"white\",\"ticks\":\"\"},\"bgcolor\":\"#E5ECF6\",\"caxis\":{\"gridcolor\":\"white\",\"linecolor\":\"white\",\"ticks\":\"\"}},\"title\":{\"x\":0.05},\"xaxis\":{\"automargin\":true,\"gridcolor\":\"white\",\"linecolor\":\"white\",\"ticks\":\"\",\"title\":{\"standoff\":15},\"zerolinecolor\":\"white\",\"zerolinewidth\":2},\"yaxis\":{\"automargin\":true,\"gridcolor\":\"white\",\"linecolor\":\"white\",\"ticks\":\"\",\"title\":{\"standoff\":15},\"zerolinecolor\":\"white\",\"zerolinewidth\":2}}}},                        {\"responsive\": true}                    ).then(function(){\n",
       "                            \n",
       "var gd = document.getElementById('cbb1ca5f-4028-483e-b0a7-15812932fd6b');\n",
       "var x = new MutationObserver(function (mutations, observer) {{\n",
       "        var display = window.getComputedStyle(gd).display;\n",
       "        if (!display || display === 'none') {{\n",
       "            console.log([gd, 'removed!']);\n",
       "            Plotly.purge(gd);\n",
       "            observer.disconnect();\n",
       "        }}\n",
       "}});\n",
       "\n",
       "// Listen for the removal of the full notebook cells\n",
       "var notebookContainer = gd.closest('#notebook-container');\n",
       "if (notebookContainer) {{\n",
       "    x.observe(notebookContainer, {childList: true});\n",
       "}}\n",
       "\n",
       "// Listen for the clearing of the current output cell\n",
       "var outputEl = gd.closest('.output');\n",
       "if (outputEl) {{\n",
       "    x.observe(outputEl, {childList: true});\n",
       "}}\n",
       "\n",
       "                        })                };                });            </script>        </div>"
      ]
     },
     "metadata": {},
     "output_type": "display_data"
    }
   ],
   "source": [
    "phase_diagram_2 = CompoundPhaseDiagram(entries,[Composition(\"CaO\"),\n",
    "                                                Composition(\"CoO\"),\n",
    "                                                Composition(\"SO3\")])\n",
    "\n",
    "compound_plotter_2 = PDPlotter(phase_diagram_2, show_unstable=True, backend = \"matplotlib\",  markersize=20)\n",
    "z = compound_plotter_2.get_plot(label_unstable=False, label_stable=False)\n",
    "#z.savefig('40-CaCo2S3O12.pdf')\n",
    "z.show()   \n",
    "\n",
    "compound_plotter_2 = PDPlotter(phase_diagram_2, show_unstable = 0.2, markerize=20)\n",
    "y = compound_plotter_2.get_plot(phase_diagram_2, label_unstable=True)\n",
    "y.show()\n",
    "\n"
   ]
  },
  {
   "cell_type": "code",
   "execution_count": 10,
   "id": "2c9188fc",
   "metadata": {},
   "outputs": [
    {
     "data": {
      "application/vnd.plotly.v1+json": {
       "config": {
        "plotlyServerURL": "https://plot.ly"
       },
       "data": [
        {
         "hoverinfo": "none",
         "line": {
          "color": "rgba(0,0,0,1.0)",
          "width": 7
         },
         "mode": "lines",
         "showlegend": false,
         "type": "scatter3d",
         "x": [
          0.4330127018922194,
          0.5773502691896256,
          null,
          0,
          0.5773502691896256,
          null,
          0.4330127018922194,
          0,
          null,
          0.649519052838329,
          0.8660254037844386,
          null,
          0,
          0,
          null,
          0.5773502691896256,
          0,
          null,
          0.649519052838329,
          0.5773502691896256,
          null,
          0.4330127018922194,
          0,
          null,
          0.5773502691896256,
          0.8660254037844386,
          null,
          0,
          0,
          null,
          0.649519052838329,
          0,
          null,
          0.4330127018922194,
          0.8660254037844386,
          null
         ],
         "y": [
          0.25000000000000006,
          0.5000000000000001,
          null,
          0.5000000000000002,
          0.5000000000000001,
          null,
          0.25000000000000006,
          0,
          null,
          0.625,
          0.5,
          null,
          0.5000000000000002,
          0,
          null,
          0.5000000000000001,
          1,
          null,
          0.625,
          0.5000000000000001,
          null,
          0.25000000000000006,
          0.5000000000000002,
          null,
          0.5000000000000001,
          0.5,
          null,
          0.5000000000000002,
          1,
          null,
          0.625,
          1,
          null,
          0.25000000000000006,
          0.5,
          null
         ],
         "z": [
          -3.2661219999999984,
          -2.4657666666666627,
          null,
          -2.425844999999997,
          -2.4657666666666627,
          null,
          -3.2661219999999984,
          0,
          null,
          -1.2037125000000022,
          0,
          null,
          -2.425844999999997,
          0,
          null,
          -2.4657666666666627,
          0,
          null,
          -1.2037125000000022,
          -2.4657666666666627,
          null,
          -3.2661219999999984,
          -2.425844999999997,
          null,
          -2.4657666666666627,
          0,
          null,
          -2.425844999999997,
          0,
          null,
          -1.2037125000000022,
          0,
          null,
          -3.2661219999999984,
          0,
          null
         ]
        },
        {
         "hoverinfo": "none",
         "line": {
          "color": "rgba (0, 0, 0, 0.4)",
          "dash": "solid",
          "width": 1
         },
         "mode": "lines",
         "showlegend": false,
         "type": "scatter3d",
         "x": [
          0.8660254037844386,
          0,
          null,
          0.8660254037844386,
          0,
          null,
          0.8660254037844386,
          0,
          null,
          0.8660254037844386,
          0,
          null,
          0,
          0,
          null,
          0,
          0,
          null,
          0.8660254037844386,
          0.8660254037844386,
          null,
          0,
          0,
          null,
          0,
          0,
          null
         ],
         "y": [
          0.5,
          1,
          null,
          0.5,
          1,
          null,
          0.5,
          0,
          null,
          0.5,
          0,
          null,
          1,
          0,
          null,
          1,
          0,
          null,
          0.5,
          0.5,
          null,
          1,
          1,
          null,
          0,
          0,
          null
         ],
         "z": [
          0,
          0,
          null,
          -3.2661219999999984,
          -3.2661219999999984,
          null,
          0,
          0,
          null,
          -3.2661219999999984,
          -3.2661219999999984,
          null,
          0,
          0,
          null,
          -3.2661219999999984,
          -3.2661219999999984,
          null,
          0,
          -3.2661219999999984,
          null,
          0,
          -3.2661219999999984,
          null,
          0,
          -3.2661219999999984,
          null
         ]
        },
        {
         "colorbar": {
          "len": 0.75,
          "title": {
           "text": "Formation energy<br>(eV/atom)"
          },
          "x": 0.9
         },
         "colorscale": [
          [
           0,
           "#0c8c00"
          ],
          [
           0.5,
           "#d8ffd4"
          ],
          [
           1,
           "#ffffff"
          ]
         ],
         "flatshading": true,
         "hoverinfo": "none",
         "i": [
          5,
          7,
          4,
          4,
          4,
          4
         ],
         "intensity": [
          -1.018966666666665,
          -1.2037125000000022,
          -3.2661219999999984,
          -2.425844999999997,
          -2.4657666666666627,
          0,
          0,
          0
         ],
         "j": [
          4,
          3,
          3,
          3,
          1,
          1
         ],
         "k": [
          2,
          2,
          2,
          6,
          6,
          5
         ],
         "lighting": {
          "ambient": 1,
          "diffuse": 0
         },
         "name": "Convex Hull (shading)",
         "opacity": 0.8,
         "showlegend": true,
         "type": "mesh3d",
         "x": [
          0.5773502691896258,
          0.649519052838329,
          0.4330127018922194,
          0,
          0.5773502691896256,
          0.8660254037844386,
          0,
          0
         ],
         "y": [
          0.6666666666666666,
          0.625,
          0.25000000000000006,
          0.5000000000000002,
          0.5000000000000001,
          0.5,
          1,
          0
         ],
         "z": [
          -1.018966666666665,
          -1.2037125000000022,
          -3.2661219999999984,
          -2.425844999999997,
          -2.4657666666666627,
          0,
          0,
          0
         ]
        },
        {
         "hoverinfo": "skip",
         "mode": "text",
         "name": "Labels (stable)",
         "opacity": 1,
         "showlegend": true,
         "text": [
          "CaO",
          "CaSO<sub>4</sub>",
          "CaS",
          "SO<sub>3</sub>"
         ],
         "textposition": [
          "middle center",
          "middle center",
          "middle center",
          "middle center"
         ],
         "type": "scatter3d",
         "visible": true,
         "x": [
          0.4230127018922194,
          0.5673502691896256,
          0.01,
          0.639519052838329
         ],
         "y": [
          0.24000000000000005,
          0.5100000000000001,
          0.5100000000000002,
          0.635
         ],
         "z": [
          -2.9395097999999984,
          -2.1391544666666626,
          -2.099232799999997,
          -0.8771003000000024
         ]
        },
        {
         "hoverinfo": "text",
         "hoverlabel": {
          "font": {
           "size": 14
          }
         },
         "hovertext": [
          "SO<sub>2</sub> (None) <br> -1.019 eV/atom (+0.051 eV/atom)"
         ],
         "marker": {
          "color": [
           0.051
          ],
          "colorbar": {
           "len": 0.75,
           "title": {
            "text": "Energy Above Hull<br>(eV/atom)"
           },
           "x": 0.05
          },
          "colorscale": [
           [
            0,
            "#fad393"
           ],
           [
            0.5,
            "#ff813d"
           ],
           [
            1,
            "#ff0000"
           ]
          ],
          "size": 6,
          "symbol": "diamond"
         },
         "mode": "markers",
         "name": "Above Hull",
         "showlegend": true,
         "type": "scatter3d",
         "x": [
          0.5773502691896258
         ],
         "y": [
          0.6666666666666666
         ],
         "z": [
          -1.019
         ]
        },
        {
         "error_z": {
          "array": [
           0,
           0,
           0,
           0,
           0,
           0,
           0
          ],
          "color": "darkgray",
          "thickness": 5,
          "type": "data",
          "width": 10
         },
         "hoverinfo": "text",
         "hoverlabel": {
          "font": {
           "size": 14
          }
         },
         "hovertext": [
          "CaO (None) <br> -3.266 eV/atom",
          "CaSO<sub>4</sub> (None) <br> -2.466 eV/atom",
          "CaS (None) <br> -2.426 eV/atom",
          "Ca (None) <br> 0.0 eV/atom",
          "SO<sub>3</sub> (None) <br> -1.204 eV/atom",
          "O<sub>2</sub> (None) <br> 0.0 eV/atom",
          "S (None) <br> 0.0 eV/atom"
         ],
         "marker": {
          "color": "black",
          "line": {
           "color": "black",
           "width": 3
          },
          "opacity": 0.8,
          "size": 12
         },
         "mode": "markers",
         "name": "Stable",
         "showlegend": true,
         "type": "scatter3d",
         "x": [
          0.4330127018922194,
          0.5773502691896256,
          0,
          0,
          0.649519052838329,
          0.8660254037844386,
          0
         ],
         "y": [
          0.25000000000000006,
          0.5000000000000001,
          0.5000000000000002,
          0,
          0.625,
          0.5,
          1
         ],
         "z": [
          -3.266,
          -2.466,
          -2.426,
          0,
          -1.204,
          0,
          0
         ]
        }
       ],
       "layout": {
        "autosize": true,
        "height": 700,
        "hovermode": "closest",
        "legend": {
         "orientation": "h",
         "traceorder": "reversed",
         "x": 0.5,
         "xanchor": "center",
         "y": 0,
         "yanchor": "top"
        },
        "margin": {
         "b": 10,
         "l": 0,
         "pad": 0,
         "r": 0,
         "t": 0
        },
        "paper_bgcolor": "rgba(0,0,0,0)",
        "plot_bgcolor": "rgba(0,0,0,0)",
        "scene": {
         "annotations": [
          {
           "align": "center",
           "font": {
            "color": "#000000",
            "size": 24
           },
           "opacity": 1,
           "showarrow": false,
           "text": "Ca",
           "x": 0,
           "xanchor": "right",
           "xshift": -10,
           "y": 0,
           "yanchor": "auto",
           "yshift": -10,
           "z": -2.939509799999999
          },
          {
           "align": "center",
           "font": {
            "color": "#000000",
            "size": 24
           },
           "opacity": 1,
           "showarrow": false,
           "text": "O<sub>2</sub>",
           "x": 0.8660254037844386,
           "xanchor": "right",
           "xshift": -10,
           "y": 0.5,
           "yanchor": "auto",
           "yshift": -10,
           "z": -2.939509799999999
          },
          {
           "align": "center",
           "font": {
            "color": "#000000",
            "size": 24
           },
           "opacity": 1,
           "showarrow": false,
           "text": "S",
           "x": 0,
           "xanchor": "right",
           "xshift": -10,
           "y": 1,
           "yanchor": "auto",
           "yshift": -10,
           "z": -2.939509799999999
          },
          {
           "opacity": 0,
           "text": "",
           "x": 1,
           "y": 1,
           "z": 0
          }
         ],
         "aspectratio": {
          "x": 1.7,
          "y": 1.7,
          "z": 1.2
         },
         "camera": {
          "center": {
           "x": -0.1,
           "y": 0,
           "z": -0.15
          },
          "eye": {
           "x": -0.1,
           "y": 0,
           "z": 2.5
          },
          "projection": {
           "type": "orthographic"
          }
         },
         "xaxis": {
          "autorange": true,
          "showaxeslabels": false,
          "showgrid": false,
          "showline": false,
          "showspikes": false,
          "showticklabels": false,
          "ticks": "",
          "visible": false,
          "zeroline": false
         },
         "yaxis": {
          "autorange": true,
          "showaxeslabels": false,
          "showgrid": false,
          "showline": false,
          "showspikes": false,
          "showticklabels": false,
          "ticks": "",
          "visible": false,
          "zeroline": false
         },
         "zaxis": {
          "autorange": true,
          "showaxeslabels": false,
          "showgrid": false,
          "showline": false,
          "showspikes": false,
          "showticklabels": false,
          "ticks": "",
          "visible": false,
          "zeroline": false
         }
        },
        "showlegend": true,
        "template": {
         "data": {
          "bar": [
           {
            "error_x": {
             "color": "#2a3f5f"
            },
            "error_y": {
             "color": "#2a3f5f"
            },
            "marker": {
             "line": {
              "color": "#E5ECF6",
              "width": 0.5
             },
             "pattern": {
              "fillmode": "overlay",
              "size": 10,
              "solidity": 0.2
             }
            },
            "type": "bar"
           }
          ],
          "barpolar": [
           {
            "marker": {
             "line": {
              "color": "#E5ECF6",
              "width": 0.5
             },
             "pattern": {
              "fillmode": "overlay",
              "size": 10,
              "solidity": 0.2
             }
            },
            "type": "barpolar"
           }
          ],
          "carpet": [
           {
            "aaxis": {
             "endlinecolor": "#2a3f5f",
             "gridcolor": "white",
             "linecolor": "white",
             "minorgridcolor": "white",
             "startlinecolor": "#2a3f5f"
            },
            "baxis": {
             "endlinecolor": "#2a3f5f",
             "gridcolor": "white",
             "linecolor": "white",
             "minorgridcolor": "white",
             "startlinecolor": "#2a3f5f"
            },
            "type": "carpet"
           }
          ],
          "choropleth": [
           {
            "colorbar": {
             "outlinewidth": 0,
             "ticks": ""
            },
            "type": "choropleth"
           }
          ],
          "contour": [
           {
            "colorbar": {
             "outlinewidth": 0,
             "ticks": ""
            },
            "colorscale": [
             [
              0,
              "#0d0887"
             ],
             [
              0.1111111111111111,
              "#46039f"
             ],
             [
              0.2222222222222222,
              "#7201a8"
             ],
             [
              0.3333333333333333,
              "#9c179e"
             ],
             [
              0.4444444444444444,
              "#bd3786"
             ],
             [
              0.5555555555555556,
              "#d8576b"
             ],
             [
              0.6666666666666666,
              "#ed7953"
             ],
             [
              0.7777777777777778,
              "#fb9f3a"
             ],
             [
              0.8888888888888888,
              "#fdca26"
             ],
             [
              1,
              "#f0f921"
             ]
            ],
            "type": "contour"
           }
          ],
          "contourcarpet": [
           {
            "colorbar": {
             "outlinewidth": 0,
             "ticks": ""
            },
            "type": "contourcarpet"
           }
          ],
          "heatmap": [
           {
            "colorbar": {
             "outlinewidth": 0,
             "ticks": ""
            },
            "colorscale": [
             [
              0,
              "#0d0887"
             ],
             [
              0.1111111111111111,
              "#46039f"
             ],
             [
              0.2222222222222222,
              "#7201a8"
             ],
             [
              0.3333333333333333,
              "#9c179e"
             ],
             [
              0.4444444444444444,
              "#bd3786"
             ],
             [
              0.5555555555555556,
              "#d8576b"
             ],
             [
              0.6666666666666666,
              "#ed7953"
             ],
             [
              0.7777777777777778,
              "#fb9f3a"
             ],
             [
              0.8888888888888888,
              "#fdca26"
             ],
             [
              1,
              "#f0f921"
             ]
            ],
            "type": "heatmap"
           }
          ],
          "heatmapgl": [
           {
            "colorbar": {
             "outlinewidth": 0,
             "ticks": ""
            },
            "colorscale": [
             [
              0,
              "#0d0887"
             ],
             [
              0.1111111111111111,
              "#46039f"
             ],
             [
              0.2222222222222222,
              "#7201a8"
             ],
             [
              0.3333333333333333,
              "#9c179e"
             ],
             [
              0.4444444444444444,
              "#bd3786"
             ],
             [
              0.5555555555555556,
              "#d8576b"
             ],
             [
              0.6666666666666666,
              "#ed7953"
             ],
             [
              0.7777777777777778,
              "#fb9f3a"
             ],
             [
              0.8888888888888888,
              "#fdca26"
             ],
             [
              1,
              "#f0f921"
             ]
            ],
            "type": "heatmapgl"
           }
          ],
          "histogram": [
           {
            "marker": {
             "pattern": {
              "fillmode": "overlay",
              "size": 10,
              "solidity": 0.2
             }
            },
            "type": "histogram"
           }
          ],
          "histogram2d": [
           {
            "colorbar": {
             "outlinewidth": 0,
             "ticks": ""
            },
            "colorscale": [
             [
              0,
              "#0d0887"
             ],
             [
              0.1111111111111111,
              "#46039f"
             ],
             [
              0.2222222222222222,
              "#7201a8"
             ],
             [
              0.3333333333333333,
              "#9c179e"
             ],
             [
              0.4444444444444444,
              "#bd3786"
             ],
             [
              0.5555555555555556,
              "#d8576b"
             ],
             [
              0.6666666666666666,
              "#ed7953"
             ],
             [
              0.7777777777777778,
              "#fb9f3a"
             ],
             [
              0.8888888888888888,
              "#fdca26"
             ],
             [
              1,
              "#f0f921"
             ]
            ],
            "type": "histogram2d"
           }
          ],
          "histogram2dcontour": [
           {
            "colorbar": {
             "outlinewidth": 0,
             "ticks": ""
            },
            "colorscale": [
             [
              0,
              "#0d0887"
             ],
             [
              0.1111111111111111,
              "#46039f"
             ],
             [
              0.2222222222222222,
              "#7201a8"
             ],
             [
              0.3333333333333333,
              "#9c179e"
             ],
             [
              0.4444444444444444,
              "#bd3786"
             ],
             [
              0.5555555555555556,
              "#d8576b"
             ],
             [
              0.6666666666666666,
              "#ed7953"
             ],
             [
              0.7777777777777778,
              "#fb9f3a"
             ],
             [
              0.8888888888888888,
              "#fdca26"
             ],
             [
              1,
              "#f0f921"
             ]
            ],
            "type": "histogram2dcontour"
           }
          ],
          "mesh3d": [
           {
            "colorbar": {
             "outlinewidth": 0,
             "ticks": ""
            },
            "type": "mesh3d"
           }
          ],
          "parcoords": [
           {
            "line": {
             "colorbar": {
              "outlinewidth": 0,
              "ticks": ""
             }
            },
            "type": "parcoords"
           }
          ],
          "pie": [
           {
            "automargin": true,
            "type": "pie"
           }
          ],
          "scatter": [
           {
            "marker": {
             "colorbar": {
              "outlinewidth": 0,
              "ticks": ""
             }
            },
            "type": "scatter"
           }
          ],
          "scatter3d": [
           {
            "line": {
             "colorbar": {
              "outlinewidth": 0,
              "ticks": ""
             }
            },
            "marker": {
             "colorbar": {
              "outlinewidth": 0,
              "ticks": ""
             }
            },
            "type": "scatter3d"
           }
          ],
          "scattercarpet": [
           {
            "marker": {
             "colorbar": {
              "outlinewidth": 0,
              "ticks": ""
             }
            },
            "type": "scattercarpet"
           }
          ],
          "scattergeo": [
           {
            "marker": {
             "colorbar": {
              "outlinewidth": 0,
              "ticks": ""
             }
            },
            "type": "scattergeo"
           }
          ],
          "scattergl": [
           {
            "marker": {
             "colorbar": {
              "outlinewidth": 0,
              "ticks": ""
             }
            },
            "type": "scattergl"
           }
          ],
          "scattermapbox": [
           {
            "marker": {
             "colorbar": {
              "outlinewidth": 0,
              "ticks": ""
             }
            },
            "type": "scattermapbox"
           }
          ],
          "scatterpolar": [
           {
            "marker": {
             "colorbar": {
              "outlinewidth": 0,
              "ticks": ""
             }
            },
            "type": "scatterpolar"
           }
          ],
          "scatterpolargl": [
           {
            "marker": {
             "colorbar": {
              "outlinewidth": 0,
              "ticks": ""
             }
            },
            "type": "scatterpolargl"
           }
          ],
          "scatterternary": [
           {
            "marker": {
             "colorbar": {
              "outlinewidth": 0,
              "ticks": ""
             }
            },
            "type": "scatterternary"
           }
          ],
          "surface": [
           {
            "colorbar": {
             "outlinewidth": 0,
             "ticks": ""
            },
            "colorscale": [
             [
              0,
              "#0d0887"
             ],
             [
              0.1111111111111111,
              "#46039f"
             ],
             [
              0.2222222222222222,
              "#7201a8"
             ],
             [
              0.3333333333333333,
              "#9c179e"
             ],
             [
              0.4444444444444444,
              "#bd3786"
             ],
             [
              0.5555555555555556,
              "#d8576b"
             ],
             [
              0.6666666666666666,
              "#ed7953"
             ],
             [
              0.7777777777777778,
              "#fb9f3a"
             ],
             [
              0.8888888888888888,
              "#fdca26"
             ],
             [
              1,
              "#f0f921"
             ]
            ],
            "type": "surface"
           }
          ],
          "table": [
           {
            "cells": {
             "fill": {
              "color": "#EBF0F8"
             },
             "line": {
              "color": "white"
             }
            },
            "header": {
             "fill": {
              "color": "#C8D4E3"
             },
             "line": {
              "color": "white"
             }
            },
            "type": "table"
           }
          ]
         },
         "layout": {
          "annotationdefaults": {
           "arrowcolor": "#2a3f5f",
           "arrowhead": 0,
           "arrowwidth": 1
          },
          "autotypenumbers": "strict",
          "coloraxis": {
           "colorbar": {
            "outlinewidth": 0,
            "ticks": ""
           }
          },
          "colorscale": {
           "diverging": [
            [
             0,
             "#8e0152"
            ],
            [
             0.1,
             "#c51b7d"
            ],
            [
             0.2,
             "#de77ae"
            ],
            [
             0.3,
             "#f1b6da"
            ],
            [
             0.4,
             "#fde0ef"
            ],
            [
             0.5,
             "#f7f7f7"
            ],
            [
             0.6,
             "#e6f5d0"
            ],
            [
             0.7,
             "#b8e186"
            ],
            [
             0.8,
             "#7fbc41"
            ],
            [
             0.9,
             "#4d9221"
            ],
            [
             1,
             "#276419"
            ]
           ],
           "sequential": [
            [
             0,
             "#0d0887"
            ],
            [
             0.1111111111111111,
             "#46039f"
            ],
            [
             0.2222222222222222,
             "#7201a8"
            ],
            [
             0.3333333333333333,
             "#9c179e"
            ],
            [
             0.4444444444444444,
             "#bd3786"
            ],
            [
             0.5555555555555556,
             "#d8576b"
            ],
            [
             0.6666666666666666,
             "#ed7953"
            ],
            [
             0.7777777777777778,
             "#fb9f3a"
            ],
            [
             0.8888888888888888,
             "#fdca26"
            ],
            [
             1,
             "#f0f921"
            ]
           ],
           "sequentialminus": [
            [
             0,
             "#0d0887"
            ],
            [
             0.1111111111111111,
             "#46039f"
            ],
            [
             0.2222222222222222,
             "#7201a8"
            ],
            [
             0.3333333333333333,
             "#9c179e"
            ],
            [
             0.4444444444444444,
             "#bd3786"
            ],
            [
             0.5555555555555556,
             "#d8576b"
            ],
            [
             0.6666666666666666,
             "#ed7953"
            ],
            [
             0.7777777777777778,
             "#fb9f3a"
            ],
            [
             0.8888888888888888,
             "#fdca26"
            ],
            [
             1,
             "#f0f921"
            ]
           ]
          },
          "colorway": [
           "#636efa",
           "#EF553B",
           "#00cc96",
           "#ab63fa",
           "#FFA15A",
           "#19d3f3",
           "#FF6692",
           "#B6E880",
           "#FF97FF",
           "#FECB52"
          ],
          "font": {
           "color": "#2a3f5f"
          },
          "geo": {
           "bgcolor": "white",
           "lakecolor": "white",
           "landcolor": "#E5ECF6",
           "showlakes": true,
           "showland": true,
           "subunitcolor": "white"
          },
          "hoverlabel": {
           "align": "left"
          },
          "hovermode": "closest",
          "mapbox": {
           "style": "light"
          },
          "paper_bgcolor": "white",
          "plot_bgcolor": "#E5ECF6",
          "polar": {
           "angularaxis": {
            "gridcolor": "white",
            "linecolor": "white",
            "ticks": ""
           },
           "bgcolor": "#E5ECF6",
           "radialaxis": {
            "gridcolor": "white",
            "linecolor": "white",
            "ticks": ""
           }
          },
          "scene": {
           "xaxis": {
            "backgroundcolor": "#E5ECF6",
            "gridcolor": "white",
            "gridwidth": 2,
            "linecolor": "white",
            "showbackground": true,
            "ticks": "",
            "zerolinecolor": "white"
           },
           "yaxis": {
            "backgroundcolor": "#E5ECF6",
            "gridcolor": "white",
            "gridwidth": 2,
            "linecolor": "white",
            "showbackground": true,
            "ticks": "",
            "zerolinecolor": "white"
           },
           "zaxis": {
            "backgroundcolor": "#E5ECF6",
            "gridcolor": "white",
            "gridwidth": 2,
            "linecolor": "white",
            "showbackground": true,
            "ticks": "",
            "zerolinecolor": "white"
           }
          },
          "shapedefaults": {
           "line": {
            "color": "#2a3f5f"
           }
          },
          "ternary": {
           "aaxis": {
            "gridcolor": "white",
            "linecolor": "white",
            "ticks": ""
           },
           "baxis": {
            "gridcolor": "white",
            "linecolor": "white",
            "ticks": ""
           },
           "bgcolor": "#E5ECF6",
           "caxis": {
            "gridcolor": "white",
            "linecolor": "white",
            "ticks": ""
           }
          },
          "title": {
           "x": 0.05
          },
          "xaxis": {
           "automargin": true,
           "gridcolor": "white",
           "linecolor": "white",
           "ticks": "",
           "title": {
            "standoff": 15
           },
           "zerolinecolor": "white",
           "zerolinewidth": 2
          },
          "yaxis": {
           "automargin": true,
           "gridcolor": "white",
           "linecolor": "white",
           "ticks": "",
           "title": {
            "standoff": 15
           },
           "zerolinecolor": "white",
           "zerolinewidth": 2
          }
         }
        }
       }
      },
      "text/html": [
       "<div>                            <div id=\"a1bc9288-4e94-48ae-9133-f5f46340f1ac\" class=\"plotly-graph-div\" style=\"height:700px; width:100%;\"></div>            <script type=\"text/javascript\">                require([\"plotly\"], function(Plotly) {                    window.PLOTLYENV=window.PLOTLYENV || {};                                    if (document.getElementById(\"a1bc9288-4e94-48ae-9133-f5f46340f1ac\")) {                    Plotly.newPlot(                        \"a1bc9288-4e94-48ae-9133-f5f46340f1ac\",                        [{\"hoverinfo\":\"none\",\"line\":{\"color\":\"rgba(0,0,0,1.0)\",\"width\":7.0},\"mode\":\"lines\",\"showlegend\":false,\"x\":[0.4330127018922194,0.5773502691896256,null,0.0,0.5773502691896256,null,0.4330127018922194,0.0,null,0.649519052838329,0.8660254037844386,null,0.0,0.0,null,0.5773502691896256,0.0,null,0.649519052838329,0.5773502691896256,null,0.4330127018922194,0.0,null,0.5773502691896256,0.8660254037844386,null,0.0,0.0,null,0.649519052838329,0.0,null,0.4330127018922194,0.8660254037844386,null],\"y\":[0.25000000000000006,0.5000000000000001,null,0.5000000000000002,0.5000000000000001,null,0.25000000000000006,0.0,null,0.625,0.5,null,0.5000000000000002,0.0,null,0.5000000000000001,1.0,null,0.625,0.5000000000000001,null,0.25000000000000006,0.5000000000000002,null,0.5000000000000001,0.5,null,0.5000000000000002,1.0,null,0.625,1.0,null,0.25000000000000006,0.5,null],\"z\":[-3.2661219999999984,-2.4657666666666627,null,-2.425844999999997,-2.4657666666666627,null,-3.2661219999999984,0.0,null,-1.2037125000000022,0.0,null,-2.425844999999997,0.0,null,-2.4657666666666627,0.0,null,-1.2037125000000022,-2.4657666666666627,null,-3.2661219999999984,-2.425844999999997,null,-2.4657666666666627,0.0,null,-2.425844999999997,0.0,null,-1.2037125000000022,0.0,null,-3.2661219999999984,0.0,null],\"type\":\"scatter3d\"},{\"hoverinfo\":\"none\",\"line\":{\"color\":\"rgba (0, 0, 0, 0.4)\",\"dash\":\"solid\",\"width\":1.0},\"mode\":\"lines\",\"showlegend\":false,\"x\":[0.8660254037844386,0.0,null,0.8660254037844386,0.0,null,0.8660254037844386,0.0,null,0.8660254037844386,0.0,null,0.0,0.0,null,0.0,0.0,null,0.8660254037844386,0.8660254037844386,null,0.0,0.0,null,0.0,0.0,null],\"y\":[0.5,1.0,null,0.5,1.0,null,0.5,0.0,null,0.5,0.0,null,1.0,0.0,null,1.0,0.0,null,0.5,0.5,null,1.0,1.0,null,0.0,0.0,null],\"z\":[0,0,null,-3.2661219999999984,-3.2661219999999984,null,0,0,null,-3.2661219999999984,-3.2661219999999984,null,0,0,null,-3.2661219999999984,-3.2661219999999984,null,0,-3.2661219999999984,null,0,-3.2661219999999984,null,0,-3.2661219999999984,null],\"type\":\"scatter3d\"},{\"colorbar\":{\"len\":0.75,\"title\":{\"text\":\"Formation energy<br>(eV/atom)\"},\"x\":0.9},\"colorscale\":[[0.0,\"#0c8c00\"],[0.5,\"#d8ffd4\"],[1.0,\"#ffffff\"]],\"flatshading\":true,\"hoverinfo\":\"none\",\"i\":[5,7,4,4,4,4],\"intensity\":[-1.018966666666665,-1.2037125000000022,-3.2661219999999984,-2.425844999999997,-2.4657666666666627,0.0,0.0,0.0],\"j\":[4,3,3,3,1,1],\"k\":[2,2,2,6,6,5],\"lighting\":{\"ambient\":1.0,\"diffuse\":0.0},\"name\":\"Convex Hull (shading)\",\"opacity\":0.8,\"showlegend\":true,\"x\":[0.5773502691896258,0.649519052838329,0.4330127018922194,0.0,0.5773502691896256,0.8660254037844386,0.0,0.0],\"y\":[0.6666666666666666,0.625,0.25000000000000006,0.5000000000000002,0.5000000000000001,0.5,1.0,0.0],\"z\":[-1.018966666666665,-1.2037125000000022,-3.2661219999999984,-2.425844999999997,-2.4657666666666627,0.0,0.0,0.0],\"type\":\"mesh3d\"},{\"hoverinfo\":\"skip\",\"mode\":\"text\",\"name\":\"Labels (stable)\",\"opacity\":1.0,\"showlegend\":true,\"text\":[\"CaO\",\"CaSO<sub>4</sub>\",\"CaS\",\"SO<sub>3</sub>\"],\"textposition\":[\"middle center\",\"middle center\",\"middle center\",\"middle center\"],\"visible\":true,\"x\":[0.4230127018922194,0.5673502691896256,0.01,0.639519052838329],\"y\":[0.24000000000000005,0.5100000000000001,0.5100000000000002,0.635],\"z\":[-2.9395097999999984,-2.1391544666666626,-2.099232799999997,-0.8771003000000024],\"type\":\"scatter3d\"},{\"hoverinfo\":\"text\",\"hoverlabel\":{\"font\":{\"size\":14}},\"hovertext\":[\"SO<sub>2</sub> (None) <br> -1.019 eV/atom (+0.051 eV/atom)\"],\"marker\":{\"color\":[0.051],\"colorbar\":{\"len\":0.75,\"title\":{\"text\":\"Energy Above Hull<br>(eV/atom)\"},\"x\":0.05},\"colorscale\":[[0.0,\"#fad393\"],[0.5,\"#ff813d\"],[1.0,\"#ff0000\"]],\"size\":6,\"symbol\":\"diamond\"},\"mode\":\"markers\",\"name\":\"Above Hull\",\"showlegend\":true,\"x\":[0.5773502691896258],\"y\":[0.6666666666666666],\"z\":[-1.019],\"type\":\"scatter3d\"},{\"error_z\":{\"array\":[0,0,0,0,0,0,0],\"color\":\"darkgray\",\"thickness\":5,\"type\":\"data\",\"width\":10},\"hoverinfo\":\"text\",\"hoverlabel\":{\"font\":{\"size\":14}},\"hovertext\":[\"CaO (None) <br> -3.266 eV/atom\",\"CaSO<sub>4</sub> (None) <br> -2.466 eV/atom\",\"CaS (None) <br> -2.426 eV/atom\",\"Ca (None) <br> 0.0 eV/atom\",\"SO<sub>3</sub> (None) <br> -1.204 eV/atom\",\"O<sub>2</sub> (None) <br> 0.0 eV/atom\",\"S (None) <br> 0.0 eV/atom\"],\"marker\":{\"color\":\"black\",\"line\":{\"color\":\"black\",\"width\":3},\"opacity\":0.8,\"size\":12},\"mode\":\"markers\",\"name\":\"Stable\",\"showlegend\":true,\"x\":[0.4330127018922194,0.5773502691896256,0.0,0.0,0.649519052838329,0.8660254037844386,0.0],\"y\":[0.25000000000000006,0.5000000000000001,0.5000000000000002,0.0,0.625,0.5,1.0],\"z\":[-3.266,-2.466,-2.426,0.0,-1.204,0.0,0.0],\"type\":\"scatter3d\"}],                        {\"autosize\":true,\"height\":700,\"hovermode\":\"closest\",\"legend\":{\"orientation\":\"h\",\"traceorder\":\"reversed\",\"x\":0.5,\"xanchor\":\"center\",\"y\":0.0,\"yanchor\":\"top\"},\"margin\":{\"b\":10,\"l\":0,\"pad\":0,\"r\":0,\"t\":0},\"paper_bgcolor\":\"rgba(0,0,0,0)\",\"plot_bgcolor\":\"rgba(0,0,0,0)\",\"scene\":{\"annotations\":[{\"align\":\"center\",\"font\":{\"color\":\"#000000\",\"size\":24.0},\"opacity\":1.0,\"showarrow\":false,\"text\":\"Ca\",\"x\":0.0,\"xanchor\":\"right\",\"xshift\":-10,\"y\":0.0,\"yanchor\":\"auto\",\"yshift\":-10,\"z\":-2.939509799999999},{\"align\":\"center\",\"font\":{\"color\":\"#000000\",\"size\":24.0},\"opacity\":1.0,\"showarrow\":false,\"text\":\"O<sub>2</sub>\",\"x\":0.8660254037844386,\"xanchor\":\"right\",\"xshift\":-10,\"y\":0.5,\"yanchor\":\"auto\",\"yshift\":-10,\"z\":-2.939509799999999},{\"align\":\"center\",\"font\":{\"color\":\"#000000\",\"size\":24.0},\"opacity\":1.0,\"showarrow\":false,\"text\":\"S\",\"x\":0.0,\"xanchor\":\"right\",\"xshift\":-10,\"y\":1.0,\"yanchor\":\"auto\",\"yshift\":-10,\"z\":-2.939509799999999},{\"opacity\":0,\"text\":\"\",\"x\":1,\"y\":1,\"z\":0}],\"xaxis\":{\"autorange\":true,\"showaxeslabels\":false,\"showgrid\":false,\"showline\":false,\"showspikes\":false,\"showticklabels\":false,\"ticks\":\"\",\"visible\":false,\"zeroline\":false},\"yaxis\":{\"autorange\":true,\"showaxeslabels\":false,\"showgrid\":false,\"showline\":false,\"showspikes\":false,\"showticklabels\":false,\"ticks\":\"\",\"visible\":false,\"zeroline\":false},\"zaxis\":{\"autorange\":true,\"showaxeslabels\":false,\"showgrid\":false,\"showline\":false,\"showspikes\":false,\"showticklabels\":false,\"ticks\":\"\",\"visible\":false,\"zeroline\":false},\"camera\":{\"center\":{\"x\":-0.1,\"y\":0,\"z\":-0.15},\"eye\":{\"x\":-0.1,\"y\":0,\"z\":2.5},\"projection\":{\"type\":\"orthographic\"}},\"aspectratio\":{\"x\":1.7,\"y\":1.7,\"z\":1.2}},\"showlegend\":true,\"template\":{\"data\":{\"bar\":[{\"error_x\":{\"color\":\"#2a3f5f\"},\"error_y\":{\"color\":\"#2a3f5f\"},\"marker\":{\"line\":{\"color\":\"#E5ECF6\",\"width\":0.5},\"pattern\":{\"fillmode\":\"overlay\",\"size\":10,\"solidity\":0.2}},\"type\":\"bar\"}],\"barpolar\":[{\"marker\":{\"line\":{\"color\":\"#E5ECF6\",\"width\":0.5},\"pattern\":{\"fillmode\":\"overlay\",\"size\":10,\"solidity\":0.2}},\"type\":\"barpolar\"}],\"carpet\":[{\"aaxis\":{\"endlinecolor\":\"#2a3f5f\",\"gridcolor\":\"white\",\"linecolor\":\"white\",\"minorgridcolor\":\"white\",\"startlinecolor\":\"#2a3f5f\"},\"baxis\":{\"endlinecolor\":\"#2a3f5f\",\"gridcolor\":\"white\",\"linecolor\":\"white\",\"minorgridcolor\":\"white\",\"startlinecolor\":\"#2a3f5f\"},\"type\":\"carpet\"}],\"choropleth\":[{\"colorbar\":{\"outlinewidth\":0,\"ticks\":\"\"},\"type\":\"choropleth\"}],\"contour\":[{\"colorbar\":{\"outlinewidth\":0,\"ticks\":\"\"},\"colorscale\":[[0.0,\"#0d0887\"],[0.1111111111111111,\"#46039f\"],[0.2222222222222222,\"#7201a8\"],[0.3333333333333333,\"#9c179e\"],[0.4444444444444444,\"#bd3786\"],[0.5555555555555556,\"#d8576b\"],[0.6666666666666666,\"#ed7953\"],[0.7777777777777778,\"#fb9f3a\"],[0.8888888888888888,\"#fdca26\"],[1.0,\"#f0f921\"]],\"type\":\"contour\"}],\"contourcarpet\":[{\"colorbar\":{\"outlinewidth\":0,\"ticks\":\"\"},\"type\":\"contourcarpet\"}],\"heatmap\":[{\"colorbar\":{\"outlinewidth\":0,\"ticks\":\"\"},\"colorscale\":[[0.0,\"#0d0887\"],[0.1111111111111111,\"#46039f\"],[0.2222222222222222,\"#7201a8\"],[0.3333333333333333,\"#9c179e\"],[0.4444444444444444,\"#bd3786\"],[0.5555555555555556,\"#d8576b\"],[0.6666666666666666,\"#ed7953\"],[0.7777777777777778,\"#fb9f3a\"],[0.8888888888888888,\"#fdca26\"],[1.0,\"#f0f921\"]],\"type\":\"heatmap\"}],\"heatmapgl\":[{\"colorbar\":{\"outlinewidth\":0,\"ticks\":\"\"},\"colorscale\":[[0.0,\"#0d0887\"],[0.1111111111111111,\"#46039f\"],[0.2222222222222222,\"#7201a8\"],[0.3333333333333333,\"#9c179e\"],[0.4444444444444444,\"#bd3786\"],[0.5555555555555556,\"#d8576b\"],[0.6666666666666666,\"#ed7953\"],[0.7777777777777778,\"#fb9f3a\"],[0.8888888888888888,\"#fdca26\"],[1.0,\"#f0f921\"]],\"type\":\"heatmapgl\"}],\"histogram\":[{\"marker\":{\"pattern\":{\"fillmode\":\"overlay\",\"size\":10,\"solidity\":0.2}},\"type\":\"histogram\"}],\"histogram2d\":[{\"colorbar\":{\"outlinewidth\":0,\"ticks\":\"\"},\"colorscale\":[[0.0,\"#0d0887\"],[0.1111111111111111,\"#46039f\"],[0.2222222222222222,\"#7201a8\"],[0.3333333333333333,\"#9c179e\"],[0.4444444444444444,\"#bd3786\"],[0.5555555555555556,\"#d8576b\"],[0.6666666666666666,\"#ed7953\"],[0.7777777777777778,\"#fb9f3a\"],[0.8888888888888888,\"#fdca26\"],[1.0,\"#f0f921\"]],\"type\":\"histogram2d\"}],\"histogram2dcontour\":[{\"colorbar\":{\"outlinewidth\":0,\"ticks\":\"\"},\"colorscale\":[[0.0,\"#0d0887\"],[0.1111111111111111,\"#46039f\"],[0.2222222222222222,\"#7201a8\"],[0.3333333333333333,\"#9c179e\"],[0.4444444444444444,\"#bd3786\"],[0.5555555555555556,\"#d8576b\"],[0.6666666666666666,\"#ed7953\"],[0.7777777777777778,\"#fb9f3a\"],[0.8888888888888888,\"#fdca26\"],[1.0,\"#f0f921\"]],\"type\":\"histogram2dcontour\"}],\"mesh3d\":[{\"colorbar\":{\"outlinewidth\":0,\"ticks\":\"\"},\"type\":\"mesh3d\"}],\"parcoords\":[{\"line\":{\"colorbar\":{\"outlinewidth\":0,\"ticks\":\"\"}},\"type\":\"parcoords\"}],\"pie\":[{\"automargin\":true,\"type\":\"pie\"}],\"scatter\":[{\"marker\":{\"colorbar\":{\"outlinewidth\":0,\"ticks\":\"\"}},\"type\":\"scatter\"}],\"scatter3d\":[{\"line\":{\"colorbar\":{\"outlinewidth\":0,\"ticks\":\"\"}},\"marker\":{\"colorbar\":{\"outlinewidth\":0,\"ticks\":\"\"}},\"type\":\"scatter3d\"}],\"scattercarpet\":[{\"marker\":{\"colorbar\":{\"outlinewidth\":0,\"ticks\":\"\"}},\"type\":\"scattercarpet\"}],\"scattergeo\":[{\"marker\":{\"colorbar\":{\"outlinewidth\":0,\"ticks\":\"\"}},\"type\":\"scattergeo\"}],\"scattergl\":[{\"marker\":{\"colorbar\":{\"outlinewidth\":0,\"ticks\":\"\"}},\"type\":\"scattergl\"}],\"scattermapbox\":[{\"marker\":{\"colorbar\":{\"outlinewidth\":0,\"ticks\":\"\"}},\"type\":\"scattermapbox\"}],\"scatterpolar\":[{\"marker\":{\"colorbar\":{\"outlinewidth\":0,\"ticks\":\"\"}},\"type\":\"scatterpolar\"}],\"scatterpolargl\":[{\"marker\":{\"colorbar\":{\"outlinewidth\":0,\"ticks\":\"\"}},\"type\":\"scatterpolargl\"}],\"scatterternary\":[{\"marker\":{\"colorbar\":{\"outlinewidth\":0,\"ticks\":\"\"}},\"type\":\"scatterternary\"}],\"surface\":[{\"colorbar\":{\"outlinewidth\":0,\"ticks\":\"\"},\"colorscale\":[[0.0,\"#0d0887\"],[0.1111111111111111,\"#46039f\"],[0.2222222222222222,\"#7201a8\"],[0.3333333333333333,\"#9c179e\"],[0.4444444444444444,\"#bd3786\"],[0.5555555555555556,\"#d8576b\"],[0.6666666666666666,\"#ed7953\"],[0.7777777777777778,\"#fb9f3a\"],[0.8888888888888888,\"#fdca26\"],[1.0,\"#f0f921\"]],\"type\":\"surface\"}],\"table\":[{\"cells\":{\"fill\":{\"color\":\"#EBF0F8\"},\"line\":{\"color\":\"white\"}},\"header\":{\"fill\":{\"color\":\"#C8D4E3\"},\"line\":{\"color\":\"white\"}},\"type\":\"table\"}]},\"layout\":{\"annotationdefaults\":{\"arrowcolor\":\"#2a3f5f\",\"arrowhead\":0,\"arrowwidth\":1},\"autotypenumbers\":\"strict\",\"coloraxis\":{\"colorbar\":{\"outlinewidth\":0,\"ticks\":\"\"}},\"colorscale\":{\"diverging\":[[0,\"#8e0152\"],[0.1,\"#c51b7d\"],[0.2,\"#de77ae\"],[0.3,\"#f1b6da\"],[0.4,\"#fde0ef\"],[0.5,\"#f7f7f7\"],[0.6,\"#e6f5d0\"],[0.7,\"#b8e186\"],[0.8,\"#7fbc41\"],[0.9,\"#4d9221\"],[1,\"#276419\"]],\"sequential\":[[0.0,\"#0d0887\"],[0.1111111111111111,\"#46039f\"],[0.2222222222222222,\"#7201a8\"],[0.3333333333333333,\"#9c179e\"],[0.4444444444444444,\"#bd3786\"],[0.5555555555555556,\"#d8576b\"],[0.6666666666666666,\"#ed7953\"],[0.7777777777777778,\"#fb9f3a\"],[0.8888888888888888,\"#fdca26\"],[1.0,\"#f0f921\"]],\"sequentialminus\":[[0.0,\"#0d0887\"],[0.1111111111111111,\"#46039f\"],[0.2222222222222222,\"#7201a8\"],[0.3333333333333333,\"#9c179e\"],[0.4444444444444444,\"#bd3786\"],[0.5555555555555556,\"#d8576b\"],[0.6666666666666666,\"#ed7953\"],[0.7777777777777778,\"#fb9f3a\"],[0.8888888888888888,\"#fdca26\"],[1.0,\"#f0f921\"]]},\"colorway\":[\"#636efa\",\"#EF553B\",\"#00cc96\",\"#ab63fa\",\"#FFA15A\",\"#19d3f3\",\"#FF6692\",\"#B6E880\",\"#FF97FF\",\"#FECB52\"],\"font\":{\"color\":\"#2a3f5f\"},\"geo\":{\"bgcolor\":\"white\",\"lakecolor\":\"white\",\"landcolor\":\"#E5ECF6\",\"showlakes\":true,\"showland\":true,\"subunitcolor\":\"white\"},\"hoverlabel\":{\"align\":\"left\"},\"hovermode\":\"closest\",\"mapbox\":{\"style\":\"light\"},\"paper_bgcolor\":\"white\",\"plot_bgcolor\":\"#E5ECF6\",\"polar\":{\"angularaxis\":{\"gridcolor\":\"white\",\"linecolor\":\"white\",\"ticks\":\"\"},\"bgcolor\":\"#E5ECF6\",\"radialaxis\":{\"gridcolor\":\"white\",\"linecolor\":\"white\",\"ticks\":\"\"}},\"scene\":{\"xaxis\":{\"backgroundcolor\":\"#E5ECF6\",\"gridcolor\":\"white\",\"gridwidth\":2,\"linecolor\":\"white\",\"showbackground\":true,\"ticks\":\"\",\"zerolinecolor\":\"white\"},\"yaxis\":{\"backgroundcolor\":\"#E5ECF6\",\"gridcolor\":\"white\",\"gridwidth\":2,\"linecolor\":\"white\",\"showbackground\":true,\"ticks\":\"\",\"zerolinecolor\":\"white\"},\"zaxis\":{\"backgroundcolor\":\"#E5ECF6\",\"gridcolor\":\"white\",\"gridwidth\":2,\"linecolor\":\"white\",\"showbackground\":true,\"ticks\":\"\",\"zerolinecolor\":\"white\"}},\"shapedefaults\":{\"line\":{\"color\":\"#2a3f5f\"}},\"ternary\":{\"aaxis\":{\"gridcolor\":\"white\",\"linecolor\":\"white\",\"ticks\":\"\"},\"baxis\":{\"gridcolor\":\"white\",\"linecolor\":\"white\",\"ticks\":\"\"},\"bgcolor\":\"#E5ECF6\",\"caxis\":{\"gridcolor\":\"white\",\"linecolor\":\"white\",\"ticks\":\"\"}},\"title\":{\"x\":0.05},\"xaxis\":{\"automargin\":true,\"gridcolor\":\"white\",\"linecolor\":\"white\",\"ticks\":\"\",\"title\":{\"standoff\":15},\"zerolinecolor\":\"white\",\"zerolinewidth\":2},\"yaxis\":{\"automargin\":true,\"gridcolor\":\"white\",\"linecolor\":\"white\",\"ticks\":\"\",\"title\":{\"standoff\":15},\"zerolinecolor\":\"white\",\"zerolinewidth\":2}}}},                        {\"responsive\": true}                    ).then(function(){\n",
       "                            \n",
       "var gd = document.getElementById('a1bc9288-4e94-48ae-9133-f5f46340f1ac');\n",
       "var x = new MutationObserver(function (mutations, observer) {{\n",
       "        var display = window.getComputedStyle(gd).display;\n",
       "        if (!display || display === 'none') {{\n",
       "            console.log([gd, 'removed!']);\n",
       "            Plotly.purge(gd);\n",
       "            observer.disconnect();\n",
       "        }}\n",
       "}});\n",
       "\n",
       "// Listen for the removal of the full notebook cells\n",
       "var notebookContainer = gd.closest('#notebook-container');\n",
       "if (notebookContainer) {{\n",
       "    x.observe(notebookContainer, {childList: true});\n",
       "}}\n",
       "\n",
       "// Listen for the clearing of the current output cell\n",
       "var outputEl = gd.closest('.output');\n",
       "if (outputEl) {{\n",
       "    x.observe(outputEl, {childList: true});\n",
       "}}\n",
       "\n",
       "                        })                };                });            </script>        </div>"
      ]
     },
     "metadata": {},
     "output_type": "display_data"
    }
   ],
   "source": [
    "phase_diagram_3 = CompoundPhaseDiagram(entries,[Composition(\"Ca\"),\n",
    "                                                Composition(\"S\"),\n",
    "                                                Composition(\"O2\")])\n",
    "#CompoundPhaseDiagram:-Generates phase diagrams from compounds as terminations instead of elements\n",
    "\n",
    "\n",
    "#get_plot and show:- Draw the phase diagram using Plotly (or Matplotlib) and show it.\n",
    "\n",
    "compound_plotter_3 = PDPlotter(phase_diagram_3, show_unstable=True, markerize=20)\n",
    "z = compound_plotter_3.get_plot(phase_diagram_3, label_unstable=True)\n",
    "z.show()"
   ]
  },
  {
   "cell_type": "code",
   "execution_count": 11,
   "id": "fa6352e9",
   "metadata": {},
   "outputs": [
    {
     "data": {
      "application/vnd.plotly.v1+json": {
       "config": {
        "plotlyServerURL": "https://plot.ly"
       },
       "data": [
        {
         "hoverinfo": "none",
         "line": {
          "color": "rgba(0,0,0,1.0)",
          "width": 7
         },
         "mode": "lines",
         "showlegend": false,
         "type": "scatter3d",
         "x": [
          0,
          0,
          null,
          0.649519052838329,
          0,
          null,
          0,
          0,
          null,
          0.5773502691896256,
          0.8660254037844386,
          null,
          0.649519052838329,
          0.5773502691896256,
          null,
          0.649519052838329,
          0.8660254037844386,
          null,
          0.5773502691896256,
          0.49487165930539356,
          null,
          0.49487165930539356,
          0,
          null,
          0,
          0,
          null,
          0.49487165930539356,
          0,
          null,
          0.5773502691896256,
          0,
          null,
          0.5773502691896256,
          0,
          null,
          0.5773502691896256,
          0,
          null,
          0,
          0,
          null,
          0.5773502691896256,
          0,
          null,
          0.49487165930539356,
          0.8660254037844386,
          null
         ],
         "y": [
          0.6666666666666669,
          1,
          null,
          0.625,
          1,
          null,
          0.5714285714285714,
          0.47058823529411764,
          null,
          0.5000000000000001,
          0.5,
          null,
          0.625,
          0.5000000000000001,
          null,
          0.625,
          0.5,
          null,
          0.5000000000000001,
          0.28571428571428575,
          null,
          0.28571428571428575,
          0.47058823529411764,
          null,
          0.47058823529411764,
          0,
          null,
          0.28571428571428575,
          0,
          null,
          0.5000000000000001,
          0.47058823529411764,
          null,
          0.5000000000000001,
          0.6666666666666669,
          null,
          0.5000000000000001,
          0.5714285714285714,
          null,
          0.6666666666666669,
          0.5714285714285714,
          null,
          0.5000000000000001,
          1,
          null,
          0.28571428571428575,
          0.5,
          null
         ],
         "z": [
          -0.5516666666666671,
          0,
          null,
          -1.2037125000000022,
          0,
          null,
          -0.6431428571428587,
          -0.6931764705882402,
          null,
          -1.74263333333333,
          0,
          null,
          -1.2037125000000022,
          -1.74263333333333,
          null,
          -1.2037125000000022,
          0,
          null,
          -1.74263333333333,
          -1.5686857142857147,
          null,
          -1.5686857142857147,
          -0.6931764705882402,
          null,
          -0.6931764705882402,
          0,
          null,
          -1.5686857142857147,
          0,
          null,
          -1.74263333333333,
          -0.6931764705882402,
          null,
          -1.74263333333333,
          -0.5516666666666671,
          null,
          -1.74263333333333,
          -0.6431428571428587,
          null,
          -0.5516666666666671,
          -0.6431428571428587,
          null,
          -1.74263333333333,
          0,
          null,
          -1.5686857142857147,
          0,
          null
         ]
        },
        {
         "hoverinfo": "none",
         "line": {
          "color": "rgba (0, 0, 0, 0.4)",
          "dash": "solid",
          "width": 1
         },
         "mode": "lines",
         "showlegend": false,
         "type": "scatter3d",
         "x": [
          0.8660254037844386,
          0,
          null,
          0.8660254037844386,
          0,
          null,
          0.8660254037844386,
          0,
          null,
          0.8660254037844386,
          0,
          null,
          0,
          0,
          null,
          0,
          0,
          null,
          0.8660254037844386,
          0.8660254037844386,
          null,
          0,
          0,
          null,
          0,
          0,
          null
         ],
         "y": [
          0.5,
          1,
          null,
          0.5,
          1,
          null,
          0.5,
          0,
          null,
          0.5,
          0,
          null,
          1,
          0,
          null,
          1,
          0,
          null,
          0.5,
          0.5,
          null,
          1,
          1,
          null,
          0,
          0,
          null
         ],
         "z": [
          0,
          0,
          null,
          -1.74263333333333,
          -1.74263333333333,
          null,
          0,
          0,
          null,
          -1.74263333333333,
          -1.74263333333333,
          null,
          0,
          0,
          null,
          -1.74263333333333,
          -1.74263333333333,
          null,
          0,
          -1.74263333333333,
          null,
          0,
          -1.74263333333333,
          null,
          0,
          -1.74263333333333,
          null
         ]
        },
        {
         "colorbar": {
          "len": 0.75,
          "title": {
           "text": "Formation energy<br>(eV/atom)"
          },
          "x": 0.9
         },
         "colorscale": [
          [
           0,
           "#0c8c00"
          ],
          [
           0.5,
           "#d8ffd4"
          ],
          [
           1,
           "#ffffff"
          ]
         ],
         "flatshading": true,
         "hoverinfo": "none",
         "i": [
          5,
          5,
          5,
          10,
          5,
          5,
          5,
          6
         ],
         "intensity": [
          -1.018966666666665,
          -1.2037125000000022,
          -1.3474749999999993,
          -0.8433000000000019,
          -0.6039999999999992,
          -1.74263333333333,
          -0.5516666666666671,
          -1.4496117647058833,
          -1.5686857142857147,
          -0.6431428571428587,
          -0.6931764705882402,
          0,
          0,
          0
         ],
         "j": [
          1,
          1,
          8,
          8,
          8,
          6,
          9,
          9
         ],
         "k": [
          12,
          11,
          10,
          13,
          11,
          12,
          10,
          5
         ],
         "lighting": {
          "ambient": 1,
          "diffuse": 0
         },
         "name": "Convex Hull (shading)",
         "opacity": 0.8,
         "showlegend": true,
         "type": "mesh3d",
         "x": [
          0.5773502691896258,
          0.649519052838329,
          0.4330127018922194,
          0.5773502691896258,
          0,
          0.5773502691896256,
          0,
          0.611312049730192,
          0.49487165930539356,
          0,
          0,
          0.8660254037844386,
          0,
          0
         ],
         "y": [
          0.6666666666666666,
          0.625,
          0.25000000000000006,
          0.33333333333333337,
          0.5000000000000002,
          0.5000000000000001,
          0.6666666666666669,
          0.5294117647058822,
          0.28571428571428575,
          0.5714285714285714,
          0.47058823529411764,
          0.5,
          1,
          0
         ],
         "z": [
          -1.018966666666665,
          -1.2037125000000022,
          -1.3474749999999993,
          -0.8433000000000019,
          -0.6039999999999992,
          -1.74263333333333,
          -0.5516666666666671,
          -1.4496117647058833,
          -1.5686857142857147,
          -0.6431428571428587,
          -0.6931764705882402,
          0,
          0,
          0
         ]
        },
        {
         "hoverinfo": "skip",
         "mode": "text",
         "name": "Labels (stable)",
         "opacity": 1,
         "showlegend": true,
         "text": [
          "CoS<sub>2</sub>",
          "SO<sub>3</sub>",
          "Co<sub>3</sub>S<sub>4</sub>",
          "Co<sub>9</sub>S<sub>8</sub>",
          "CoSO<sub>4</sub>",
          "Co<sub>3</sub>O<sub>4</sub>"
         ],
         "textposition": [
          "middle center",
          "middle center",
          "middle center",
          "middle center",
          "middle center",
          "middle center"
         ],
         "type": "scatter3d",
         "visible": true,
         "x": [
          0.01,
          0.639519052838329,
          0.01,
          0.01,
          0.5673502691896256,
          0.48487165930539355
         ],
         "y": [
          0.6766666666666669,
          0.635,
          0.5814285714285714,
          0.46058823529411763,
          0.5100000000000001,
          0.27571428571428575
         ],
         "z": [
          -0.3774033333333341,
          -1.0294491666666692,
          -0.4688795238095257,
          -0.5189131372549072,
          -1.568369999999997,
          -1.3944223809523817
         ]
        },
        {
         "hoverinfo": "text",
         "hoverlabel": {
          "font": {
           "size": 14
          }
         },
         "hovertext": [
          "SO<sub>2</sub> (None) <br> -1.019 eV/atom (+0.051 eV/atom)",
          "CoO (None) <br> -1.347 eV/atom (+0.025 eV/atom)",
          "CoO<sub>2</sub> (None) <br> -0.843 eV/atom (+0.377 eV/atom)",
          "CoS (None) <br> -0.604 eV/atom (+0.075 eV/atom)",
          "Co<sub>2</sub>(SO<sub>4</sub>)<sub>3</sub> (None) <br> -1.45 eV/atom (+0.064 eV/atom)"
         ],
         "marker": {
          "color": [
           0.051,
           0.025,
           0.377,
           0.075,
           0.064
          ],
          "colorbar": {
           "len": 0.75,
           "title": {
            "text": "Energy Above Hull<br>(eV/atom)"
           },
           "x": 0.05
          },
          "colorscale": [
           [
            0,
            "#fad393"
           ],
           [
            0.5,
            "#ff813d"
           ],
           [
            1,
            "#ff0000"
           ]
          ],
          "size": 6,
          "symbol": "diamond"
         },
         "mode": "markers",
         "name": "Above Hull",
         "showlegend": true,
         "type": "scatter3d",
         "x": [
          0.5773502691896258,
          0.4330127018922194,
          0.5773502691896258,
          0,
          0.611312049730192
         ],
         "y": [
          0.6666666666666666,
          0.25000000000000006,
          0.33333333333333337,
          0.5000000000000002,
          0.5294117647058822
         ],
         "z": [
          -1.019,
          -1.347,
          -0.843,
          -0.604,
          -1.45
         ]
        },
        {
         "error_z": {
          "array": [
           0,
           0,
           0,
           0,
           0,
           0,
           0,
           0,
           0
          ],
          "color": "darkgray",
          "thickness": 5,
          "type": "data",
          "width": 10
         },
         "hoverinfo": "text",
         "hoverlabel": {
          "font": {
           "size": 14
          }
         },
         "hovertext": [
          "CoS<sub>2</sub> (None) <br> -0.552 eV/atom",
          "S (None) <br> 0.0 eV/atom",
          "SO<sub>3</sub> (None) <br> -1.204 eV/atom",
          "Co<sub>3</sub>S<sub>4</sub> (None) <br> -0.643 eV/atom",
          "Co<sub>9</sub>S<sub>8</sub> (None) <br> -0.693 eV/atom",
          "CoSO<sub>4</sub> (None) <br> -1.743 eV/atom",
          "O<sub>2</sub> (None) <br> 0.0 eV/atom",
          "Co<sub>3</sub>O<sub>4</sub> (None) <br> -1.569 eV/atom",
          "Co (None) <br> 0.0 eV/atom"
         ],
         "marker": {
          "color": "black",
          "line": {
           "color": "black",
           "width": 3
          },
          "opacity": 0.8,
          "size": 12
         },
         "mode": "markers",
         "name": "Stable",
         "showlegend": true,
         "type": "scatter3d",
         "x": [
          0,
          0,
          0.649519052838329,
          0,
          0,
          0.5773502691896256,
          0.8660254037844386,
          0.49487165930539356,
          0
         ],
         "y": [
          0.6666666666666669,
          1,
          0.625,
          0.5714285714285714,
          0.47058823529411764,
          0.5000000000000001,
          0.5,
          0.28571428571428575,
          0
         ],
         "z": [
          -0.552,
          0,
          -1.204,
          -0.643,
          -0.693,
          -1.743,
          0,
          -1.569,
          0
         ]
        }
       ],
       "layout": {
        "autosize": true,
        "height": 700,
        "hovermode": "closest",
        "legend": {
         "orientation": "h",
         "traceorder": "reversed",
         "x": 0.5,
         "xanchor": "center",
         "y": 0,
         "yanchor": "top"
        },
        "margin": {
         "b": 10,
         "l": 0,
         "pad": 0,
         "r": 0,
         "t": 0
        },
        "paper_bgcolor": "rgba(0,0,0,0)",
        "plot_bgcolor": "rgba(0,0,0,0)",
        "scene": {
         "annotations": [
          {
           "align": "center",
           "font": {
            "color": "#000000",
            "size": 24
           },
           "opacity": 1,
           "showarrow": false,
           "text": "S",
           "x": 0,
           "xanchor": "right",
           "xshift": -10,
           "y": 1,
           "yanchor": "auto",
           "yshift": -10,
           "z": -1.568369999999997
          },
          {
           "align": "center",
           "font": {
            "color": "#000000",
            "size": 24
           },
           "opacity": 1,
           "showarrow": false,
           "text": "O<sub>2</sub>",
           "x": 0.8660254037844386,
           "xanchor": "right",
           "xshift": -10,
           "y": 0.5,
           "yanchor": "auto",
           "yshift": -10,
           "z": -1.568369999999997
          },
          {
           "align": "center",
           "font": {
            "color": "#000000",
            "size": 24
           },
           "opacity": 1,
           "showarrow": false,
           "text": "Co",
           "x": 0,
           "xanchor": "right",
           "xshift": -10,
           "y": 0,
           "yanchor": "auto",
           "yshift": -10,
           "z": -1.568369999999997
          },
          {
           "opacity": 0,
           "text": "",
           "x": 1,
           "y": 1,
           "z": 0
          }
         ],
         "aspectratio": {
          "x": 1.7,
          "y": 1.7,
          "z": 1.2
         },
         "camera": {
          "center": {
           "x": -0.1,
           "y": 0,
           "z": -0.15
          },
          "eye": {
           "x": -0.1,
           "y": 0,
           "z": 2.5
          },
          "projection": {
           "type": "orthographic"
          }
         },
         "xaxis": {
          "autorange": true,
          "showaxeslabels": false,
          "showgrid": false,
          "showline": false,
          "showspikes": false,
          "showticklabels": false,
          "ticks": "",
          "visible": false,
          "zeroline": false
         },
         "yaxis": {
          "autorange": true,
          "showaxeslabels": false,
          "showgrid": false,
          "showline": false,
          "showspikes": false,
          "showticklabels": false,
          "ticks": "",
          "visible": false,
          "zeroline": false
         },
         "zaxis": {
          "autorange": true,
          "showaxeslabels": false,
          "showgrid": false,
          "showline": false,
          "showspikes": false,
          "showticklabels": false,
          "ticks": "",
          "visible": false,
          "zeroline": false
         }
        },
        "showlegend": true,
        "template": {
         "data": {
          "bar": [
           {
            "error_x": {
             "color": "#2a3f5f"
            },
            "error_y": {
             "color": "#2a3f5f"
            },
            "marker": {
             "line": {
              "color": "#E5ECF6",
              "width": 0.5
             },
             "pattern": {
              "fillmode": "overlay",
              "size": 10,
              "solidity": 0.2
             }
            },
            "type": "bar"
           }
          ],
          "barpolar": [
           {
            "marker": {
             "line": {
              "color": "#E5ECF6",
              "width": 0.5
             },
             "pattern": {
              "fillmode": "overlay",
              "size": 10,
              "solidity": 0.2
             }
            },
            "type": "barpolar"
           }
          ],
          "carpet": [
           {
            "aaxis": {
             "endlinecolor": "#2a3f5f",
             "gridcolor": "white",
             "linecolor": "white",
             "minorgridcolor": "white",
             "startlinecolor": "#2a3f5f"
            },
            "baxis": {
             "endlinecolor": "#2a3f5f",
             "gridcolor": "white",
             "linecolor": "white",
             "minorgridcolor": "white",
             "startlinecolor": "#2a3f5f"
            },
            "type": "carpet"
           }
          ],
          "choropleth": [
           {
            "colorbar": {
             "outlinewidth": 0,
             "ticks": ""
            },
            "type": "choropleth"
           }
          ],
          "contour": [
           {
            "colorbar": {
             "outlinewidth": 0,
             "ticks": ""
            },
            "colorscale": [
             [
              0,
              "#0d0887"
             ],
             [
              0.1111111111111111,
              "#46039f"
             ],
             [
              0.2222222222222222,
              "#7201a8"
             ],
             [
              0.3333333333333333,
              "#9c179e"
             ],
             [
              0.4444444444444444,
              "#bd3786"
             ],
             [
              0.5555555555555556,
              "#d8576b"
             ],
             [
              0.6666666666666666,
              "#ed7953"
             ],
             [
              0.7777777777777778,
              "#fb9f3a"
             ],
             [
              0.8888888888888888,
              "#fdca26"
             ],
             [
              1,
              "#f0f921"
             ]
            ],
            "type": "contour"
           }
          ],
          "contourcarpet": [
           {
            "colorbar": {
             "outlinewidth": 0,
             "ticks": ""
            },
            "type": "contourcarpet"
           }
          ],
          "heatmap": [
           {
            "colorbar": {
             "outlinewidth": 0,
             "ticks": ""
            },
            "colorscale": [
             [
              0,
              "#0d0887"
             ],
             [
              0.1111111111111111,
              "#46039f"
             ],
             [
              0.2222222222222222,
              "#7201a8"
             ],
             [
              0.3333333333333333,
              "#9c179e"
             ],
             [
              0.4444444444444444,
              "#bd3786"
             ],
             [
              0.5555555555555556,
              "#d8576b"
             ],
             [
              0.6666666666666666,
              "#ed7953"
             ],
             [
              0.7777777777777778,
              "#fb9f3a"
             ],
             [
              0.8888888888888888,
              "#fdca26"
             ],
             [
              1,
              "#f0f921"
             ]
            ],
            "type": "heatmap"
           }
          ],
          "heatmapgl": [
           {
            "colorbar": {
             "outlinewidth": 0,
             "ticks": ""
            },
            "colorscale": [
             [
              0,
              "#0d0887"
             ],
             [
              0.1111111111111111,
              "#46039f"
             ],
             [
              0.2222222222222222,
              "#7201a8"
             ],
             [
              0.3333333333333333,
              "#9c179e"
             ],
             [
              0.4444444444444444,
              "#bd3786"
             ],
             [
              0.5555555555555556,
              "#d8576b"
             ],
             [
              0.6666666666666666,
              "#ed7953"
             ],
             [
              0.7777777777777778,
              "#fb9f3a"
             ],
             [
              0.8888888888888888,
              "#fdca26"
             ],
             [
              1,
              "#f0f921"
             ]
            ],
            "type": "heatmapgl"
           }
          ],
          "histogram": [
           {
            "marker": {
             "pattern": {
              "fillmode": "overlay",
              "size": 10,
              "solidity": 0.2
             }
            },
            "type": "histogram"
           }
          ],
          "histogram2d": [
           {
            "colorbar": {
             "outlinewidth": 0,
             "ticks": ""
            },
            "colorscale": [
             [
              0,
              "#0d0887"
             ],
             [
              0.1111111111111111,
              "#46039f"
             ],
             [
              0.2222222222222222,
              "#7201a8"
             ],
             [
              0.3333333333333333,
              "#9c179e"
             ],
             [
              0.4444444444444444,
              "#bd3786"
             ],
             [
              0.5555555555555556,
              "#d8576b"
             ],
             [
              0.6666666666666666,
              "#ed7953"
             ],
             [
              0.7777777777777778,
              "#fb9f3a"
             ],
             [
              0.8888888888888888,
              "#fdca26"
             ],
             [
              1,
              "#f0f921"
             ]
            ],
            "type": "histogram2d"
           }
          ],
          "histogram2dcontour": [
           {
            "colorbar": {
             "outlinewidth": 0,
             "ticks": ""
            },
            "colorscale": [
             [
              0,
              "#0d0887"
             ],
             [
              0.1111111111111111,
              "#46039f"
             ],
             [
              0.2222222222222222,
              "#7201a8"
             ],
             [
              0.3333333333333333,
              "#9c179e"
             ],
             [
              0.4444444444444444,
              "#bd3786"
             ],
             [
              0.5555555555555556,
              "#d8576b"
             ],
             [
              0.6666666666666666,
              "#ed7953"
             ],
             [
              0.7777777777777778,
              "#fb9f3a"
             ],
             [
              0.8888888888888888,
              "#fdca26"
             ],
             [
              1,
              "#f0f921"
             ]
            ],
            "type": "histogram2dcontour"
           }
          ],
          "mesh3d": [
           {
            "colorbar": {
             "outlinewidth": 0,
             "ticks": ""
            },
            "type": "mesh3d"
           }
          ],
          "parcoords": [
           {
            "line": {
             "colorbar": {
              "outlinewidth": 0,
              "ticks": ""
             }
            },
            "type": "parcoords"
           }
          ],
          "pie": [
           {
            "automargin": true,
            "type": "pie"
           }
          ],
          "scatter": [
           {
            "marker": {
             "colorbar": {
              "outlinewidth": 0,
              "ticks": ""
             }
            },
            "type": "scatter"
           }
          ],
          "scatter3d": [
           {
            "line": {
             "colorbar": {
              "outlinewidth": 0,
              "ticks": ""
             }
            },
            "marker": {
             "colorbar": {
              "outlinewidth": 0,
              "ticks": ""
             }
            },
            "type": "scatter3d"
           }
          ],
          "scattercarpet": [
           {
            "marker": {
             "colorbar": {
              "outlinewidth": 0,
              "ticks": ""
             }
            },
            "type": "scattercarpet"
           }
          ],
          "scattergeo": [
           {
            "marker": {
             "colorbar": {
              "outlinewidth": 0,
              "ticks": ""
             }
            },
            "type": "scattergeo"
           }
          ],
          "scattergl": [
           {
            "marker": {
             "colorbar": {
              "outlinewidth": 0,
              "ticks": ""
             }
            },
            "type": "scattergl"
           }
          ],
          "scattermapbox": [
           {
            "marker": {
             "colorbar": {
              "outlinewidth": 0,
              "ticks": ""
             }
            },
            "type": "scattermapbox"
           }
          ],
          "scatterpolar": [
           {
            "marker": {
             "colorbar": {
              "outlinewidth": 0,
              "ticks": ""
             }
            },
            "type": "scatterpolar"
           }
          ],
          "scatterpolargl": [
           {
            "marker": {
             "colorbar": {
              "outlinewidth": 0,
              "ticks": ""
             }
            },
            "type": "scatterpolargl"
           }
          ],
          "scatterternary": [
           {
            "marker": {
             "colorbar": {
              "outlinewidth": 0,
              "ticks": ""
             }
            },
            "type": "scatterternary"
           }
          ],
          "surface": [
           {
            "colorbar": {
             "outlinewidth": 0,
             "ticks": ""
            },
            "colorscale": [
             [
              0,
              "#0d0887"
             ],
             [
              0.1111111111111111,
              "#46039f"
             ],
             [
              0.2222222222222222,
              "#7201a8"
             ],
             [
              0.3333333333333333,
              "#9c179e"
             ],
             [
              0.4444444444444444,
              "#bd3786"
             ],
             [
              0.5555555555555556,
              "#d8576b"
             ],
             [
              0.6666666666666666,
              "#ed7953"
             ],
             [
              0.7777777777777778,
              "#fb9f3a"
             ],
             [
              0.8888888888888888,
              "#fdca26"
             ],
             [
              1,
              "#f0f921"
             ]
            ],
            "type": "surface"
           }
          ],
          "table": [
           {
            "cells": {
             "fill": {
              "color": "#EBF0F8"
             },
             "line": {
              "color": "white"
             }
            },
            "header": {
             "fill": {
              "color": "#C8D4E3"
             },
             "line": {
              "color": "white"
             }
            },
            "type": "table"
           }
          ]
         },
         "layout": {
          "annotationdefaults": {
           "arrowcolor": "#2a3f5f",
           "arrowhead": 0,
           "arrowwidth": 1
          },
          "autotypenumbers": "strict",
          "coloraxis": {
           "colorbar": {
            "outlinewidth": 0,
            "ticks": ""
           }
          },
          "colorscale": {
           "diverging": [
            [
             0,
             "#8e0152"
            ],
            [
             0.1,
             "#c51b7d"
            ],
            [
             0.2,
             "#de77ae"
            ],
            [
             0.3,
             "#f1b6da"
            ],
            [
             0.4,
             "#fde0ef"
            ],
            [
             0.5,
             "#f7f7f7"
            ],
            [
             0.6,
             "#e6f5d0"
            ],
            [
             0.7,
             "#b8e186"
            ],
            [
             0.8,
             "#7fbc41"
            ],
            [
             0.9,
             "#4d9221"
            ],
            [
             1,
             "#276419"
            ]
           ],
           "sequential": [
            [
             0,
             "#0d0887"
            ],
            [
             0.1111111111111111,
             "#46039f"
            ],
            [
             0.2222222222222222,
             "#7201a8"
            ],
            [
             0.3333333333333333,
             "#9c179e"
            ],
            [
             0.4444444444444444,
             "#bd3786"
            ],
            [
             0.5555555555555556,
             "#d8576b"
            ],
            [
             0.6666666666666666,
             "#ed7953"
            ],
            [
             0.7777777777777778,
             "#fb9f3a"
            ],
            [
             0.8888888888888888,
             "#fdca26"
            ],
            [
             1,
             "#f0f921"
            ]
           ],
           "sequentialminus": [
            [
             0,
             "#0d0887"
            ],
            [
             0.1111111111111111,
             "#46039f"
            ],
            [
             0.2222222222222222,
             "#7201a8"
            ],
            [
             0.3333333333333333,
             "#9c179e"
            ],
            [
             0.4444444444444444,
             "#bd3786"
            ],
            [
             0.5555555555555556,
             "#d8576b"
            ],
            [
             0.6666666666666666,
             "#ed7953"
            ],
            [
             0.7777777777777778,
             "#fb9f3a"
            ],
            [
             0.8888888888888888,
             "#fdca26"
            ],
            [
             1,
             "#f0f921"
            ]
           ]
          },
          "colorway": [
           "#636efa",
           "#EF553B",
           "#00cc96",
           "#ab63fa",
           "#FFA15A",
           "#19d3f3",
           "#FF6692",
           "#B6E880",
           "#FF97FF",
           "#FECB52"
          ],
          "font": {
           "color": "#2a3f5f"
          },
          "geo": {
           "bgcolor": "white",
           "lakecolor": "white",
           "landcolor": "#E5ECF6",
           "showlakes": true,
           "showland": true,
           "subunitcolor": "white"
          },
          "hoverlabel": {
           "align": "left"
          },
          "hovermode": "closest",
          "mapbox": {
           "style": "light"
          },
          "paper_bgcolor": "white",
          "plot_bgcolor": "#E5ECF6",
          "polar": {
           "angularaxis": {
            "gridcolor": "white",
            "linecolor": "white",
            "ticks": ""
           },
           "bgcolor": "#E5ECF6",
           "radialaxis": {
            "gridcolor": "white",
            "linecolor": "white",
            "ticks": ""
           }
          },
          "scene": {
           "xaxis": {
            "backgroundcolor": "#E5ECF6",
            "gridcolor": "white",
            "gridwidth": 2,
            "linecolor": "white",
            "showbackground": true,
            "ticks": "",
            "zerolinecolor": "white"
           },
           "yaxis": {
            "backgroundcolor": "#E5ECF6",
            "gridcolor": "white",
            "gridwidth": 2,
            "linecolor": "white",
            "showbackground": true,
            "ticks": "",
            "zerolinecolor": "white"
           },
           "zaxis": {
            "backgroundcolor": "#E5ECF6",
            "gridcolor": "white",
            "gridwidth": 2,
            "linecolor": "white",
            "showbackground": true,
            "ticks": "",
            "zerolinecolor": "white"
           }
          },
          "shapedefaults": {
           "line": {
            "color": "#2a3f5f"
           }
          },
          "ternary": {
           "aaxis": {
            "gridcolor": "white",
            "linecolor": "white",
            "ticks": ""
           },
           "baxis": {
            "gridcolor": "white",
            "linecolor": "white",
            "ticks": ""
           },
           "bgcolor": "#E5ECF6",
           "caxis": {
            "gridcolor": "white",
            "linecolor": "white",
            "ticks": ""
           }
          },
          "title": {
           "x": 0.05
          },
          "xaxis": {
           "automargin": true,
           "gridcolor": "white",
           "linecolor": "white",
           "ticks": "",
           "title": {
            "standoff": 15
           },
           "zerolinecolor": "white",
           "zerolinewidth": 2
          },
          "yaxis": {
           "automargin": true,
           "gridcolor": "white",
           "linecolor": "white",
           "ticks": "",
           "title": {
            "standoff": 15
           },
           "zerolinecolor": "white",
           "zerolinewidth": 2
          }
         }
        }
       }
      },
      "text/html": [
       "<div>                            <div id=\"6c0ff614-f997-499b-9ecc-25ce19e704ad\" class=\"plotly-graph-div\" style=\"height:700px; width:100%;\"></div>            <script type=\"text/javascript\">                require([\"plotly\"], function(Plotly) {                    window.PLOTLYENV=window.PLOTLYENV || {};                                    if (document.getElementById(\"6c0ff614-f997-499b-9ecc-25ce19e704ad\")) {                    Plotly.newPlot(                        \"6c0ff614-f997-499b-9ecc-25ce19e704ad\",                        [{\"hoverinfo\":\"none\",\"line\":{\"color\":\"rgba(0,0,0,1.0)\",\"width\":7.0},\"mode\":\"lines\",\"showlegend\":false,\"x\":[0.0,0.0,null,0.649519052838329,0.0,null,0.0,0.0,null,0.5773502691896256,0.8660254037844386,null,0.649519052838329,0.5773502691896256,null,0.649519052838329,0.8660254037844386,null,0.5773502691896256,0.49487165930539356,null,0.49487165930539356,0.0,null,0.0,0.0,null,0.49487165930539356,0.0,null,0.5773502691896256,0.0,null,0.5773502691896256,0.0,null,0.5773502691896256,0.0,null,0.0,0.0,null,0.5773502691896256,0.0,null,0.49487165930539356,0.8660254037844386,null],\"y\":[0.6666666666666669,1.0,null,0.625,1.0,null,0.5714285714285714,0.47058823529411764,null,0.5000000000000001,0.5,null,0.625,0.5000000000000001,null,0.625,0.5,null,0.5000000000000001,0.28571428571428575,null,0.28571428571428575,0.47058823529411764,null,0.47058823529411764,0.0,null,0.28571428571428575,0.0,null,0.5000000000000001,0.47058823529411764,null,0.5000000000000001,0.6666666666666669,null,0.5000000000000001,0.5714285714285714,null,0.6666666666666669,0.5714285714285714,null,0.5000000000000001,1.0,null,0.28571428571428575,0.5,null],\"z\":[-0.5516666666666671,0.0,null,-1.2037125000000022,0.0,null,-0.6431428571428587,-0.6931764705882402,null,-1.74263333333333,0.0,null,-1.2037125000000022,-1.74263333333333,null,-1.2037125000000022,0.0,null,-1.74263333333333,-1.5686857142857147,null,-1.5686857142857147,-0.6931764705882402,null,-0.6931764705882402,0.0,null,-1.5686857142857147,0.0,null,-1.74263333333333,-0.6931764705882402,null,-1.74263333333333,-0.5516666666666671,null,-1.74263333333333,-0.6431428571428587,null,-0.5516666666666671,-0.6431428571428587,null,-1.74263333333333,0.0,null,-1.5686857142857147,0.0,null],\"type\":\"scatter3d\"},{\"hoverinfo\":\"none\",\"line\":{\"color\":\"rgba (0, 0, 0, 0.4)\",\"dash\":\"solid\",\"width\":1.0},\"mode\":\"lines\",\"showlegend\":false,\"x\":[0.8660254037844386,0.0,null,0.8660254037844386,0.0,null,0.8660254037844386,0.0,null,0.8660254037844386,0.0,null,0.0,0.0,null,0.0,0.0,null,0.8660254037844386,0.8660254037844386,null,0.0,0.0,null,0.0,0.0,null],\"y\":[0.5,1.0,null,0.5,1.0,null,0.5,0.0,null,0.5,0.0,null,1.0,0.0,null,1.0,0.0,null,0.5,0.5,null,1.0,1.0,null,0.0,0.0,null],\"z\":[0,0,null,-1.74263333333333,-1.74263333333333,null,0,0,null,-1.74263333333333,-1.74263333333333,null,0,0,null,-1.74263333333333,-1.74263333333333,null,0,-1.74263333333333,null,0,-1.74263333333333,null,0,-1.74263333333333,null],\"type\":\"scatter3d\"},{\"colorbar\":{\"len\":0.75,\"title\":{\"text\":\"Formation energy<br>(eV/atom)\"},\"x\":0.9},\"colorscale\":[[0.0,\"#0c8c00\"],[0.5,\"#d8ffd4\"],[1.0,\"#ffffff\"]],\"flatshading\":true,\"hoverinfo\":\"none\",\"i\":[5,5,5,10,5,5,5,6],\"intensity\":[-1.018966666666665,-1.2037125000000022,-1.3474749999999993,-0.8433000000000019,-0.6039999999999992,-1.74263333333333,-0.5516666666666671,-1.4496117647058833,-1.5686857142857147,-0.6431428571428587,-0.6931764705882402,0.0,0.0,0.0],\"j\":[1,1,8,8,8,6,9,9],\"k\":[12,11,10,13,11,12,10,5],\"lighting\":{\"ambient\":1.0,\"diffuse\":0.0},\"name\":\"Convex Hull (shading)\",\"opacity\":0.8,\"showlegend\":true,\"x\":[0.5773502691896258,0.649519052838329,0.4330127018922194,0.5773502691896258,0.0,0.5773502691896256,0.0,0.611312049730192,0.49487165930539356,0.0,0.0,0.8660254037844386,0.0,0.0],\"y\":[0.6666666666666666,0.625,0.25000000000000006,0.33333333333333337,0.5000000000000002,0.5000000000000001,0.6666666666666669,0.5294117647058822,0.28571428571428575,0.5714285714285714,0.47058823529411764,0.5,1.0,0.0],\"z\":[-1.018966666666665,-1.2037125000000022,-1.3474749999999993,-0.8433000000000019,-0.6039999999999992,-1.74263333333333,-0.5516666666666671,-1.4496117647058833,-1.5686857142857147,-0.6431428571428587,-0.6931764705882402,0.0,0.0,0.0],\"type\":\"mesh3d\"},{\"hoverinfo\":\"skip\",\"mode\":\"text\",\"name\":\"Labels (stable)\",\"opacity\":1.0,\"showlegend\":true,\"text\":[\"CoS<sub>2</sub>\",\"SO<sub>3</sub>\",\"Co<sub>3</sub>S<sub>4</sub>\",\"Co<sub>9</sub>S<sub>8</sub>\",\"CoSO<sub>4</sub>\",\"Co<sub>3</sub>O<sub>4</sub>\"],\"textposition\":[\"middle center\",\"middle center\",\"middle center\",\"middle center\",\"middle center\",\"middle center\"],\"visible\":true,\"x\":[0.01,0.639519052838329,0.01,0.01,0.5673502691896256,0.48487165930539355],\"y\":[0.6766666666666669,0.635,0.5814285714285714,0.46058823529411763,0.5100000000000001,0.27571428571428575],\"z\":[-0.3774033333333341,-1.0294491666666692,-0.4688795238095257,-0.5189131372549072,-1.568369999999997,-1.3944223809523817],\"type\":\"scatter3d\"},{\"hoverinfo\":\"text\",\"hoverlabel\":{\"font\":{\"size\":14}},\"hovertext\":[\"SO<sub>2</sub> (None) <br> -1.019 eV/atom (+0.051 eV/atom)\",\"CoO (None) <br> -1.347 eV/atom (+0.025 eV/atom)\",\"CoO<sub>2</sub> (None) <br> -0.843 eV/atom (+0.377 eV/atom)\",\"CoS (None) <br> -0.604 eV/atom (+0.075 eV/atom)\",\"Co<sub>2</sub>(SO<sub>4</sub>)<sub>3</sub> (None) <br> -1.45 eV/atom (+0.064 eV/atom)\"],\"marker\":{\"color\":[0.051,0.025,0.377,0.075,0.064],\"colorbar\":{\"len\":0.75,\"title\":{\"text\":\"Energy Above Hull<br>(eV/atom)\"},\"x\":0.05},\"colorscale\":[[0.0,\"#fad393\"],[0.5,\"#ff813d\"],[1.0,\"#ff0000\"]],\"size\":6,\"symbol\":\"diamond\"},\"mode\":\"markers\",\"name\":\"Above Hull\",\"showlegend\":true,\"x\":[0.5773502691896258,0.4330127018922194,0.5773502691896258,0.0,0.611312049730192],\"y\":[0.6666666666666666,0.25000000000000006,0.33333333333333337,0.5000000000000002,0.5294117647058822],\"z\":[-1.019,-1.347,-0.843,-0.604,-1.45],\"type\":\"scatter3d\"},{\"error_z\":{\"array\":[0,0,0,0,0,0,0,0,0],\"color\":\"darkgray\",\"thickness\":5,\"type\":\"data\",\"width\":10},\"hoverinfo\":\"text\",\"hoverlabel\":{\"font\":{\"size\":14}},\"hovertext\":[\"CoS<sub>2</sub> (None) <br> -0.552 eV/atom\",\"S (None) <br> 0.0 eV/atom\",\"SO<sub>3</sub> (None) <br> -1.204 eV/atom\",\"Co<sub>3</sub>S<sub>4</sub> (None) <br> -0.643 eV/atom\",\"Co<sub>9</sub>S<sub>8</sub> (None) <br> -0.693 eV/atom\",\"CoSO<sub>4</sub> (None) <br> -1.743 eV/atom\",\"O<sub>2</sub> (None) <br> 0.0 eV/atom\",\"Co<sub>3</sub>O<sub>4</sub> (None) <br> -1.569 eV/atom\",\"Co (None) <br> 0.0 eV/atom\"],\"marker\":{\"color\":\"black\",\"line\":{\"color\":\"black\",\"width\":3},\"opacity\":0.8,\"size\":12},\"mode\":\"markers\",\"name\":\"Stable\",\"showlegend\":true,\"x\":[0.0,0.0,0.649519052838329,0.0,0.0,0.5773502691896256,0.8660254037844386,0.49487165930539356,0.0],\"y\":[0.6666666666666669,1.0,0.625,0.5714285714285714,0.47058823529411764,0.5000000000000001,0.5,0.28571428571428575,0.0],\"z\":[-0.552,0.0,-1.204,-0.643,-0.693,-1.743,0.0,-1.569,0.0],\"type\":\"scatter3d\"}],                        {\"autosize\":true,\"height\":700,\"hovermode\":\"closest\",\"legend\":{\"orientation\":\"h\",\"traceorder\":\"reversed\",\"x\":0.5,\"xanchor\":\"center\",\"y\":0.0,\"yanchor\":\"top\"},\"margin\":{\"b\":10,\"l\":0,\"pad\":0,\"r\":0,\"t\":0},\"paper_bgcolor\":\"rgba(0,0,0,0)\",\"plot_bgcolor\":\"rgba(0,0,0,0)\",\"scene\":{\"annotations\":[{\"align\":\"center\",\"font\":{\"color\":\"#000000\",\"size\":24.0},\"opacity\":1.0,\"showarrow\":false,\"text\":\"S\",\"x\":0.0,\"xanchor\":\"right\",\"xshift\":-10,\"y\":1.0,\"yanchor\":\"auto\",\"yshift\":-10,\"z\":-1.568369999999997},{\"align\":\"center\",\"font\":{\"color\":\"#000000\",\"size\":24.0},\"opacity\":1.0,\"showarrow\":false,\"text\":\"O<sub>2</sub>\",\"x\":0.8660254037844386,\"xanchor\":\"right\",\"xshift\":-10,\"y\":0.5,\"yanchor\":\"auto\",\"yshift\":-10,\"z\":-1.568369999999997},{\"align\":\"center\",\"font\":{\"color\":\"#000000\",\"size\":24.0},\"opacity\":1.0,\"showarrow\":false,\"text\":\"Co\",\"x\":0.0,\"xanchor\":\"right\",\"xshift\":-10,\"y\":0.0,\"yanchor\":\"auto\",\"yshift\":-10,\"z\":-1.568369999999997},{\"opacity\":0,\"text\":\"\",\"x\":1,\"y\":1,\"z\":0}],\"xaxis\":{\"autorange\":true,\"showaxeslabels\":false,\"showgrid\":false,\"showline\":false,\"showspikes\":false,\"showticklabels\":false,\"ticks\":\"\",\"visible\":false,\"zeroline\":false},\"yaxis\":{\"autorange\":true,\"showaxeslabels\":false,\"showgrid\":false,\"showline\":false,\"showspikes\":false,\"showticklabels\":false,\"ticks\":\"\",\"visible\":false,\"zeroline\":false},\"zaxis\":{\"autorange\":true,\"showaxeslabels\":false,\"showgrid\":false,\"showline\":false,\"showspikes\":false,\"showticklabels\":false,\"ticks\":\"\",\"visible\":false,\"zeroline\":false},\"camera\":{\"center\":{\"x\":-0.1,\"y\":0,\"z\":-0.15},\"eye\":{\"x\":-0.1,\"y\":0,\"z\":2.5},\"projection\":{\"type\":\"orthographic\"}},\"aspectratio\":{\"x\":1.7,\"y\":1.7,\"z\":1.2}},\"showlegend\":true,\"template\":{\"data\":{\"bar\":[{\"error_x\":{\"color\":\"#2a3f5f\"},\"error_y\":{\"color\":\"#2a3f5f\"},\"marker\":{\"line\":{\"color\":\"#E5ECF6\",\"width\":0.5},\"pattern\":{\"fillmode\":\"overlay\",\"size\":10,\"solidity\":0.2}},\"type\":\"bar\"}],\"barpolar\":[{\"marker\":{\"line\":{\"color\":\"#E5ECF6\",\"width\":0.5},\"pattern\":{\"fillmode\":\"overlay\",\"size\":10,\"solidity\":0.2}},\"type\":\"barpolar\"}],\"carpet\":[{\"aaxis\":{\"endlinecolor\":\"#2a3f5f\",\"gridcolor\":\"white\",\"linecolor\":\"white\",\"minorgridcolor\":\"white\",\"startlinecolor\":\"#2a3f5f\"},\"baxis\":{\"endlinecolor\":\"#2a3f5f\",\"gridcolor\":\"white\",\"linecolor\":\"white\",\"minorgridcolor\":\"white\",\"startlinecolor\":\"#2a3f5f\"},\"type\":\"carpet\"}],\"choropleth\":[{\"colorbar\":{\"outlinewidth\":0,\"ticks\":\"\"},\"type\":\"choropleth\"}],\"contour\":[{\"colorbar\":{\"outlinewidth\":0,\"ticks\":\"\"},\"colorscale\":[[0.0,\"#0d0887\"],[0.1111111111111111,\"#46039f\"],[0.2222222222222222,\"#7201a8\"],[0.3333333333333333,\"#9c179e\"],[0.4444444444444444,\"#bd3786\"],[0.5555555555555556,\"#d8576b\"],[0.6666666666666666,\"#ed7953\"],[0.7777777777777778,\"#fb9f3a\"],[0.8888888888888888,\"#fdca26\"],[1.0,\"#f0f921\"]],\"type\":\"contour\"}],\"contourcarpet\":[{\"colorbar\":{\"outlinewidth\":0,\"ticks\":\"\"},\"type\":\"contourcarpet\"}],\"heatmap\":[{\"colorbar\":{\"outlinewidth\":0,\"ticks\":\"\"},\"colorscale\":[[0.0,\"#0d0887\"],[0.1111111111111111,\"#46039f\"],[0.2222222222222222,\"#7201a8\"],[0.3333333333333333,\"#9c179e\"],[0.4444444444444444,\"#bd3786\"],[0.5555555555555556,\"#d8576b\"],[0.6666666666666666,\"#ed7953\"],[0.7777777777777778,\"#fb9f3a\"],[0.8888888888888888,\"#fdca26\"],[1.0,\"#f0f921\"]],\"type\":\"heatmap\"}],\"heatmapgl\":[{\"colorbar\":{\"outlinewidth\":0,\"ticks\":\"\"},\"colorscale\":[[0.0,\"#0d0887\"],[0.1111111111111111,\"#46039f\"],[0.2222222222222222,\"#7201a8\"],[0.3333333333333333,\"#9c179e\"],[0.4444444444444444,\"#bd3786\"],[0.5555555555555556,\"#d8576b\"],[0.6666666666666666,\"#ed7953\"],[0.7777777777777778,\"#fb9f3a\"],[0.8888888888888888,\"#fdca26\"],[1.0,\"#f0f921\"]],\"type\":\"heatmapgl\"}],\"histogram\":[{\"marker\":{\"pattern\":{\"fillmode\":\"overlay\",\"size\":10,\"solidity\":0.2}},\"type\":\"histogram\"}],\"histogram2d\":[{\"colorbar\":{\"outlinewidth\":0,\"ticks\":\"\"},\"colorscale\":[[0.0,\"#0d0887\"],[0.1111111111111111,\"#46039f\"],[0.2222222222222222,\"#7201a8\"],[0.3333333333333333,\"#9c179e\"],[0.4444444444444444,\"#bd3786\"],[0.5555555555555556,\"#d8576b\"],[0.6666666666666666,\"#ed7953\"],[0.7777777777777778,\"#fb9f3a\"],[0.8888888888888888,\"#fdca26\"],[1.0,\"#f0f921\"]],\"type\":\"histogram2d\"}],\"histogram2dcontour\":[{\"colorbar\":{\"outlinewidth\":0,\"ticks\":\"\"},\"colorscale\":[[0.0,\"#0d0887\"],[0.1111111111111111,\"#46039f\"],[0.2222222222222222,\"#7201a8\"],[0.3333333333333333,\"#9c179e\"],[0.4444444444444444,\"#bd3786\"],[0.5555555555555556,\"#d8576b\"],[0.6666666666666666,\"#ed7953\"],[0.7777777777777778,\"#fb9f3a\"],[0.8888888888888888,\"#fdca26\"],[1.0,\"#f0f921\"]],\"type\":\"histogram2dcontour\"}],\"mesh3d\":[{\"colorbar\":{\"outlinewidth\":0,\"ticks\":\"\"},\"type\":\"mesh3d\"}],\"parcoords\":[{\"line\":{\"colorbar\":{\"outlinewidth\":0,\"ticks\":\"\"}},\"type\":\"parcoords\"}],\"pie\":[{\"automargin\":true,\"type\":\"pie\"}],\"scatter\":[{\"marker\":{\"colorbar\":{\"outlinewidth\":0,\"ticks\":\"\"}},\"type\":\"scatter\"}],\"scatter3d\":[{\"line\":{\"colorbar\":{\"outlinewidth\":0,\"ticks\":\"\"}},\"marker\":{\"colorbar\":{\"outlinewidth\":0,\"ticks\":\"\"}},\"type\":\"scatter3d\"}],\"scattercarpet\":[{\"marker\":{\"colorbar\":{\"outlinewidth\":0,\"ticks\":\"\"}},\"type\":\"scattercarpet\"}],\"scattergeo\":[{\"marker\":{\"colorbar\":{\"outlinewidth\":0,\"ticks\":\"\"}},\"type\":\"scattergeo\"}],\"scattergl\":[{\"marker\":{\"colorbar\":{\"outlinewidth\":0,\"ticks\":\"\"}},\"type\":\"scattergl\"}],\"scattermapbox\":[{\"marker\":{\"colorbar\":{\"outlinewidth\":0,\"ticks\":\"\"}},\"type\":\"scattermapbox\"}],\"scatterpolar\":[{\"marker\":{\"colorbar\":{\"outlinewidth\":0,\"ticks\":\"\"}},\"type\":\"scatterpolar\"}],\"scatterpolargl\":[{\"marker\":{\"colorbar\":{\"outlinewidth\":0,\"ticks\":\"\"}},\"type\":\"scatterpolargl\"}],\"scatterternary\":[{\"marker\":{\"colorbar\":{\"outlinewidth\":0,\"ticks\":\"\"}},\"type\":\"scatterternary\"}],\"surface\":[{\"colorbar\":{\"outlinewidth\":0,\"ticks\":\"\"},\"colorscale\":[[0.0,\"#0d0887\"],[0.1111111111111111,\"#46039f\"],[0.2222222222222222,\"#7201a8\"],[0.3333333333333333,\"#9c179e\"],[0.4444444444444444,\"#bd3786\"],[0.5555555555555556,\"#d8576b\"],[0.6666666666666666,\"#ed7953\"],[0.7777777777777778,\"#fb9f3a\"],[0.8888888888888888,\"#fdca26\"],[1.0,\"#f0f921\"]],\"type\":\"surface\"}],\"table\":[{\"cells\":{\"fill\":{\"color\":\"#EBF0F8\"},\"line\":{\"color\":\"white\"}},\"header\":{\"fill\":{\"color\":\"#C8D4E3\"},\"line\":{\"color\":\"white\"}},\"type\":\"table\"}]},\"layout\":{\"annotationdefaults\":{\"arrowcolor\":\"#2a3f5f\",\"arrowhead\":0,\"arrowwidth\":1},\"autotypenumbers\":\"strict\",\"coloraxis\":{\"colorbar\":{\"outlinewidth\":0,\"ticks\":\"\"}},\"colorscale\":{\"diverging\":[[0,\"#8e0152\"],[0.1,\"#c51b7d\"],[0.2,\"#de77ae\"],[0.3,\"#f1b6da\"],[0.4,\"#fde0ef\"],[0.5,\"#f7f7f7\"],[0.6,\"#e6f5d0\"],[0.7,\"#b8e186\"],[0.8,\"#7fbc41\"],[0.9,\"#4d9221\"],[1,\"#276419\"]],\"sequential\":[[0.0,\"#0d0887\"],[0.1111111111111111,\"#46039f\"],[0.2222222222222222,\"#7201a8\"],[0.3333333333333333,\"#9c179e\"],[0.4444444444444444,\"#bd3786\"],[0.5555555555555556,\"#d8576b\"],[0.6666666666666666,\"#ed7953\"],[0.7777777777777778,\"#fb9f3a\"],[0.8888888888888888,\"#fdca26\"],[1.0,\"#f0f921\"]],\"sequentialminus\":[[0.0,\"#0d0887\"],[0.1111111111111111,\"#46039f\"],[0.2222222222222222,\"#7201a8\"],[0.3333333333333333,\"#9c179e\"],[0.4444444444444444,\"#bd3786\"],[0.5555555555555556,\"#d8576b\"],[0.6666666666666666,\"#ed7953\"],[0.7777777777777778,\"#fb9f3a\"],[0.8888888888888888,\"#fdca26\"],[1.0,\"#f0f921\"]]},\"colorway\":[\"#636efa\",\"#EF553B\",\"#00cc96\",\"#ab63fa\",\"#FFA15A\",\"#19d3f3\",\"#FF6692\",\"#B6E880\",\"#FF97FF\",\"#FECB52\"],\"font\":{\"color\":\"#2a3f5f\"},\"geo\":{\"bgcolor\":\"white\",\"lakecolor\":\"white\",\"landcolor\":\"#E5ECF6\",\"showlakes\":true,\"showland\":true,\"subunitcolor\":\"white\"},\"hoverlabel\":{\"align\":\"left\"},\"hovermode\":\"closest\",\"mapbox\":{\"style\":\"light\"},\"paper_bgcolor\":\"white\",\"plot_bgcolor\":\"#E5ECF6\",\"polar\":{\"angularaxis\":{\"gridcolor\":\"white\",\"linecolor\":\"white\",\"ticks\":\"\"},\"bgcolor\":\"#E5ECF6\",\"radialaxis\":{\"gridcolor\":\"white\",\"linecolor\":\"white\",\"ticks\":\"\"}},\"scene\":{\"xaxis\":{\"backgroundcolor\":\"#E5ECF6\",\"gridcolor\":\"white\",\"gridwidth\":2,\"linecolor\":\"white\",\"showbackground\":true,\"ticks\":\"\",\"zerolinecolor\":\"white\"},\"yaxis\":{\"backgroundcolor\":\"#E5ECF6\",\"gridcolor\":\"white\",\"gridwidth\":2,\"linecolor\":\"white\",\"showbackground\":true,\"ticks\":\"\",\"zerolinecolor\":\"white\"},\"zaxis\":{\"backgroundcolor\":\"#E5ECF6\",\"gridcolor\":\"white\",\"gridwidth\":2,\"linecolor\":\"white\",\"showbackground\":true,\"ticks\":\"\",\"zerolinecolor\":\"white\"}},\"shapedefaults\":{\"line\":{\"color\":\"#2a3f5f\"}},\"ternary\":{\"aaxis\":{\"gridcolor\":\"white\",\"linecolor\":\"white\",\"ticks\":\"\"},\"baxis\":{\"gridcolor\":\"white\",\"linecolor\":\"white\",\"ticks\":\"\"},\"bgcolor\":\"#E5ECF6\",\"caxis\":{\"gridcolor\":\"white\",\"linecolor\":\"white\",\"ticks\":\"\"}},\"title\":{\"x\":0.05},\"xaxis\":{\"automargin\":true,\"gridcolor\":\"white\",\"linecolor\":\"white\",\"ticks\":\"\",\"title\":{\"standoff\":15},\"zerolinecolor\":\"white\",\"zerolinewidth\":2},\"yaxis\":{\"automargin\":true,\"gridcolor\":\"white\",\"linecolor\":\"white\",\"ticks\":\"\",\"title\":{\"standoff\":15},\"zerolinecolor\":\"white\",\"zerolinewidth\":2}}}},                        {\"responsive\": true}                    ).then(function(){\n",
       "                            \n",
       "var gd = document.getElementById('6c0ff614-f997-499b-9ecc-25ce19e704ad');\n",
       "var x = new MutationObserver(function (mutations, observer) {{\n",
       "        var display = window.getComputedStyle(gd).display;\n",
       "        if (!display || display === 'none') {{\n",
       "            console.log([gd, 'removed!']);\n",
       "            Plotly.purge(gd);\n",
       "            observer.disconnect();\n",
       "        }}\n",
       "}});\n",
       "\n",
       "// Listen for the removal of the full notebook cells\n",
       "var notebookContainer = gd.closest('#notebook-container');\n",
       "if (notebookContainer) {{\n",
       "    x.observe(notebookContainer, {childList: true});\n",
       "}}\n",
       "\n",
       "// Listen for the clearing of the current output cell\n",
       "var outputEl = gd.closest('.output');\n",
       "if (outputEl) {{\n",
       "    x.observe(outputEl, {childList: true});\n",
       "}}\n",
       "\n",
       "                        })                };                });            </script>        </div>"
      ]
     },
     "metadata": {},
     "output_type": "display_data"
    }
   ],
   "source": [
    "phase_diagram_4 = CompoundPhaseDiagram(entries,[Composition(\"Co\"),\n",
    "                                                Composition(\"S\"),\n",
    "                                                Composition(\"O2\")])\n",
    "#CompoundPhaseDiagram:-Generates phase diagrams from compounds as terminations instead of elements\n",
    "\n",
    "\n",
    "#get_plot and show:- Draw the phase diagram using Plotly (or Matplotlib) and show it.\n",
    "\n",
    "compound_plotter_4 = PDPlotter(phase_diagram_4, show_unstable=True, markerize=20)\n",
    "z = compound_plotter_4.get_plot(phase_diagram_4, label_unstable=True)\n",
    "z.show()"
   ]
  },
  {
   "cell_type": "code",
   "execution_count": null,
   "id": "1528ec44",
   "metadata": {},
   "outputs": [],
   "source": []
  },
  {
   "cell_type": "code",
   "execution_count": null,
   "id": "f406c678",
   "metadata": {},
   "outputs": [],
   "source": []
  }
 ],
 "metadata": {
  "kernelspec": {
   "display_name": "Python 3 (ipykernel)",
   "language": "python",
   "name": "python3"
  },
  "language_info": {
   "codemirror_mode": {
    "name": "ipython",
    "version": 3
   },
   "file_extension": ".py",
   "mimetype": "text/x-python",
   "name": "python",
   "nbconvert_exporter": "python",
   "pygments_lexer": "ipython3",
   "version": "3.11.7"
  }
 },
 "nbformat": 4,
 "nbformat_minor": 5
}
